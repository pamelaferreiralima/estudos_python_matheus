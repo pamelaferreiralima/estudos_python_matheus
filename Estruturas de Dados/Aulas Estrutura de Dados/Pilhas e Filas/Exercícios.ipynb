{
 "cells": [
  {
   "cell_type": "markdown",
   "id": "5694e8ca",
   "metadata": {},
   "source": [
    "### Exercícios\n",
    "\n",
    "3. Dado duas filas f1 e f2 contendo números inteiros e dado uma pilha p. Percorrer as filas, alternadamente, e se for encontrado um número par, incluir na pilha. Caso contrário, excluir um elemento da pilha."
   ]
  },
  {
   "cell_type": "code",
   "execution_count": 29,
   "id": "08c67c04",
   "metadata": {},
   "outputs": [],
   "source": [
    "class Queue:\n",
    "    def __init__(self):\n",
    "        self.items = []\n",
    "\n",
    "    def is_empty(self):\n",
    "        return self.items == []\n",
    "\n",
    "    def enqueue(self, item):\n",
    "        self.items.insert(0, item)\n",
    "\n",
    "    def dequeue(self):\n",
    "        return self.items.pop()\n",
    "\n",
    "    def size(self):\n",
    "        return len(self.items)"
   ]
  },
  {
   "cell_type": "code",
   "execution_count": 48,
   "id": "652d2502",
   "metadata": {},
   "outputs": [],
   "source": [
    "class Stack:\n",
    "    def __init__(self):\n",
    "        self.items = []\n",
    "\n",
    "    def is_empty(self):\n",
    "        return self.items == []\n",
    "\n",
    "    def push(self, item):\n",
    "        self.items.insert(0, item)\n",
    "\n",
    "    def pop(self):\n",
    "        return self.items.pop(0)\n",
    "\n",
    "    def peek(self):\n",
    "        return self.items[0]\n",
    "\n",
    "    def size(self):\n",
    "        return len(self.items)"
   ]
  },
  {
   "cell_type": "code",
   "execution_count": 47,
   "id": "7af54d2a",
   "metadata": {},
   "outputs": [
    {
     "name": "stdout",
     "output_type": "stream",
     "text": [
      "10 8 6 4 2 0 -2 -4 -6 -8 -10 \n",
      "10 8 6 4 2 0 "
     ]
    }
   ],
   "source": [
    "# 1. Dado uma fila de inteiros, escreva um programa que exclua todos os inteiros negativos e mostre a fila no final\n",
    "\n",
    "fila1 = Queue()\n",
    "fila2 = Queue()\n",
    "\n",
    "for i in range(10, -11, -2):\n",
    "    print(i, end = \" \")\n",
    "    fila1.enqueue(i)\n",
    "    \n",
    "print()\n",
    "\n",
    "while not fila1.is_empty():\n",
    "    valor = fila1.dequeue()\n",
    "    \n",
    "    if valor >= 0:\n",
    "        fila2.enqueue(valor)\n",
    "        print(valor, end = \" \")"
   ]
  },
  {
   "cell_type": "code",
   "execution_count": null,
   "id": "7b1213fe",
   "metadata": {},
   "outputs": [],
   "source": [
    "# 2. Escreva um programa que inverta o conteúdo de uma fila \n",
    "# (utilize uma pilha para realizar esse exerício)\n",
    "\n"
   ]
  },
  {
   "cell_type": "code",
   "execution_count": null,
   "id": "c0200c5c",
   "metadata": {},
   "outputs": [],
   "source": []
  },
  {
   "cell_type": "code",
   "execution_count": null,
   "id": "9558fb85",
   "metadata": {},
   "outputs": [],
   "source": []
  }
 ],
 "metadata": {
  "kernelspec": {
   "display_name": "Python 3 (ipykernel)",
   "language": "python",
   "name": "python3"
  },
  "language_info": {
   "codemirror_mode": {
    "name": "ipython",
    "version": 3
   },
   "file_extension": ".py",
   "mimetype": "text/x-python",
   "name": "python",
   "nbconvert_exporter": "python",
   "pygments_lexer": "ipython3",
   "version": "3.9.12"
  }
 },
 "nbformat": 4,
 "nbformat_minor": 5
}
