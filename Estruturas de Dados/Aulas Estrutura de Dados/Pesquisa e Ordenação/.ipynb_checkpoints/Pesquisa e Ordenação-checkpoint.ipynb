{
 "cells": [
  {
   "cell_type": "markdown",
   "id": "8c13936a",
   "metadata": {},
   "source": [
    "### Pesquisa e Ordenação\n",
    "- 1º Sequencial\n",
    "- 2º Binária"
   ]
  },
  {
   "cell_type": "code",
   "execution_count": 1,
   "id": "60e63996",
   "metadata": {},
   "outputs": [
    {
     "data": {
      "text/plain": [
       "False"
      ]
     },
     "execution_count": 1,
     "metadata": {},
     "output_type": "execute_result"
    }
   ],
   "source": [
    "15 in [2, 3, 5, 4, 6, 8]"
   ]
  },
  {
   "cell_type": "code",
   "execution_count": 3,
   "id": "c4654f5e",
   "metadata": {},
   "outputs": [
    {
     "data": {
      "text/plain": [
       "True"
      ]
     },
     "execution_count": 3,
     "metadata": {},
     "output_type": "execute_result"
    }
   ],
   "source": [
    "2 in [2, 3, 4, 5, 6, 8]"
   ]
  },
  {
   "cell_type": "markdown",
   "id": "f00dd962",
   "metadata": {},
   "source": [
    "#### Busca Sequencial"
   ]
  },
  {
   "cell_type": "code",
   "execution_count": 7,
   "id": "421536f3",
   "metadata": {},
   "outputs": [],
   "source": [
    "def sequential_search(a_list, item):\n",
    "    pos = 0\n",
    "    found = False\n",
    "    \n",
    "    while pos < len(a_list) and not found:\n",
    "        if a_list[pos] == item:\n",
    "            found = True\n",
    "        else:\n",
    "            pos += 1\n",
    "    return found"
   ]
  },
  {
   "cell_type": "code",
   "execution_count": null,
   "id": "5bf74e06",
   "metadata": {},
   "outputs": [],
   "source": [
    "# utilizado para listas ordenadas. \n",
    "def sequential_search(a_list, item):\n",
    "    pos = 0\n",
    "    found = False\n",
    "    stop = False\n",
    "    \n",
    "    while pos < len(a_list) and not found and not stop:\n",
    "        if a_list[pos] == item:\n",
    "            found = True\n",
    "        else:\n",
    "            if a_list[pos] > item:\n",
    "                stop = True\n",
    "            else:\n",
    "                pos += 1\n",
    "                \n",
    "    return found"
   ]
  },
  {
   "cell_type": "code",
   "execution_count": 12,
   "id": "40044e6a",
   "metadata": {},
   "outputs": [],
   "source": [
    "teste_list = [1, 3, 5, 7, 8, 0 , 10, 15, 25]\n",
    "teste_list_order = [0, 1, 2, 3, 4, 5, 7, 8, 10, 11, 13, 15, 20, 25]"
   ]
  },
  {
   "cell_type": "code",
   "execution_count": 14,
   "id": "4074c917",
   "metadata": {},
   "outputs": [
    {
     "name": "stdout",
     "output_type": "stream",
     "text": [
      "False\n",
      "True\n",
      "True\n",
      "False\n"
     ]
    }
   ],
   "source": [
    "print(sequential_search(teste_list, 4))\n",
    "print(sequential_search(teste_list, 10))\n",
    "print(sequential_search(teste_list_order, 10))\n",
    "print(sequential_search(teste_list_order, 30))"
   ]
  },
  {
   "cell_type": "markdown",
   "id": "fdaf6f07",
   "metadata": {},
   "source": [
    "#### Busca Binária"
   ]
  },
  {
   "cell_type": "code",
   "execution_count": null,
   "id": "2de98d32",
   "metadata": {},
   "outputs": [],
   "source": []
  },
  {
   "cell_type": "code",
   "execution_count": null,
   "id": "0548d3c0",
   "metadata": {},
   "outputs": [],
   "source": []
  },
  {
   "cell_type": "code",
   "execution_count": null,
   "id": "b4b9b2fe",
   "metadata": {},
   "outputs": [],
   "source": []
  },
  {
   "cell_type": "markdown",
   "id": "2b7ef9a3",
   "metadata": {},
   "source": [
    "#### Tipos de Ordenação"
   ]
  },
  {
   "cell_type": "code",
   "execution_count": null,
   "id": "cf812079",
   "metadata": {},
   "outputs": [],
   "source": []
  },
  {
   "cell_type": "code",
   "execution_count": null,
   "id": "cb298685",
   "metadata": {},
   "outputs": [],
   "source": []
  },
  {
   "cell_type": "code",
   "execution_count": null,
   "id": "e79aafa3",
   "metadata": {},
   "outputs": [],
   "source": []
  },
  {
   "cell_type": "code",
   "execution_count": null,
   "id": "4f8b50cf",
   "metadata": {},
   "outputs": [],
   "source": []
  }
 ],
 "metadata": {
  "kernelspec": {
   "display_name": "Python 3 (ipykernel)",
   "language": "python",
   "name": "python3"
  },
  "language_info": {
   "codemirror_mode": {
    "name": "ipython",
    "version": 3
   },
   "file_extension": ".py",
   "mimetype": "text/x-python",
   "name": "python",
   "nbconvert_exporter": "python",
   "pygments_lexer": "ipython3",
   "version": "3.9.12"
  }
 },
 "nbformat": 4,
 "nbformat_minor": 5
}
