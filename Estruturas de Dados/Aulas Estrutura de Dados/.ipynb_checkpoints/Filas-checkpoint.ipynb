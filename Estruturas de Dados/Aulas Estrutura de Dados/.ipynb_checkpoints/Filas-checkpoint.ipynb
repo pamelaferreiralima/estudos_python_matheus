{
 "cells": [
  {
   "cell_type": "markdown",
   "id": "1c452d14",
   "metadata": {},
   "source": [
    "## Filas\n",
    "\n",
    "1. Obedece a regra FIFO (_First In, First Out_)\n",
    "- Utilizado para manter os dados recebidos na ordem de requerimento. Processamento de arquivos, Processos de Negócios (_ordem/sequência [das coisas] em prol de gerar uma saída_)\n",
    "- Sua implementação é baseada no método .list()\n",
    "- Entrada --> O(n)\n",
    "- Saída --> O(1)"
   ]
  },
  {
   "cell_type": "code",
   "execution_count": null,
   "id": "60d0c743",
   "metadata": {},
   "outputs": [],
   "source": []
  }
 ],
 "metadata": {
  "kernelspec": {
   "display_name": "Python 3 (ipykernel)",
   "language": "python",
   "name": "python3"
  },
  "language_info": {
   "codemirror_mode": {
    "name": "ipython",
    "version": 3
   },
   "file_extension": ".py",
   "mimetype": "text/x-python",
   "name": "python",
   "nbconvert_exporter": "python",
   "pygments_lexer": "ipython3",
   "version": "3.9.12"
  }
 },
 "nbformat": 4,
 "nbformat_minor": 5
}
