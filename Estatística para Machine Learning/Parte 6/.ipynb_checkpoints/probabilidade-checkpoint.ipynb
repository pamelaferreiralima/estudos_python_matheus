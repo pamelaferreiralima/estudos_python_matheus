{
 "cells": [
  {
   "cell_type": "markdown",
   "id": "901b2221",
   "metadata": {},
   "source": [
    "## Probabilidade"
   ]
  },
  {
   "cell_type": "markdown",
   "id": "19318503",
   "metadata": {},
   "source": [
    "Por exemplo, o ato de jogar uma moeda, as chances de se obter cara ou coroa é de 50%. Isso é conhecido como **tria** ou **experimento**; Um outro exemplo qual a chance de se obter um valor único em um dado de 6 faces? Seguindo a mesma lógica, teremos o valor de 16%. A soma de todos os eventos é chamado de *Espaço Amostral*\n",
    "\n",
    "\n",
    "$P = \\frac{n(E)}{n(EA)}$"
   ]
  },
  {
   "cell_type": "markdown",
   "id": "1a8caf71",
   "metadata": {},
   "source": [
    "#### Permutação\n",
    "\n",
    "1. Quais as permutações possiveis para as letras A, B e C? 3 letras, portanto 3x2x1 = 6 permutações/combinações. Utilizamos portanto o fatorial"
   ]
  },
  {
   "cell_type": "code",
   "execution_count": 1,
   "id": "7462c893",
   "metadata": {},
   "outputs": [],
   "source": [
    "import numpy as np\n",
    "from scipy import stats\n",
    "import seaborn as sns\n",
    "import math"
   ]
  },
  {
   "cell_type": "code",
   "execution_count": 2,
   "id": "380ac644",
   "metadata": {},
   "outputs": [
    {
     "data": {
      "text/plain": [
       "362880"
      ]
     },
     "execution_count": 2,
     "metadata": {},
     "output_type": "execute_result"
    }
   ],
   "source": [
    "math.factorial(9)"
   ]
  },
  {
   "cell_type": "code",
   "execution_count": 5,
   "id": "8cd1c65b",
   "metadata": {},
   "outputs": [
    {
     "data": {
      "text/plain": [
       "45239040.0"
      ]
     },
     "execution_count": 5,
     "metadata": {},
     "output_type": "execute_result"
    }
   ],
   "source": [
    "# quando não pode repetir\n",
    "math.factorial(36) / math.factorial(36 - 5)"
   ]
  },
  {
   "cell_type": "code",
   "execution_count": 6,
   "id": "49910c46",
   "metadata": {},
   "outputs": [
    {
     "data": {
      "text/plain": [
       "60466176.0"
      ]
     },
     "execution_count": 6,
     "metadata": {},
     "output_type": "execute_result"
    }
   ],
   "source": [
    "# quando podem repetir\n",
    "math.pow(36, 5)"
   ]
  },
  {
   "cell_type": "markdown",
   "id": "4ba7a729",
   "metadata": {},
   "source": [
    "#### Combinação\n",
    "A ordem não importa\n",
    "#### Fórmula utilizada para combinações em que as repetições não ocorrem\n",
    "$C{(nr)} = \\frac{n!}{r!(n - r)!}$ "
   ]
  },
  {
   "cell_type": "code",
   "execution_count": 11,
   "id": "8860faf8",
   "metadata": {},
   "outputs": [
    {
     "data": {
      "text/plain": [
       "720"
      ]
     },
     "execution_count": 11,
     "metadata": {},
     "output_type": "execute_result"
    }
   ],
   "source": [
    "## Quantas combinações de 2 letras são possíveis com as letras ABCDEF?\n",
    "\n",
    "math.factorial(6)"
   ]
  },
  {
   "cell_type": "code",
   "execution_count": 9,
   "id": "f746d04a",
   "metadata": {},
   "outputs": [
    {
     "data": {
      "text/plain": [
       "2"
      ]
     },
     "execution_count": 9,
     "metadata": {},
     "output_type": "execute_result"
    }
   ],
   "source": [
    "math.factorial(2)"
   ]
  },
  {
   "cell_type": "code",
   "execution_count": 10,
   "id": "c01a86cf",
   "metadata": {},
   "outputs": [
    {
     "data": {
      "text/plain": [
       "24"
      ]
     },
     "execution_count": 10,
     "metadata": {},
     "output_type": "execute_result"
    }
   ],
   "source": [
    "math.factorial(6 - 2)"
   ]
  },
  {
   "cell_type": "code",
   "execution_count": 13,
   "id": "f7ae730d",
   "metadata": {},
   "outputs": [],
   "source": [
    "comb1 = math.factorial(6) / (math.factorial(2) * math.factorial(6 - 2))"
   ]
  },
  {
   "cell_type": "markdown",
   "id": "ec7960c4",
   "metadata": {},
   "source": [
    "#### Fórmula utilizada para combinações em que as repetições  ocorrem\n",
    "$C{(nr)} = \\frac{(n + r - 1)!}{r!(n - 1)!}$ "
   ]
  },
  {
   "cell_type": "code",
   "execution_count": 14,
   "id": "3886c335",
   "metadata": {},
   "outputs": [],
   "source": [
    "comb2 = math.factorial(6 + 2 - 1) / (math.factorial(2) * math.factorial(6 - 1))"
   ]
  },
  {
   "cell_type": "code",
   "execution_count": 16,
   "id": "0d12796d",
   "metadata": {},
   "outputs": [
    {
     "data": {
      "text/plain": [
       "False"
      ]
     },
     "execution_count": 16,
     "metadata": {},
     "output_type": "execute_result"
    }
   ],
   "source": [
    "# Mostramos que os valores das combinações são diferentes!\n",
    "comb1 == comb2"
   ]
  },
  {
   "cell_type": "markdown",
   "id": "98aac774",
   "metadata": {},
   "source": [
    "### Intersecção"
   ]
  },
  {
   "cell_type": "code",
   "execution_count": 17,
   "id": "f6e350a2",
   "metadata": {},
   "outputs": [],
   "source": [
    "a = (0,1,2,3,4,5,6,7)\n",
    "b = (0,2,4,6,8)"
   ]
  },
  {
   "cell_type": "code",
   "execution_count": 18,
   "id": "b715dba4",
   "metadata": {},
   "outputs": [
    {
     "data": {
      "text/plain": [
       "{0, 2, 4, 6, 8}"
      ]
     },
     "execution_count": 18,
     "metadata": {},
     "output_type": "execute_result"
    }
   ],
   "source": [
    "set(a) and set(b)"
   ]
  },
  {
   "cell_type": "code",
   "execution_count": 19,
   "id": "3f912a41",
   "metadata": {},
   "outputs": [
    {
     "data": {
      "text/plain": [
       "{0, 1, 2, 3, 4, 5, 6, 7, 8}"
      ]
     },
     "execution_count": 19,
     "metadata": {},
     "output_type": "execute_result"
    }
   ],
   "source": [
    "# UNIÃO\n",
    "set(a) | set(b)"
   ]
  },
  {
   "cell_type": "code",
   "execution_count": 20,
   "id": "20f8238a",
   "metadata": {},
   "outputs": [
    {
     "data": {
      "text/plain": [
       "{1, 3, 5, 7}"
      ]
     },
     "execution_count": 20,
     "metadata": {},
     "output_type": "execute_result"
    }
   ],
   "source": [
    "set(a).difference(set(b))"
   ]
  },
  {
   "cell_type": "code",
   "execution_count": 21,
   "id": "14924853",
   "metadata": {},
   "outputs": [
    {
     "data": {
      "text/plain": [
       "{8}"
      ]
     },
     "execution_count": 21,
     "metadata": {},
     "output_type": "execute_result"
    }
   ],
   "source": [
    "set(b).difference(set(a))"
   ]
  },
  {
   "cell_type": "markdown",
   "id": "e3283b5f",
   "metadata": {},
   "source": [
    "### Eventos Independentes e Dependentes"
   ]
  },
  {
   "cell_type": "code",
   "execution_count": null,
   "id": "a03e08eb",
   "metadata": {},
   "outputs": [],
   "source": []
  },
  {
   "cell_type": "code",
   "execution_count": null,
   "id": "07d88d64",
   "metadata": {},
   "outputs": [],
   "source": []
  },
  {
   "cell_type": "code",
   "execution_count": null,
   "id": "7e978c91",
   "metadata": {},
   "outputs": [],
   "source": []
  },
  {
   "cell_type": "code",
   "execution_count": null,
   "id": "8ecf77f0",
   "metadata": {},
   "outputs": [],
   "source": []
  },
  {
   "cell_type": "code",
   "execution_count": null,
   "id": "8446c92b",
   "metadata": {},
   "outputs": [],
   "source": []
  },
  {
   "cell_type": "code",
   "execution_count": null,
   "id": "8d1abd49",
   "metadata": {},
   "outputs": [],
   "source": []
  },
  {
   "cell_type": "code",
   "execution_count": null,
   "id": "831f1aa9",
   "metadata": {},
   "outputs": [],
   "source": []
  },
  {
   "cell_type": "code",
   "execution_count": null,
   "id": "96e6902b",
   "metadata": {},
   "outputs": [],
   "source": []
  },
  {
   "cell_type": "code",
   "execution_count": null,
   "id": "e8b009ed",
   "metadata": {},
   "outputs": [],
   "source": []
  },
  {
   "cell_type": "code",
   "execution_count": null,
   "id": "e4f90659",
   "metadata": {},
   "outputs": [],
   "source": []
  },
  {
   "cell_type": "code",
   "execution_count": null,
   "id": "f8673f68",
   "metadata": {},
   "outputs": [],
   "source": []
  },
  {
   "cell_type": "code",
   "execution_count": null,
   "id": "305c8903",
   "metadata": {},
   "outputs": [],
   "source": []
  }
 ],
 "metadata": {
  "kernelspec": {
   "display_name": "Python 3 (ipykernel)",
   "language": "python",
   "name": "python3"
  },
  "language_info": {
   "codemirror_mode": {
    "name": "ipython",
    "version": 3
   },
   "file_extension": ".py",
   "mimetype": "text/x-python",
   "name": "python",
   "nbconvert_exporter": "python",
   "pygments_lexer": "ipython3",
   "version": "3.9.12"
  }
 },
 "nbformat": 4,
 "nbformat_minor": 5
}
