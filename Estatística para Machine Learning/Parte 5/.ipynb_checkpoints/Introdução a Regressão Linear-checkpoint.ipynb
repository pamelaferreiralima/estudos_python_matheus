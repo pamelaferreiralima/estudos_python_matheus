{
 "cells": [
  {
   "cell_type": "markdown",
   "id": "3136a1ca",
   "metadata": {},
   "source": [
    "### Introdução básica para Regressão Linear"
   ]
  },
  {
   "cell_type": "markdown",
   "id": "4c5ff772",
   "metadata": {},
   "source": [
    "$y = b0 + b1 * x1$\n",
    "- b0 = constante\n",
    "- b1 = coeficiente angular\n",
    "- y = o que quero prever\n",
    "- x1 = variável utilizada para prever y"
   ]
  },
  {
   "cell_type": "code",
   "execution_count": null,
   "id": "43790d2f",
   "metadata": {},
   "outputs": [],
   "source": []
  }
 ],
 "metadata": {
  "kernelspec": {
   "display_name": "Python 3 (ipykernel)",
   "language": "python",
   "name": "python3"
  },
  "language_info": {
   "codemirror_mode": {
    "name": "ipython",
    "version": 3
   },
   "file_extension": ".py",
   "mimetype": "text/x-python",
   "name": "python",
   "nbconvert_exporter": "python",
   "pygments_lexer": "ipython3",
   "version": "3.9.12"
  }
 },
 "nbformat": 4,
 "nbformat_minor": 5
}
