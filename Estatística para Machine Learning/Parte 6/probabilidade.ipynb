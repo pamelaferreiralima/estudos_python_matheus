{
 "cells": [
  {
   "cell_type": "markdown",
   "id": "47ad5ea4",
   "metadata": {},
   "source": [
    "## Probabilidade"
   ]
  },
  {
   "cell_type": "markdown",
   "id": "082e3f85",
   "metadata": {},
   "source": [
    "Por exemplo, o ato de jogar uma moeda, as chances de se obter cara ou coroa é de 50%. Isso é conhecido como **tria** ou **experimento**; Um outro exemplo qual a chance de se obter um valor único em um dado de 6 faces? Seguindo a mesma lógica, teremos o valor de 16%. A soma de todos os eventos é chamado de *Espaço Amostral*\n",
    "\n",
    "\n",
    "$P = \\frac{n(E)}{n(EA)}$"
   ]
  },
  {
   "cell_type": "markdown",
   "id": "2a4676bd",
   "metadata": {},
   "source": [
    "#### Permutação\n",
    "\n",
    "1. Quais as permutações possiveis para as letras A, B e C? 3 letras, portanto 3x2x1 = 6 permutações/combinações. Utilizamos portanto o fatorial"
   ]
  },
  {
   "cell_type": "code",
   "execution_count": 1,
   "id": "ff37e2b9",
   "metadata": {},
   "outputs": [],
   "source": [
    "import numpy as np\n",
    "from scipy import stats\n",
    "import seaborn as sns\n",
    "import math"
   ]
  },
  {
   "cell_type": "code",
   "execution_count": 2,
   "id": "118de68b",
   "metadata": {},
   "outputs": [
    {
     "data": {
      "text/plain": [
       "362880"
      ]
     },
     "execution_count": 2,
     "metadata": {},
     "output_type": "execute_result"
    }
   ],
   "source": [
    "math.factorial(9)"
   ]
  },
  {
   "cell_type": "code",
   "execution_count": 5,
   "id": "f341de8f",
   "metadata": {},
   "outputs": [
    {
     "data": {
      "text/plain": [
       "45239040.0"
      ]
     },
     "execution_count": 5,
     "metadata": {},
     "output_type": "execute_result"
    }
   ],
   "source": [
    "# quando não pode repetir\n",
    "math.factorial(36) / math.factorial(36 - 5)"
   ]
  },
  {
   "cell_type": "code",
   "execution_count": 6,
   "id": "e2592a6b",
   "metadata": {},
   "outputs": [
    {
     "data": {
      "text/plain": [
       "60466176.0"
      ]
     },
     "execution_count": 6,
     "metadata": {},
     "output_type": "execute_result"
    }
   ],
   "source": [
    "# quando podem repetir\n",
    "math.pow(36, 5)"
   ]
  },
  {
   "cell_type": "markdown",
   "id": "352a29ff",
   "metadata": {},
   "source": [
    "#### Combinação\n",
    "A ordem não importa\n",
    "#### Fórmula utilizada para combinaçõe\n",
    "$C{(nr)} = \\frac{n!}{r!(n - r)!}$ "
   ]
  },
  {
   "cell_type": "code",
   "execution_count": 11,
   "id": "f274cd86",
   "metadata": {},
   "outputs": [
    {
     "data": {
      "text/plain": [
       "720"
      ]
     },
     "execution_count": 11,
     "metadata": {},
     "output_type": "execute_result"
    }
   ],
   "source": [
    "## Quantas combinações de 2 letras são possíveis com as letras ABCDEF?\n",
    "\n",
    "math.factorial(6)"
   ]
  },
  {
   "cell_type": "code",
   "execution_count": 9,
   "id": "8c732c01",
   "metadata": {},
   "outputs": [
    {
     "data": {
      "text/plain": [
       "2"
      ]
     },
     "execution_count": 9,
     "metadata": {},
     "output_type": "execute_result"
    }
   ],
   "source": [
    "math.factorial(2)"
   ]
  },
  {
   "cell_type": "code",
   "execution_count": 10,
   "id": "7f0e6a39",
   "metadata": {},
   "outputs": [
    {
     "data": {
      "text/plain": [
       "24"
      ]
     },
     "execution_count": 10,
     "metadata": {},
     "output_type": "execute_result"
    }
   ],
   "source": [
    "math.factorial(6 - 2)"
   ]
  },
  {
   "cell_type": "code",
   "execution_count": 7,
   "id": "b3dcfdc0",
   "metadata": {},
   "outputs": [
    {
     "data": {
      "text/plain": [
       "15.0"
      ]
     },
     "execution_count": 7,
     "metadata": {},
     "output_type": "execute_result"
    }
   ],
   "source": [
    "math.factorial(6) / (math.factorial(2) * math.factorial(6 - 2))"
   ]
  },
  {
   "cell_type": "code",
   "execution_count": null,
   "id": "0312dc70",
   "metadata": {},
   "outputs": [],
   "source": []
  },
  {
   "cell_type": "code",
   "execution_count": null,
   "id": "d69a883c",
   "metadata": {},
   "outputs": [],
   "source": []
  },
  {
   "cell_type": "code",
   "execution_count": null,
   "id": "75dc1f4a",
   "metadata": {},
   "outputs": [],
   "source": []
  },
  {
   "cell_type": "code",
   "execution_count": null,
   "id": "b1885334",
   "metadata": {},
   "outputs": [],
   "source": []
  },
  {
   "cell_type": "code",
   "execution_count": null,
   "id": "4d7bfea2",
   "metadata": {},
   "outputs": [],
   "source": []
  }
 ],
 "metadata": {
  "kernelspec": {
   "display_name": "Python 3 (ipykernel)",
   "language": "python",
   "name": "python3"
  },
  "language_info": {
   "codemirror_mode": {
    "name": "ipython",
    "version": 3
   },
   "file_extension": ".py",
   "mimetype": "text/x-python",
   "name": "python",
   "nbconvert_exporter": "python",
   "pygments_lexer": "ipython3",
   "version": "3.9.12"
  }
 },
 "nbformat": 4,
 "nbformat_minor": 5
}
