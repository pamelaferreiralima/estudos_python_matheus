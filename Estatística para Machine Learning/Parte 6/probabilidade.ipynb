{
 "cells": [
  {
   "cell_type": "markdown",
   "id": "38b89ccd",
   "metadata": {},
   "source": [
    "## Probabilidade"
   ]
  },
  {
   "cell_type": "markdown",
   "id": "2f8d296b",
   "metadata": {},
   "source": [
    "Por exemplo, o ato de jogar uma moeda, as chances de se obter cara ou coroa é de 50%. Isso é conhecido como **tria** ou **experimento**; Um outro exemplo qual a chance de se obter um valor único em um dado de 6 faces? Seguindo a mesma lógica, teremos o valor de 16%. A soma de todos os eventos é chamado de *Espaço Amostral*\n",
    "\n",
    "\n",
    "$P = \\frac{n(E)}{n(EA)}$"
   ]
  },
  {
   "cell_type": "markdown",
   "id": "01e887f4",
   "metadata": {},
   "source": [
    "#### Permutação\n",
    "\n",
    "1. Quais as permutações possiveis para as letras A, B e C? 3 letras, portanto 3x2x1 = 6 permutações/combinações. Utilizamos portanto o fatorial"
   ]
  },
  {
   "cell_type": "code",
   "execution_count": 1,
   "id": "a7021274",
   "metadata": {},
   "outputs": [],
   "source": [
    "import numpy as np\n",
    "from scipy import stats\n",
    "import seaborn as sns\n",
    "import math"
   ]
  },
  {
   "cell_type": "code",
   "execution_count": 2,
   "id": "2f581a3c",
   "metadata": {},
   "outputs": [
    {
     "data": {
      "text/plain": [
       "362880"
      ]
     },
     "execution_count": 2,
     "metadata": {},
     "output_type": "execute_result"
    }
   ],
   "source": [
    "math.factorial(9)"
   ]
  },
  {
   "cell_type": "code",
   "execution_count": 5,
   "id": "4b6caa90",
   "metadata": {},
   "outputs": [
    {
     "data": {
      "text/plain": [
       "45239040.0"
      ]
     },
     "execution_count": 5,
     "metadata": {},
     "output_type": "execute_result"
    }
   ],
   "source": [
    "# quando não pode repetir\n",
    "math.factorial(36) / math.factorial(36 - 5)"
   ]
  },
  {
   "cell_type": "code",
   "execution_count": 6,
   "id": "70421d0d",
   "metadata": {},
   "outputs": [
    {
     "data": {
      "text/plain": [
       "60466176.0"
      ]
     },
     "execution_count": 6,
     "metadata": {},
     "output_type": "execute_result"
    }
   ],
   "source": [
    "# quando podem repetir\n",
    "math.pow(36, 5)"
   ]
  },
  {
   "cell_type": "markdown",
   "id": "48753357",
   "metadata": {},
   "source": [
    "#### Combinação\n",
    "A ordem não importa\n",
    "#### Fórmula utilizada para combinações em que as repetições não ocorrem\n",
    "$C{(nr)} = \\frac{n!}{r!(n - r)!}$ "
   ]
  },
  {
   "cell_type": "code",
   "execution_count": 11,
   "id": "de0235f7",
   "metadata": {},
   "outputs": [
    {
     "data": {
      "text/plain": [
       "720"
      ]
     },
     "execution_count": 11,
     "metadata": {},
     "output_type": "execute_result"
    }
   ],
   "source": [
    "## Quantas combinações de 2 letras são possíveis com as letras ABCDEF?\n",
    "\n",
    "math.factorial(6)"
   ]
  },
  {
   "cell_type": "code",
   "execution_count": 9,
   "id": "86c72d7c",
   "metadata": {},
   "outputs": [
    {
     "data": {
      "text/plain": [
       "2"
      ]
     },
     "execution_count": 9,
     "metadata": {},
     "output_type": "execute_result"
    }
   ],
   "source": [
    "math.factorial(2)"
   ]
  },
  {
   "cell_type": "code",
   "execution_count": 10,
   "id": "9bd09392",
   "metadata": {},
   "outputs": [
    {
     "data": {
      "text/plain": [
       "24"
      ]
     },
     "execution_count": 10,
     "metadata": {},
     "output_type": "execute_result"
    }
   ],
   "source": [
    "math.factorial(6 - 2)"
   ]
  },
  {
   "cell_type": "code",
   "execution_count": 13,
   "id": "4253058d",
   "metadata": {},
   "outputs": [],
   "source": [
    "comb1 = math.factorial(6) / (math.factorial(2) * math.factorial(6 - 2))"
   ]
  },
  {
   "cell_type": "markdown",
   "id": "8e754a00",
   "metadata": {},
   "source": [
    "#### Fórmula utilizada para combinações em que as repetições  ocorrem\n",
    "$C{(nr)} = \\frac{(n + r - 1)!}{r!(n - 1)!}$ "
   ]
  },
  {
   "cell_type": "code",
   "execution_count": 14,
   "id": "bee1b2f3",
   "metadata": {},
   "outputs": [],
   "source": [
    "comb2 = math.factorial(6 + 2 - 1) / (math.factorial(2) * math.factorial(6 - 1))"
   ]
  },
  {
   "cell_type": "code",
   "execution_count": 16,
   "id": "2e30cde8",
   "metadata": {},
   "outputs": [
    {
     "data": {
      "text/plain": [
       "False"
      ]
     },
     "execution_count": 16,
     "metadata": {},
     "output_type": "execute_result"
    }
   ],
   "source": [
    "# Mostramos que os valores das combinações são diferentes!\n",
    "comb1 == comb2"
   ]
  },
  {
   "cell_type": "markdown",
   "id": "6e992859",
   "metadata": {},
   "source": [
    "### Intersecção"
   ]
  },
  {
   "cell_type": "code",
   "execution_count": null,
   "id": "24995496",
   "metadata": {},
   "outputs": [],
   "source": []
  },
  {
   "cell_type": "code",
   "execution_count": null,
   "id": "f6274bd2",
   "metadata": {},
   "outputs": [],
   "source": []
  },
  {
   "cell_type": "code",
   "execution_count": null,
   "id": "8add011e",
   "metadata": {},
   "outputs": [],
   "source": []
  },
  {
   "cell_type": "code",
   "execution_count": null,
   "id": "339d8cf0",
   "metadata": {},
   "outputs": [],
   "source": []
  },
  {
   "cell_type": "code",
   "execution_count": null,
   "id": "c9bee98c",
   "metadata": {},
   "outputs": [],
   "source": []
  },
  {
   "cell_type": "code",
   "execution_count": null,
   "id": "f3add6d4",
   "metadata": {},
   "outputs": [],
   "source": []
  },
  {
   "cell_type": "code",
   "execution_count": null,
   "id": "27758efd",
   "metadata": {},
   "outputs": [],
   "source": []
  },
  {
   "cell_type": "code",
   "execution_count": null,
   "id": "bafa359f",
   "metadata": {},
   "outputs": [],
   "source": []
  },
  {
   "cell_type": "code",
   "execution_count": null,
   "id": "cf9d83fc",
   "metadata": {},
   "outputs": [],
   "source": []
  },
  {
   "cell_type": "code",
   "execution_count": null,
   "id": "294eef81",
   "metadata": {},
   "outputs": [],
   "source": []
  },
  {
   "cell_type": "code",
   "execution_count": null,
   "id": "465de339",
   "metadata": {},
   "outputs": [],
   "source": []
  },
  {
   "cell_type": "code",
   "execution_count": null,
   "id": "355d2ac3",
   "metadata": {},
   "outputs": [],
   "source": []
  },
  {
   "cell_type": "code",
   "execution_count": null,
   "id": "c42c96a7",
   "metadata": {},
   "outputs": [],
   "source": []
  },
  {
   "cell_type": "code",
   "execution_count": null,
   "id": "de188734",
   "metadata": {},
   "outputs": [],
   "source": []
  }
 ],
 "metadata": {
  "kernelspec": {
   "display_name": "Python 3 (ipykernel)",
   "language": "python",
   "name": "python3"
  },
  "language_info": {
   "codemirror_mode": {
    "name": "ipython",
    "version": 3
   },
   "file_extension": ".py",
   "mimetype": "text/x-python",
   "name": "python",
   "nbconvert_exporter": "python",
   "pygments_lexer": "ipython3",
   "version": "3.9.12"
  }
 },
 "nbformat": 4,
 "nbformat_minor": 5
}
