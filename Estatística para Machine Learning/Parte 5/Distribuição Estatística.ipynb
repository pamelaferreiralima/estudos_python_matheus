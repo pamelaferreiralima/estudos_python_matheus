{
 "cells": [
  {
   "cell_type": "markdown",
   "id": "6906f266",
   "metadata": {},
   "source": [
    "### Distribuições Estatísticas\n",
    "1. Vamos focar nas distribuições sem considerar a parte de probabilidade. \n",
    "2. Podemos fazer inferências e observar como os dados estão dispostos.\n",
    "   2.1. Normal\n",
    "   2.2. Gama\n",
    "   2.3. Exponencial\n",
    "   2.4. Uniforme\n",
    "   2.5. Bernoulli\n",
    "   2.6. Binomial\n",
    "   2.7. Poisson"
   ]
  },
  {
   "cell_type": "code",
   "execution_count": 1,
   "id": "adbd7961",
   "metadata": {},
   "outputs": [],
   "source": [
    "### TIPOS DE VARIÁVEIS\n",
    "\n",
    "# Númericas = Números >> Contínuas (números com vírgulas, nº Reais) ou Discretas (nº finitos, inteiro)\n",
    "# Categóricas = \"textos\" >>> Nominal (dados sem ordenação), Ordinais (existe uma ordenação)."
   ]
  },
  {
   "cell_type": "code",
   "execution_count": 2,
   "id": "db8e5801",
   "metadata": {},
   "outputs": [],
   "source": [
    "import numpy as np\n",
    "import seaborn as sns\n",
    "import pandas as pd\n",
    "from scipy import stats"
   ]
  },
  {
   "cell_type": "code",
   "execution_count": 3,
   "id": "099cc777",
   "metadata": {},
   "outputs": [],
   "source": [
    "### Distribuição Normal - Gaussian distribution (bell)\n",
    "dados_normal = stats.norm.rvs(size = 1000, random_state = 1)"
   ]
  },
  {
   "cell_type": "code",
   "execution_count": 4,
   "id": "3d922a7f",
   "metadata": {},
   "outputs": [
    {
     "data": {
      "text/plain": [
       "(-3.053764380426305, 3.9586027040379634)"
      ]
     },
     "execution_count": 4,
     "metadata": {},
     "output_type": "execute_result"
    }
   ],
   "source": [
    "min(dados_normal), max(dados_normal)"
   ]
  },
  {
   "cell_type": "code",
   "execution_count": 5,
   "id": "6ea56042",
   "metadata": {},
   "outputs": [
    {
     "name": "stderr",
     "output_type": "stream",
     "text": [
      "C:\\Users\\Matheus\\anaconda3\\lib\\site-packages\\seaborn\\distributions.py:2619: FutureWarning: `distplot` is a deprecated function and will be removed in a future version. Please adapt your code to use either `displot` (a figure-level function with similar flexibility) or `histplot` (an axes-level function for histograms).\n",
      "  warnings.warn(msg, FutureWarning)\n"
     ]
    },
    {
     "data": {
      "image/png": "[encoded data removed]",
      "text/plain": [
       "<Figure size 432x288 with 1 Axes>"
      ]
     },
     "metadata": {
      "needs_background": "light"
     },
     "output_type": "display_data"
    }
   ],
   "source": [
    "sns.distplot(dados_normal, hist = True, kde = True);"
   ]
  },
  {
   "cell_type": "code",
   "execution_count": 6,
   "id": "c35e07cd",
   "metadata": {},
   "outputs": [
    {
     "data": {
      "text/plain": [
       "(0.03881247615960185,\n",
       " 0.04129258886921605,\n",
       " ModeResult(mode=array([-3.05376438]), count=array([1])),\n",
       " 0.9623691107920885,\n",
       " 0.9810041339322116)"
      ]
     },
     "execution_count": 6,
     "metadata": {},
     "output_type": "execute_result"
    }
   ],
   "source": [
    "dados_normal.mean(), np.median(dados_normal), stats.mode(dados_normal), np.var(dados_normal), np.std(dados_normal)"
   ]
  },
  {
   "cell_type": "code",
   "execution_count": 7,
   "id": "858e642f",
   "metadata": {},
   "outputs": [
    {
     "data": {
      "text/plain": [
       "148"
      ]
     },
     "execution_count": 7,
     "metadata": {},
     "output_type": "execute_result"
    }
   ],
   "source": [
    "np.sum(((dados_normal >= 0.9810041339322116) & (dados_normal <= 0.9810041339322116 + 1)))"
   ]
  },
  {
   "cell_type": "code",
   "execution_count": 8,
   "id": "e362a85d",
   "metadata": {},
   "outputs": [
    {
     "data": {
      "text/plain": [
       "480"
      ]
     },
     "execution_count": 8,
     "metadata": {},
     "output_type": "execute_result"
    }
   ],
   "source": [
    "np.sum(((dados_normal <= 0.9810041339322116) & (dados_normal <= 0.9810041339322116 - 1)))"
   ]
  },
  {
   "cell_type": "code",
   "execution_count": 9,
   "id": "1d151e7b",
   "metadata": {},
   "outputs": [
    {
     "data": {
      "text/plain": [
       "0.628"
      ]
     },
     "execution_count": 9,
     "metadata": {},
     "output_type": "execute_result"
    }
   ],
   "source": [
    "(148 + 480) / 1000"
   ]
  },
  {
   "cell_type": "code",
   "execution_count": 10,
   "id": "c0f101bf",
   "metadata": {},
   "outputs": [],
   "source": [
    "## Utilizando alturas como exemplo\n",
    "\n",
    "dados = np.array([126. , 129.5, 133. , 133. , 136.5, 136.5, 140. , 140. , 140. ,\n",
    "                  140. , 143.5, 143.5, 143.5, 143.5, 143.5, 143.5, 147. , 147. ,\n",
    "                  147. , 147. , 147. , 147. , 147. , 150.5, 150.5, 150.5, 150.5,\n",
    "                  150.5, 150.5, 150.5, 150.5, 154. , 154. , 154. , 154. , 154. ,\n",
    "                  154. , 154. , 154. , 154. , 157.5, 157.5, 157.5, 157.5, 157.5,\n",
    "                  157.5, 157.5, 157.5, 157.5, 157.5, 161. , 161. , 161. , 161. ,\n",
    "                  161. , 161. , 161. , 161. , 161. , 161. , 164.5, 164.5, 164.5,\n",
    "                  164.5, 164.5, 164.5, 164.5, 164.5, 164.5, 168. , 168. , 168. ,\n",
    "                  168. , 168. , 168. , 168. , 168. , 171.5, 171.5, 171.5, 171.5,\n",
    "                  171.5, 171.5, 171.5, 175. , 175. , 175. , 175. , 175. , 175. ,\n",
    "                  178.5, 178.5, 178.5, 178.5, 182. , 182. , 185.5, 185.5, 189., 192.5])"
   ]
  },
  {
   "cell_type": "code",
   "execution_count": 11,
   "id": "e78c4b67",
   "metadata": {},
   "outputs": [
    {
     "data": {
      "text/plain": [
       "100"
      ]
     },
     "execution_count": 11,
     "metadata": {},
     "output_type": "execute_result"
    }
   ],
   "source": [
    "len(dados) # temos dados de 100 pessoas (amostra)"
   ]
  },
  {
   "cell_type": "code",
   "execution_count": 12,
   "id": "67993ea2",
   "metadata": {},
   "outputs": [
    {
     "data": {
      "text/plain": [
       "(126.0, 192.5)"
      ]
     },
     "execution_count": 12,
     "metadata": {},
     "output_type": "execute_result"
    }
   ],
   "source": [
    "min(dados), max(dados)"
   ]
  },
  {
   "cell_type": "code",
   "execution_count": 13,
   "id": "f23543f2",
   "metadata": {},
   "outputs": [
    {
     "data": {
      "text/plain": [
       "66.5"
      ]
     },
     "execution_count": 13,
     "metadata": {},
     "output_type": "execute_result"
    }
   ],
   "source": [
    "# Amplitude dos dados\n",
    "R = max(dados) - min(dados)\n",
    "R"
   ]
  },
  {
   "cell_type": "code",
   "execution_count": 14,
   "id": "af4fae62",
   "metadata": {},
   "outputs": [
    {
     "data": {
      "text/plain": [
       "(159.25,\n",
       " 159.25,\n",
       " ModeResult(mode=array([157.5]), count=array([10])),\n",
       " 186.3225,\n",
       " 13.65)"
      ]
     },
     "execution_count": 14,
     "metadata": {},
     "output_type": "execute_result"
    }
   ],
   "source": [
    "dados.mean(), np.median(dados), stats.mode(dados), np.var(dados), np.std(dados)"
   ]
  },
  {
   "cell_type": "code",
   "execution_count": 15,
   "id": "1a74bedc",
   "metadata": {},
   "outputs": [
    {
     "data": {
      "text/plain": [
       "8.571428571428571"
      ]
     },
     "execution_count": 15,
     "metadata": {},
     "output_type": "execute_result"
    }
   ],
   "source": [
    "CV = (np.std(dados) / dados.mean()) * 100\n",
    "CV"
   ]
  },
  {
   "cell_type": "code",
   "execution_count": 16,
   "id": "a8efcde1",
   "metadata": {},
   "outputs": [
    {
     "data": {
      "text/plain": [
       "8.571428571428571"
      ]
     },
     "execution_count": 16,
     "metadata": {},
     "output_type": "execute_result"
    }
   ],
   "source": [
    "# OU \n",
    "\n",
    "CV2 = stats.variation(dados) * 100\n",
    "CV2"
   ]
  },
  {
   "cell_type": "code",
   "execution_count": 17,
   "id": "59548c9a",
   "metadata": {},
   "outputs": [
    {
     "name": "stderr",
     "output_type": "stream",
     "text": [
      "C:\\Users\\Matheus\\anaconda3\\lib\\site-packages\\seaborn\\distributions.py:2619: FutureWarning: `distplot` is a deprecated function and will be removed in a future version. Please adapt your code to use either `displot` (a figure-level function with similar flexibility) or `histplot` (an axes-level function for histograms).\n",
      "  warnings.warn(msg, FutureWarning)\n"
     ]
    },
    {
     "data": {
      "image/png": "[encoded data removed]",
      "text/plain": [
       "<Figure size 432x288 with 1 Axes>"
      ]
     },
     "metadata": {
      "needs_background": "light"
     },
     "output_type": "display_data"
    }
   ],
   "source": [
    "sns.distplot(dados, hist = True, kde = True);"
   ]
  },
  {
   "cell_type": "markdown",
   "id": "2561f720",
   "metadata": {},
   "source": [
    "### Enviesamento"
   ]
  },
  {
   "cell_type": "code",
   "execution_count": 18,
   "id": "fe70f7eb",
   "metadata": {},
   "outputs": [],
   "source": [
    "from scipy.stats import skewnorm\n",
    "dados_normal = skewnorm.rvs(a = 0, size = 1000)"
   ]
  },
  {
   "cell_type": "code",
   "execution_count": 19,
   "id": "4163f8cb",
   "metadata": {},
   "outputs": [
    {
     "name": "stderr",
     "output_type": "stream",
     "text": [
      "C:\\Users\\Matheus\\anaconda3\\lib\\site-packages\\seaborn\\distributions.py:2619: FutureWarning: `distplot` is a deprecated function and will be removed in a future version. Please adapt your code to use either `displot` (a figure-level function with similar flexibility) or `histplot` (an axes-level function for histograms).\n",
      "  warnings.warn(msg, FutureWarning)\n"
     ]
    },
    {
     "data": {
      "image/png": "[encoded data removed]",
      "text/plain": [
       "<Figure size 432x288 with 1 Axes>"
      ]
     },
     "metadata": {
      "needs_background": "light"
     },
     "output_type": "display_data"
    }
   ],
   "source": [
    "sns.distplot(dados_normal);"
   ]
  },
  {
   "cell_type": "code",
   "execution_count": 20,
   "id": "49075e96",
   "metadata": {},
   "outputs": [
    {
     "data": {
      "text/plain": [
       "(0.03210719169722064,\n",
       " 0.032754875502832244,\n",
       " ModeResult(mode=array([-3.00679433]), count=array([1])))"
      ]
     },
     "execution_count": 20,
     "metadata": {},
     "output_type": "execute_result"
    }
   ],
   "source": [
    "dados_normal.mean(), np.median(dados_normal), stats.mode(dados_normal)"
   ]
  },
  {
   "cell_type": "markdown",
   "id": "1c47008d",
   "metadata": {},
   "source": [
    "#### Não são dados normais apesar da variável conter o nome 'normal'"
   ]
  },
  {
   "cell_type": "code",
   "execution_count": 21,
   "id": "526b2f47",
   "metadata": {},
   "outputs": [
    {
     "name": "stderr",
     "output_type": "stream",
     "text": [
      "C:\\Users\\Matheus\\anaconda3\\lib\\site-packages\\seaborn\\distributions.py:2619: FutureWarning: `distplot` is a deprecated function and will be removed in a future version. Please adapt your code to use either `displot` (a figure-level function with similar flexibility) or `histplot` (an axes-level function for histograms).\n",
      "  warnings.warn(msg, FutureWarning)\n"
     ]
    },
    {
     "data": {
      "image/png": "[encoded data removed]",
      "text/plain": [
       "<Figure size 432x288 with 1 Axes>"
      ]
     },
     "metadata": {
      "needs_background": "light"
     },
     "output_type": "display_data"
    }
   ],
   "source": [
    "dados_normal_positivo = skewnorm.rvs(a = 10, size = 1000)\n",
    "sns.distplot(dados_normal_positivo);"
   ]
  },
  {
   "cell_type": "code",
   "execution_count": 22,
   "id": "439b5e33",
   "metadata": {},
   "outputs": [
    {
     "data": {
      "text/plain": [
       "(0.7864613859185948,\n",
       " 0.6778876109497762,\n",
       " ModeResult(mode=array([-0.18123826]), count=array([1])))"
      ]
     },
     "execution_count": 22,
     "metadata": {},
     "output_type": "execute_result"
    }
   ],
   "source": [
    "dados_normal_positivo.mean(), np.median(dados_normal_positivo), stats.mode(dados_normal_positivo)"
   ]
  },
  {
   "cell_type": "code",
   "execution_count": 23,
   "id": "5b6f5257",
   "metadata": {},
   "outputs": [
    {
     "name": "stderr",
     "output_type": "stream",
     "text": [
      "C:\\Users\\Matheus\\anaconda3\\lib\\site-packages\\seaborn\\distributions.py:2619: FutureWarning: `distplot` is a deprecated function and will be removed in a future version. Please adapt your code to use either `displot` (a figure-level function with similar flexibility) or `histplot` (an axes-level function for histograms).\n",
      "  warnings.warn(msg, FutureWarning)\n"
     ]
    },
    {
     "data": {
      "image/png": "[encoded data removed]",
      "text/plain": [
       "<Figure size 432x288 with 1 Axes>"
      ]
     },
     "metadata": {
      "needs_background": "light"
     },
     "output_type": "display_data"
    }
   ],
   "source": [
    "dados_normal_negativo = skewnorm.rvs(-10, size = 1000)\n",
    "sns.distplot(dados_normal_negativo);"
   ]
  },
  {
   "cell_type": "code",
   "execution_count": 24,
   "id": "e48aa5f3",
   "metadata": {},
   "outputs": [
    {
     "data": {
      "text/plain": [
       "(-0.7601605563020053,\n",
       " -0.6480448397245413,\n",
       " ModeResult(mode=array([-3.43783837]), count=array([1])))"
      ]
     },
     "execution_count": 24,
     "metadata": {},
     "output_type": "execute_result"
    }
   ],
   "source": [
    "dados_normal_negativo.mean(), np.median(dados_normal_negativo), stats.mode(dados_normal_negativo)"
   ]
  },
  {
   "cell_type": "markdown",
   "id": "0fcaee76",
   "metadata": {},
   "source": [
    "1. Distribuição normal padronizada\n",
    "2. Distribuição padronizada --> Média = 0 e DP = 1\n",
    "\n",
    "$Zscore = \\frac {x - média}{DP}$"
   ]
  },
  {
   "cell_type": "code",
   "execution_count": 25,
   "id": "7d89ab69",
   "metadata": {},
   "outputs": [],
   "source": [
    "dados_normal_padronizado = np.random.standard_normal(size = 1000)"
   ]
  },
  {
   "cell_type": "code",
   "execution_count": 26,
   "id": "c3c027f2",
   "metadata": {},
   "outputs": [
    {
     "data": {
      "text/plain": [
       "(-3.945359294452655, 2.9575973759954226)"
      ]
     },
     "execution_count": 26,
     "metadata": {},
     "output_type": "execute_result"
    }
   ],
   "source": [
    "min(dados_normal_padronizado), max(dados_normal_padronizado)"
   ]
  },
  {
   "cell_type": "code",
   "execution_count": 27,
   "id": "5443ead6",
   "metadata": {},
   "outputs": [
    {
     "data": {
      "image/png": "[encoded data removed]",
      "text/plain": [
       "<Figure size 360x360 with 1 Axes>"
      ]
     },
     "metadata": {
      "needs_background": "light"
     },
     "output_type": "display_data"
    }
   ],
   "source": [
    "sns.displot(dados_normal_padronizado);"
   ]
  },
  {
   "cell_type": "code",
   "execution_count": 28,
   "id": "d716d758",
   "metadata": {},
   "outputs": [
    {
     "data": {
      "text/plain": [
       "(0.03906994701470561, 1.0004706294504806)"
      ]
     },
     "execution_count": 28,
     "metadata": {},
     "output_type": "execute_result"
    }
   ],
   "source": [
    "dados_normal_padronizado.mean(), np.std(dados_normal_padronizado)"
   ]
  },
  {
   "cell_type": "code",
   "execution_count": 29,
   "id": "fb023b78",
   "metadata": {},
   "outputs": [
    {
     "data": {
      "text/plain": [
       "array([126. , 129.5, 133. , 133. , 136.5, 136.5, 140. , 140. , 140. ,\n",
       "       140. , 143.5, 143.5, 143.5, 143.5, 143.5, 143.5, 147. , 147. ,\n",
       "       147. , 147. , 147. , 147. , 147. , 150.5, 150.5, 150.5, 150.5,\n",
       "       150.5, 150.5, 150.5, 150.5, 154. , 154. , 154. , 154. , 154. ,\n",
       "       154. , 154. , 154. , 154. , 157.5, 157.5, 157.5, 157.5, 157.5,\n",
       "       157.5, 157.5, 157.5, 157.5, 157.5, 161. , 161. , 161. , 161. ,\n",
       "       161. , 161. , 161. , 161. , 161. , 161. , 164.5, 164.5, 164.5,\n",
       "       164.5, 164.5, 164.5, 164.5, 164.5, 164.5, 168. , 168. , 168. ,\n",
       "       168. , 168. , 168. , 168. , 168. , 171.5, 171.5, 171.5, 171.5,\n",
       "       171.5, 171.5, 171.5, 175. , 175. , 175. , 175. , 175. , 175. ,\n",
       "       178.5, 178.5, 178.5, 178.5, 182. , 182. , 185.5, 185.5, 189. ,\n",
       "       192.5])"
      ]
     },
     "execution_count": 29,
     "metadata": {},
     "output_type": "execute_result"
    }
   ],
   "source": [
    "### Aplicando a técnica para padronização de dados não padronizados.\n",
    "dados"
   ]
  },
  {
   "cell_type": "code",
   "execution_count": 30,
   "id": "0a23d243",
   "metadata": {},
   "outputs": [
    {
     "data": {
      "text/plain": [
       "159.25"
      ]
     },
     "execution_count": 30,
     "metadata": {},
     "output_type": "execute_result"
    }
   ],
   "source": [
    "media = dados.mean()\n",
    "media"
   ]
  },
  {
   "cell_type": "code",
   "execution_count": 31,
   "id": "b82141d8",
   "metadata": {},
   "outputs": [
    {
     "data": {
      "text/plain": [
       "13.65"
      ]
     },
     "execution_count": 31,
     "metadata": {},
     "output_type": "execute_result"
    }
   ],
   "source": [
    "desvio_padrao = np.std(dados)\n",
    "desvio_padrao"
   ]
  },
  {
   "cell_type": "code",
   "execution_count": 32,
   "id": "bcad0e7c",
   "metadata": {},
   "outputs": [
    {
     "data": {
      "text/plain": [
       "array([-2.43589744, -2.17948718, -1.92307692, -1.92307692, -1.66666667,\n",
       "       -1.66666667, -1.41025641, -1.41025641, -1.41025641, -1.41025641,\n",
       "       -1.15384615, -1.15384615, -1.15384615, -1.15384615, -1.15384615,\n",
       "       -1.15384615, -0.8974359 , -0.8974359 , -0.8974359 , -0.8974359 ,\n",
       "       -0.8974359 , -0.8974359 , -0.8974359 , -0.64102564, -0.64102564,\n",
       "       -0.64102564, -0.64102564, -0.64102564, -0.64102564, -0.64102564,\n",
       "       -0.64102564, -0.38461538, -0.38461538, -0.38461538, -0.38461538,\n",
       "       -0.38461538, -0.38461538, -0.38461538, -0.38461538, -0.38461538,\n",
       "       -0.12820513, -0.12820513, -0.12820513, -0.12820513, -0.12820513,\n",
       "       -0.12820513, -0.12820513, -0.12820513, -0.12820513, -0.12820513,\n",
       "        0.12820513,  0.12820513,  0.12820513,  0.12820513,  0.12820513,\n",
       "        0.12820513,  0.12820513,  0.12820513,  0.12820513,  0.12820513,\n",
       "        0.38461538,  0.38461538,  0.38461538,  0.38461538,  0.38461538,\n",
       "        0.38461538,  0.38461538,  0.38461538,  0.38461538,  0.64102564,\n",
       "        0.64102564,  0.64102564,  0.64102564,  0.64102564,  0.64102564,\n",
       "        0.64102564,  0.64102564,  0.8974359 ,  0.8974359 ,  0.8974359 ,\n",
       "        0.8974359 ,  0.8974359 ,  0.8974359 ,  0.8974359 ,  1.15384615,\n",
       "        1.15384615,  1.15384615,  1.15384615,  1.15384615,  1.15384615,\n",
       "        1.41025641,  1.41025641,  1.41025641,  1.41025641,  1.66666667,\n",
       "        1.66666667,  1.92307692,  1.92307692,  2.17948718,  2.43589744])"
      ]
     },
     "execution_count": 32,
     "metadata": {},
     "output_type": "execute_result"
    }
   ],
   "source": [
    "dados_padronizados = ( dados - media ) / desvio_padrao\n",
    "dados_padronizados"
   ]
  },
  {
   "cell_type": "code",
   "execution_count": 33,
   "id": "01e330f5",
   "metadata": {},
   "outputs": [
    {
     "data": {
      "text/plain": [
       "(0.0, 0.9999999999999999)"
      ]
     },
     "execution_count": 33,
     "metadata": {},
     "output_type": "execute_result"
    }
   ],
   "source": [
    "dados_padronizados.mean(), np.std(dados_padronizados)"
   ]
  },
  {
   "cell_type": "code",
   "execution_count": 34,
   "id": "bcfdd2bb",
   "metadata": {},
   "outputs": [
    {
     "data": {
      "image/png": "[encoded data removed]",
      "text/plain": [
       "<Figure size 360x360 with 1 Axes>"
      ]
     },
     "metadata": {
      "needs_background": "light"
     },
     "output_type": "display_data"
    }
   ],
   "source": [
    "sns.displot(dados_padronizados);"
   ]
  },
  {
   "cell_type": "markdown",
   "id": "da2c88ea",
   "metadata": {},
   "source": [
    "### Teorema central do limite\n",
    "1. Quando o tamanho da amostra aumenta a distribuição amostral da sua média aproxima-se cada vez mais de uma distribuição normal"
   ]
  },
  {
   "cell_type": "code",
   "execution_count": 35,
   "id": "7f1e163a",
   "metadata": {},
   "outputs": [
    {
     "data": {
      "text/plain": [
       "(158.796,)"
      ]
     },
     "execution_count": 35,
     "metadata": {},
     "output_type": "execute_result"
    }
   ],
   "source": [
    "alturas = np.random.randint(126, 192, 500)\n",
    "alturas.mean(), "
   ]
  },
  {
   "cell_type": "code",
   "execution_count": 36,
   "id": "5762be98",
   "metadata": {},
   "outputs": [
    {
     "name": "stderr",
     "output_type": "stream",
     "text": [
      "C:\\Users\\Matheus\\anaconda3\\lib\\site-packages\\seaborn\\distributions.py:2619: FutureWarning: `distplot` is a deprecated function and will be removed in a future version. Please adapt your code to use either `displot` (a figure-level function with similar flexibility) or `histplot` (an axes-level function for histograms).\n",
      "  warnings.warn(msg, FutureWarning)\n"
     ]
    },
    {
     "data": {
      "text/plain": [
       "<AxesSubplot:ylabel='Density'>"
      ]
     },
     "execution_count": 36,
     "metadata": {},
     "output_type": "execute_result"
    },
    {
     "data": {
      "image/png": "[encoded data removed]",
      "text/plain": [
       "<Figure size 432x288 with 1 Axes>"
      ]
     },
     "metadata": {
      "needs_background": "light"
     },
     "output_type": "display_data"
    }
   ],
   "source": [
    "sns.distplot(alturas)"
   ]
  },
  {
   "cell_type": "code",
   "execution_count": 37,
   "id": "14c4d61e",
   "metadata": {},
   "outputs": [
    {
     "name": "stdout",
     "output_type": "stream",
     "text": [
      "[157.678, 159.442, 156.986, 159.28, 158.308, 158.058, 159.68, 158.308, 158.39, 157.782, 159.276, 158.21, 158.414, 159.18, 158.84, 158.824, 159.362, 157.738, 156.774, 157.872, 157.084, 157.72, 158.084, 158.168, 159.002, 158.44, 159.436, 159.796, 158.738, 158.31, 159.336, 158.654, 158.564, 158.562, 157.822, 159.27, 158.58, 158.522, 159.012, 158.15, 159.176, 159.186, 159.574, 159.406, 158.976, 158.346, 158.956, 158.088, 157.874, 157.848, 158.696, 159.302, 158.674, 158.364, 158.282, 158.612, 158.79, 158.62, 161.08, 158.464, 159.146, 159.576, 158.28, 157.684, 158.836, 158.542, 160.48, 158.56, 158.42, 157.758, 157.814, 158.724, 160.322, 159.176, 159.888, 158.24, 158.456, 159.23, 159.6, 156.874, 156.016, 157.502, 161.698, 158.816, 159.544, 159.512, 160.376, 159.088, 160.08, 157.1, 157.982, 157.998, 158.844, 156.99, 156.318, 158.634, 160.626, 157.754, 158.086, 157.648, 157.716, 158.792, 158.512, 159.554, 159.232, 160.29, 158.062, 159.868, 158.824, 158.388, 159.048, 159.05, 158.584, 157.026, 157.092, 158.75, 157.234, 159.86, 158.086, 157.31, 157.244, 159.074, 158.638, 159.472, 157.844, 158.574, 156.808, 156.72, 157.994, 158.616, 157.348, 157.204, 158.67, 158.832, 159.112, 159.246, 157.916, 158.24, 156.598, 157.874, 158.198, 158.626, 159.92, 158.814, 158.782, 159.066, 158.288, 157.736, 158.988, 158.714, 158.586, 157.784, 157.444, 159.304, 158.126, 157.892, 157.648, 157.854, 159.202, 159.26, 157.192, 158.852, 157.908, 157.282, 158.352, 156.65, 158.358, 158.702, 158.642, 158.886, 158.808, 158.62, 159.754, 159.392, 158.18, 158.232, 159.256, 158.444, 156.746, 157.734, 157.904, 157.494, 159.082, 158.436, 158.614, 160.736, 158.148, 159.078, 156.826, 158.222, 159.58, 159.782, 159.302, 157.446, 158.772, 158.6, 157.392, 159.438, 158.182, 157.586, 158.6, 158.496, 160.38, 158.56, 159.262, 159.102, 158.498, 157.73, 158.834, 156.622, 157.368, 158.592, 158.25, 159.204, 158.514, 157.838, 158.59, 159.932, 158.396, 159.218, 158.642, 157.702, 159.842, 158.52, 159.02, 158.272, 158.676, 157.594, 159.486, 159.314, 158.358, 159.488, 158.982, 157.44, 158.644, 158.428, 158.622, 158.428, 158.274, 159.434, 157.594, 159.028, 158.614, 159.31, 158.434, 157.984, 157.932, 158.634, 157.896, 158.428, 158.912, 160.116, 158.006, 157.434, 157.476, 158.376, 159.65, 156.792, 158.036, 159.626, 158.748, 157.718, 157.414, 157.956, 157.674, 157.076, 159.258, 158.422, 159.664, 156.566, 159.36, 157.846, 158.728, 159.846, 158.442, 158.388, 159.41, 158.858, 158.242, 158.662, 158.604, 159.09, 159.446, 158.924, 159.136, 158.276, 159.188, 157.912, 158.414, 156.948, 159.708, 158.366, 158.854, 159.45, 158.576, 159.618, 158.656, 159.042, 157.566, 159.246, 159.32, 157.542, 157.836, 158.586, 160.056, 157.24, 157.536, 158.088, 157.392, 157.996, 156.982, 159.628, 158.28, 157.742, 158.678, 158.276, 157.558, 158.04, 158.112, 157.638, 159.586, 158.748, 159.946, 158.272, 158.368, 158.664, 159.752, 157.806, 157.084, 157.892, 157.796, 157.654, 158.904, 158.632, 160.298, 159.186, 156.646, 159.118, 158.902, 158.762, 157.842, 156.744, 159.798, 157.858, 158.666, 158.042, 157.89, 158.272, 157.882, 159.698, 158.624, 158.28, 157.97, 160.878, 159.27, 157.68, 157.948, 160.828, 157.436, 156.664, 158.424, 156.172, 158.572, 157.532, 158.112, 157.542, 158.346, 158.584, 158.716, 160.674, 156.912, 158.478, 159.644, 157.736, 157.828, 160.434, 158.132, 159.27, 156.944, 158.992, 158.274, 158.41, 158.13, 158.68, 157.912, 158.386, 158.694, 158.524, 158.326, 158.322, 159.048, 158.796, 159.33, 158.428, 157.95, 158.372, 159.568, 158.78, 157.198, 158.62, 158.732, 156.796, 158.214, 158.502, 158.06, 157.86, 158.958, 158.694, 159.186, 158.778, 158.73, 158.272, 158.678, 156.918, 158.472, 156.882, 159.582, 158.91, 158.852, 158.66, 158.562, 159.086, 159.22, 157.494, 157.788, 158.194, 158.426, 157.45, 159.272, 158.566, 159.072, 158.854, 159.328, 159.23, 158.536, 158.294, 157.818, 157.756, 157.102, 158.018, 158.114, 160.138, 158.564, 158.97, 158.412, 158.508, 157.944, 157.878, 158.9, 159.414, 159.686, 159.32, 159.046, 158.812, 159.482, 158.834, 158.01, 157.374, 157.882, 159.596, 156.82, 157.5, 157.68, 159.042, 159.382, 158.538, 158.376, 160.386, 158.154, 158.712, 158.186, 158.68, 159.112, 158.354, 160.438, 158.244, 158.116, 158.146, 157.99, 157.922, 157.6, 157.924, 158.914, 159.12, 157.794, 158.118, 158.082, 158.652, 159.81, 157.232, 158.81, 157.816, 158.804, 159.328, 158.022, 158.766, 159.362, 158.678, 159.164, 159.676, 158.772, 158.544, 158.612, 158.618, 158.176, 158.466, 157.572, 160.244, 158.888, 158.636, 158.428, 159.334, 158.704, 157.77, 157.456, 158.41, 159.824, 159.096, 158.26, 158.98, 159.126, 158.01, 156.962, 159.118, 156.95, 158.966, 158.294, 157.794, 158.374, 158.402, 159.454, 159.004, 157.966, 157.016, 158.708, 157.808, 157.652, 158.798, 158.284, 159.872, 158.32, 159.668, 158.928, 159.202, 157.902, 159.664, 159.984, 157.076, 158.508, 158.08, 159.414, 158.986, 158.608, 158.45, 157.356, 159.284, 157.264, 159.978, 157.514, 158.776, 157.488, 157.736, 158.948, 158.546, 157.892, 159.316, 158.348, 158.928, 157.874, 158.838, 158.694, 158.914, 158.492, 157.35, 158.736, 159.206, 157.756, 159.086, 158.746, 158.942, 159.784, 158.374, 158.37, 157.992, 157.998, 157.97, 158.486, 156.486, 157.016, 157.28, 157.72, 157.05, 159.17, 158.3, 158.706, 159.14, 158.556, 159.068, 159.88, 158.252, 159.032, 156.744, 158.148, 158.048, 159.422, 157.824, 157.562, 159.47, 158.426, 160.244, 157.116, 159.178, 157.382, 158.032, 158.706, 157.992, 158.404, 158.002, 158.126, 156.968, 157.802, 159.258, 158.494, 157.91, 158.396, 158.878, 158.304, 157.808, 158.9, 157.806, 159.082, 158.98, 158.746, 158.474, 159.076, 157.604, 158.628, 158.604, 159.552, 158.992, 158.66, 158.406, 157.172, 159.694, 158.224, 158.414, 160.162, 158.59, 160.252, 158.478, 159.392, 159.55, 155.988, 157.32, 158.378, 159.236, 158.198, 155.796, 159.496, 160.038, 160.478, 158.724, 159.636, 157.136, 159.354, 157.612, 159.32, 159.114, 158.632, 158.962, 159.842, 157.732, 157.63, 158.586, 158.8, 158.944, 158.792, 159.964, 158.01, 158.108, 157.922, 158.062, 159.86, 157.332, 157.748, 159.002, 158.29, 158.624, 159.108, 158.772, 159.664, 158.666, 160.17, 158.442, 158.484, 158.064, 157.724, 158.712, 158.018, 157.626, 158.586, 158.784, 157.462, 158.92, 159.248, 157.914, 158.866, 158.488, 156.202, 159.438, 159.186, 157.086, 158.326, 157.93, 158.124, 158.422, 157.944, 159.582, 158.902, 157.668, 158.194, 157.966, 158.562, 158.008, 158.726, 157.896, 157.752, 159.722, 158.834, 158.46, 159.362, 158.52, 158.098, 160.802, 157.55, 159.716, 158.482, 160.14, 158.672, 158.386, 158.462, 158.35, 156.87, 158.466, 157.976, 158.016, 157.132, 159.144, 158.878, 157.334, 158.59, 158.284, 158.98, 157.894, 158.468, 158.054, 159.506, 158.042, 158.944, 159.398, 160.154, 157.956, 157.408, 158.866, 158.602, 158.05, 156.87, 157.928, 158.394, 158.112, 158.222, 158.454, 158.442, 158.884, 157.128, 158.654, 159.04, 157.936, 158.346, 159.112, 158.768, 157.144, 159.278, 158.538, 159.042, 159.056, 159.14, 156.81, 158.952, 159.856, 159.984, 158.88, 159.358, 158.892, 158.086, 158.712, 158.012, 159.076, 157.364, 157.768, 158.836, 158.272, 157.644, 158.934, 157.732, 158.482, 157.816, 159.09, 158.888, 155.87, 158.496, 159.52, 159.846, 159.682, 157.942, 158.96, 158.81, 160.56, 159.09, 158.528, 158.464, 158.708, 159.744, 158.192, 159.856, 158.79, 159.666, 158.144, 157.738, 158.71, 159.096, 157.792, 159.508, 160.662, 159.194, 158.454, 157.196, 158.12, 157.96, 158.618, 158.932, 157.568, 157.996, 158.322, 157.296, 158.752, 158.09, 156.724, 159.68, 156.996, 159.576, 157.218, 159.178, 158.534, 158.846, 158.34, 159.784, 157.55, 158.958, 158.756, 158.01, 158.444, 158.596, 157.102, 158.724, 158.962, 157.842, 157.308, 157.574, 159.552, 159.056, 158.966, 158.156, 158.572, 158.414, 157.692, 159.366, 159.404, 158.38, 157.936, 159.256, 159.044, 158.018, 157.878, 159.922, 158.368, 158.446, 157.782, 157.88, 158.638, 159.272, 158.182, 158.888, 158.908, 156.84, 158.826, 158.578, 158.88, 157.44, 157.596, 159.042, 159.028, 157.554, 159.836, 157.976, 158.308, 158.994, 156.886, 158.124, 157.18, 158.772, 158.796, 158.55, 160.024, 158.93, 159.026, 158.812, 157.672, 158.834, 158.736, 158.428, 158.362, 159.452, 158.522, 159.062, 158.714, 159.152, 160.01, 157.038, 158.434, 157.404, 158.128, 159.17, 158.714, 158.698, 158.458, 157.674, 159.432, 158.174, 158.26, 158.36, 157.688, 157.78, 159.65, 157.194, 157.674, 158.828, 159.584, 158.46, 157.8, 158.54, 158.502, 158.992, 158.92, 158.99, 157.594, 157.862, 158.756, 158.58, 158.122, 158.74, 159.446, 158.972, 157.814, 157.052, 158.204, 158.22, 158.288, 156.666, 158.318, 159.374, 158.612, 158.846, 160.108, 156.39, 158.966, 159.592, 157.218, 158.44, 159.104, 159.624, 160.588, 159.194, 157.72, 157.464, 158.178, 160.126, 159.046, 157.47, 159.176, 156.76, 158.59, 159.462, 159.366, 159.372, 159.224, 158.88, 158.79, 157.906, 158.118, 157.208, 158.49, 158.39, 157.89, 156.82, 159.368, 158.286, 158.952, 160.33, 156.204, 158.934, 156.912, 157.216, 159.65, 158.7, 158.816, 158.268, 159.21, 159.248, 159.9, 158.816, 158.266, 158.7, 158.016, 158.226, 157.638, 158.958, 160.52, 158.01, 158.18, 159.276, 158.398, 159.26, 159.244, 158.864, 156.954, 158.948, 159.73, 158.984, 158.932, 157.606, 158.686, 157.778, 156.308, 159.084, 156.918, 159.468, 159.498, 157.094, 159.432, 157.92, 157.814, 158.414, 159.878, 157.326, 159.074, 158.432, 158.104, 159.874, 158.354, 160.496, 158.214, 158.972, 158.664, 158.614, 159.226, 157.206, 158.35, 158.552, 157.282, 158.856, 158.29, 158.412, 158.064, 159.908, 158.48, 158.226, 158.84, 157.32, 157.728, 159.522, 157.474, 157.532, 159.27, 159.292, 159.044, 158.818, 158.43, 157.628, 158.916, 159.696, 159.016, 157.768, 156.458, 159.078, 157.676, 159.056, 159.084, 157.62, 159.114, 158.348, 159.386, 158.02, 158.41, 158.828, 159.502, 159.248, 158.758, 158.35, 158.15, 157.728, 158.046, 158.682, 160.12, 157.138, 157.542, 159.654, 158.396, 158.062, 158.408, 157.928, 158.14, 158.69, 158.562, 156.296, 158.71, 158.94, 158.926, 157.52, 158.0, 160.64, 158.242, 160.322, 158.15, 159.054, 157.776, 157.65, 158.156, 159.006, 157.936, 157.39, 159.506, 157.82, 158.04, 157.224, 157.898, 158.382, 158.944, 157.168, 158.16, 158.498, 157.428, 159.482, 158.674, 158.5, 158.302, 157.648, 159.696, 157.464, 158.166, 158.542, 157.178, 157.25, 159.228, 158.898, 157.408, 159.252, 157.942, 159.67, 158.67, 160.022, 159.27, 160.21, 159.266, 159.328, 158.798, 158.624, 160.286, 157.98, 157.868, 158.228, 158.348, 158.876, 158.188, 158.162, 157.168, 158.792, 158.168, 158.528, 158.302, 157.902, 158.172, 157.482, 158.826, 157.54, 158.16, 159.172, 157.282, 158.938, 159.118, 159.316, 158.994, 157.848, 158.35, 160.254, 157.59, 158.376, 158.284, 158.674, 159.342, 159.876, 159.612, 158.27, 158.366, 159.16, 159.07, 160.014, 158.894, 158.442, 160.39, 158.126, 159.362, 157.372, 158.374, 160.542, 158.874, 158.774, 157.976, 158.734, 159.594, 158.704, 159.586, 158.25, 158.27, 158.736, 158.146, 158.558, 159.614, 159.382, 158.776, 156.07, 158.136, 157.028, 156.782, 156.626, 157.944, 158.226, 158.508, 159.006, 157.986, 158.418, 158.25, 159.026, 159.054, 159.134, 159.6, 158.608, 159.844, 159.378, 158.512, 159.848, 158.218, 158.65, 159.106, 158.31, 158.546, 157.972, 157.15, 158.944, 158.282, 158.574, 157.978, 157.814, 158.634, 158.892, 158.038, 159.04, 158.544, 157.742, 159.308, 159.244, 159.922, 157.54, 156.652, 160.036, 158.14, 159.134, 157.202, 157.148, 157.278, 159.414, 158.996, 158.044, 158.236, 157.254, 159.562, 158.926, 160.598, 158.486, 158.476, 158.684, 159.216, 159.036, 158.072, 157.492, 157.796, 159.258, 158.426, 157.856, 159.024, 158.27, 157.6, 156.77, 157.518, 157.538, 159.472, 158.342, 157.542, 158.242, 158.348, 156.932, 160.116, 157.96, 157.998, 159.7, 158.76, 159.652, 160.488, 158.62, 158.668, 157.072, 157.91, 159.226, 160.0, 157.22, 157.792, 157.952, 159.52, 157.5, 159.558, 157.4, 159.646, 159.476, 158.206, 157.068, 156.76, 158.376, 158.054, 159.7, 157.602, 158.66, 158.278, 159.852, 159.142, 157.618, 158.376, 157.426, 157.762, 158.846, 159.058, 157.276, 160.484, 158.998, 157.456, 159.54, 159.584, 158.606, 158.464, 159.344, 157.55, 160.088, 158.084, 159.574, 158.992, 158.656, 157.66, 159.532, 159.732, 160.258, 157.7, 159.046, 158.502, 158.07, 158.886, 158.972, 158.746, 157.904, 159.428, 159.322, 158.35, 159.038, 158.248, 158.856, 158.856, 157.802, 158.056, 158.918, 159.172, 158.522, 160.734, 159.002, 159.348, 159.338, 159.026, 159.39, 157.254, 160.244, 156.74, 157.034, 158.06, 159.472, 158.978, 156.714, 156.676, 157.594, 157.82, 157.638, 159.118, 160.598, 158.46, 157.888, 158.64, 158.69, 158.45, 157.63, 158.246, 158.978, 158.34, 158.25, 158.382, 159.922, 159.8, 156.956, 158.244, 159.384, 158.722, 159.02, 157.862, 158.306, 157.28, 159.592, 158.734, 158.61, 157.092, 158.132, 158.43, 159.182, 158.366, 159.572, 159.21, 159.196, 157.788, 157.468, 158.096, 157.092, 157.652, 159.88, 157.384, 159.308, 158.258, 158.016, 157.436, 156.974, 157.14, 158.922, 158.372, 158.814, 158.072, 158.08, 157.742, 158.45, 159.932, 159.866, 157.51, 157.394, 159.248, 157.494, 158.916, 158.216, 158.742, 157.582, 158.764, 157.834, 159.148, 158.9, 159.142, 160.17, 158.124, 157.208, 158.704, 158.358, 158.002, 159.056, 158.344, 157.812, 158.416, 159.172, 159.726, 158.868, 159.55, 158.706, 156.524, 158.022, 157.788, 156.594, 159.996, 159.074, 159.504, 158.124, 158.466, 158.556, 158.836, 159.348, 159.238, 158.776, 159.056, 158.37, 158.346, 157.194, 159.188, 158.524, 158.16, 158.53, 159.128, 157.072, 157.184, 157.394, 159.234, 161.008, 158.99, 158.556, 159.03, 158.716, 158.672, 157.53, 158.184, 158.44, 158.708, 157.556, 158.166, 159.73, 158.92, 158.246, 158.29, 159.32, 157.846, 158.416, 158.512, 158.514, 158.186, 157.52, 157.966, 159.46, 157.248, 157.25, 157.894, 158.878, 157.318, 158.102, 160.094, 158.356, 157.02, 158.85, 160.12, 159.036, 158.094, 158.272, 159.14, 157.386, 159.28, 159.566, 157.206, 159.8, 157.586, 157.57, 158.168, 160.318, 159.474, 157.658, 159.638, 158.286, 157.398, 158.282, 158.048, 158.838, 157.866, 159.876, 158.382, 158.942, 158.746, 157.578, 159.074, 159.522, 158.158, 158.516, 158.382, 158.248, 159.124, 159.116, 159.81, 158.954, 159.298, 157.474, 157.946, 158.768, 158.806, 157.75, 159.248, 158.368, 157.798, 157.878, 157.966, 158.378, 157.486, 156.698, 158.408, 159.302, 157.668, 157.876, 159.292, 158.552, 157.208, 159.006, 157.348, 158.89, 158.57, 158.722, 157.606, 158.052, 159.112, 158.412, 158.352, 159.344, 158.16, 157.776, 157.87, 158.812, 157.836, 157.82, 159.072, 158.956, 158.268, 157.888, 158.504, 158.34, 158.732, 158.616, 157.92, 159.25, 158.104, 157.888, 157.924, 159.174, 158.55, 159.806, 159.152, 159.436, 158.534, 158.106, 158.986, 158.762, 157.988, 159.532, 158.644, 159.656, 158.542, 158.826, 159.158, 158.866, 158.872, 160.164, 158.44, 157.774, 157.18, 158.176, 158.33, 159.732, 157.62, 159.988, 158.786, 159.142, 158.39, 159.072, 158.054, 158.274, 157.322, 157.756, 159.414, 157.768, 157.992, 157.654, 157.988, 156.89, 159.96, 158.95, 159.148, 158.458, 158.322, 159.184, 158.756, 157.56, 157.236, 157.71, 158.038, 159.926, 159.426, 160.13, 158.386, 158.298, 160.246, 158.868, 159.454, 159.614, 158.532, 158.388, 157.454, 158.03, 157.178, 158.466, 158.632, 157.28, 158.182, 158.832, 158.292, 158.518, 159.348, 160.162, 159.926, 160.242, 158.944, 160.02, 158.296, 158.088, 158.292, 158.726, 158.546, 158.104, 158.304, 159.012, 158.012, 157.696, 157.906, 158.72, 158.54, 157.33, 158.778, 159.194, 158.506, 159.258, 157.286, 158.386, 157.06, 159.95, 158.99, 159.444, 160.3, 160.022, 159.55, 158.642, 157.168, 157.612, 158.602, 159.382, 159.132, 158.346, 158.738, 158.826, 157.612, 159.262, 158.144, 159.282, 159.432, 159.996, 157.978, 158.688, 158.796, 157.768, 158.79, 159.282, 160.234, 158.176, 159.354, 159.65, 157.442, 158.828, 157.418, 158.274, 158.098, 159.082, 159.256, 158.712, 156.638, 158.382, 159.548, 160.116, 159.018, 157.536, 159.122, 158.366, 157.952, 160.044, 158.892, 158.508, 159.222, 158.144, 158.358, 159.454, 159.156, 158.654, 158.654, 158.004, 159.174, 157.708, 158.336, 158.39, 159.284, 157.016, 159.908, 157.804, 159.552, 156.982, 158.918, 158.938, 159.07, 158.402, 158.788, 159.068, 157.982, 158.192, 158.678, 157.394, 159.046, 159.072, 158.55, 157.81, 158.78, 158.45, 159.364, 158.006, 159.384, 159.99, 158.374, 157.908, 159.4, 157.374, 159.064, 159.33, 157.792, 157.708, 157.296, 157.132, 158.922, 157.866, 158.126, 159.704, 160.556, 159.218, 158.288, 158.572, 158.316, 157.716, 158.964, 158.168, 159.402, 159.272, 158.658, 157.73, 157.198, 159.104, 157.312, 159.142, 158.428, 156.972, 157.612, 158.97, 158.796, 158.448, 159.388, 158.78, 158.904, 158.21, 159.274, 158.65, 158.374, 158.072, 159.37, 158.044, 160.284, 158.398, 157.346, 159.58, 158.418, 158.338, 157.108, 158.596, 157.678, 159.088, 160.066, 158.328, 159.568, 158.454, 157.562, 158.994, 157.558, 158.38, 157.14, 158.712, 158.512, 158.106, 158.716, 158.31, 158.634, 158.212, 159.958, 158.646, 158.49, 158.528, 159.268, 158.644, 158.626, 159.16, 159.29, 158.062, 156.66, 159.28, 158.004, 158.594, 159.622, 159.33, 156.676, 160.938, 159.636, 158.51, 158.484, 159.136, 158.918, 157.61, 159.612, 157.448, 158.58, 158.53, 157.272, 159.266, 158.154, 158.584, 158.392, 157.564, 157.912, 158.082, 157.708, 158.258, 158.194, 158.128, 159.5, 158.016, 158.028, 159.122, 158.654, 158.804, 158.714, 158.522, 158.698, 159.508, 159.778, 158.376, 158.882, 158.04, 157.398, 160.08, 158.546, 157.668, 157.632, 159.172, 158.076, 158.31, 157.198, 158.19, 157.394, 159.134, 159.898, 159.034, 159.008, 159.038, 157.708, 157.384, 158.952, 158.216, 158.622, 158.464, 158.676, 157.67, 158.812, 158.504, 159.05, 158.198, 160.534, 157.088, 158.902, 160.562, 158.186, 159.366, 157.426, 158.784, 159.344, 157.24, 157.67, 159.002, 159.352, 159.12, 159.278, 158.934, 159.74, 158.864, 158.836, 158.57, 157.368, 157.976, 159.32, 160.274, 158.51, 157.426, 158.662, 158.002, 158.466, 158.244, 158.706, 157.712, 159.106, 158.708, 157.738, 157.928, 159.322, 157.57, 157.602, 156.568, 159.256, 158.476, 158.258, 159.77, 158.798, 157.84, 158.49, 159.484, 158.45, 158.782, 159.006, 158.4, 158.928, 158.616, 159.478, 159.182, 159.634, 158.332, 159.256, 158.648, 156.628, 158.108, 158.132, 158.612, 158.214, 158.12, 156.91, 159.962, 158.1, 158.67, 158.994, 158.88, 156.974, 158.91, 159.14, 158.286, 159.284, 159.398, 159.094, 158.156, 158.234, 159.442, 159.74, 158.044, 157.406, 159.362, 160.004, 157.666, 159.414, 157.536, 158.246, 158.22, 158.506, 159.872, 158.258, 157.46, 160.19, 157.942, 158.138, 158.584, 158.914, 158.41, 157.598, 158.278, 158.15, 158.728, 158.218, 156.86, 157.638, 158.748, 158.686, 158.474, 157.9, 157.638, 158.786, 159.382, 159.466, 157.8, 158.392, 160.026, 158.848, 157.678, 158.796, 160.0, 159.978, 158.618, 158.478, 160.108, 156.332, 158.792, 157.78, 158.812, 158.81, 159.544, 159.172, 157.958, 158.246, 157.524, 158.024, 159.114, 160.0, 158.454, 158.872, 157.918, 159.356, 157.856, 158.514, 158.62, 159.29, 160.198, 158.512, 158.99, 157.46, 159.022, 159.304, 156.742, 159.274, 159.442, 157.842, 159.738, 159.936, 157.178, 158.774, 158.962, 157.004, 158.968, 158.58, 156.68, 157.164, 158.314, 159.576, 157.78, 158.884, 158.914, 159.212, 158.274, 158.446, 156.806, 157.782, 159.344, 158.48, 158.696, 158.07, 158.974, 159.224, 159.15, 159.456, 159.172, 158.29, 159.068, 158.846, 158.16, 157.98, 159.276, 159.63, 158.73, 157.182, 157.7, 158.792, 158.282, 158.036, 160.012, 157.838, 159.184, 157.514, 157.816, 159.97, 159.432, 159.278, 158.512, 157.998, 157.878, 157.022, 158.234, 158.966, 158.942, 157.57, 158.526, 157.362, 159.272, 159.216, 160.052, 158.33, 156.584, 158.98, 158.812, 158.148, 158.958, 158.106, 158.336, 159.744, 159.642, 158.766, 158.728, 158.876, 159.152, 157.868, 158.4, 159.396, 158.54, 158.484, 157.028, 158.084, 158.806, 158.682, 157.6, 158.008, 157.986, 159.806, 158.086, 157.576, 157.886, 157.024, 158.598, 158.316, 158.462, 157.758, 159.12, 159.608, 159.166, 157.882, 156.646, 159.892, 157.826, 158.362, 158.058, 158.486, 158.536, 158.544, 158.468, 158.156, 157.93, 157.128, 158.344, 157.98, 157.714, 159.488, 158.654, 157.34, 159.122, 158.22, 159.198, 158.338, 157.1, 158.986, 159.788, 158.662, 159.684, 159.008, 157.738, 159.006, 159.294, 159.764, 158.978, 158.708, 158.21, 158.922, 159.476, 159.696, 157.55, 159.45, 158.516, 159.344, 157.122, 158.992, 158.066, 159.166, 158.6, 158.356, 156.878, 159.66, 158.35, 159.506, 158.538, 159.18, 160.118, 157.586, 157.24, 159.966, 159.238, 159.604, 158.954, 159.232, 159.002, 158.442, 158.004, 158.104, 157.664, 159.09, 159.794, 160.478, 157.18, 158.016, 159.238, 159.188, 157.728, 159.536, 159.726, 159.44, 159.516, 160.504, 157.276, 156.416, 160.02, 157.462, 157.544, 158.29, 157.626, 159.45, 158.356, 157.864, 157.51, 158.796, 156.026, 157.074, 158.518, 156.756, 157.71, 158.298, 158.486, 159.244, 158.476, 158.004, 158.196, 158.488, 159.402, 159.38, 158.324, 159.412, 158.138, 159.646, 158.588, 158.592, 157.18, 157.248, 160.036, 157.526, 156.672, 158.272, 157.028, 158.404, 159.29, 156.828, 158.244, 159.566, 159.386, 158.132, 157.522, 159.016, 158.674, 158.99, 159.096, 157.354, 158.522, 157.814, 158.842, 158.648, 158.446, 159.016, 159.47, 157.542, 157.634, 158.49, 158.21, 158.33, 158.476, 158.176, 158.526, 158.124, 158.54, 158.088, 159.33, 157.372, 158.278, 158.53, 157.54, 157.802, 159.264, 159.226, 158.678, 157.112, 157.83, 159.038, 158.018, 156.054, 158.288, 159.114, 158.986, 158.626, 157.594, 157.098, 159.184, 159.802, 157.282, 158.26, 156.618, 159.622, 158.42, 159.608, 158.908, 158.014, 158.342, 158.988, 158.422, 158.428, 159.364, 158.184, 156.844, 159.126, 159.962, 156.298, 159.51, 158.674, 158.324, 158.372, 158.108, 158.346, 157.722, 158.72, 159.634, 157.552, 157.076, 156.996, 159.114, 158.632, 157.89, 158.426, 155.996, 156.77, 157.928, 158.614, 159.48, 158.768, 159.87, 159.218, 159.078, 158.242, 158.634, 159.424, 159.074, 158.272, 159.644, 159.056, 157.83, 159.436, 159.122, 157.972, 157.17, 159.44, 159.684, 157.266, 156.66, 157.298, 158.0, 157.282, 158.112, 157.874, 158.374, 157.738, 157.926, 157.764, 158.186, 158.71, 158.464, 159.366, 158.134, 158.872, 158.326, 157.366, 158.036, 158.298, 158.248, 158.36, 160.356, 157.844, 158.558, 158.028, 159.11, 159.208, 157.994, 158.24, 158.452, 159.068, 157.532, 159.316, 158.012, 157.9, 158.024, 158.842, 157.906, 158.658, 159.574, 158.27, 157.712, 160.736, 157.692, 159.002, 159.822, 157.802, 160.242, 157.256, 158.392, 159.27, 159.776, 158.858, 159.798, 157.628, 158.37, 158.594, 158.11, 159.004, 157.312, 157.976, 158.408, 159.848, 160.02, 159.406, 156.932, 158.302, 159.156, 158.348, 158.098, 156.534, 158.034, 157.382, 159.032, 157.512, 158.676, 158.032, 158.184, 159.576, 159.816, 157.778, 158.666, 159.012, 158.014, 158.478, 159.262, 157.546, 159.758, 158.796, 158.04, 157.646, 158.196, 157.472, 156.974, 159.376, 160.116, 158.71, 156.252, 158.564, 158.692, 159.02, 159.866, 158.8, 158.162, 159.094, 157.492, 158.628, 158.136, 159.688, 159.198, 157.556, 157.638, 159.46, 156.956, 157.488, 158.328, 157.852, 158.84, 158.538, 160.518, 158.534, 158.13, 157.734, 158.242, 158.304, 159.372, 159.508, 158.656, 157.828, 158.916, 159.25, 160.038, 158.886, 158.704, 159.442, 158.176, 157.276, 158.562, 157.74, 159.028, 157.496, 158.976, 156.9, 157.594, 158.642, 159.006, 159.328, 159.006, 159.348, 157.406, 160.656, 158.862, 159.464, 159.04, 157.99, 158.33, 157.012, 158.0, 159.754, 158.704, 157.966, 159.342, 159.174, 158.162, 159.62, 159.574, 157.9, 159.4, 159.694, 158.338, 158.862, 158.596, 156.956, 158.616, 160.064, 158.954, 157.554, 159.39, 158.708, 156.928, 159.392, 158.348, 159.298, 159.186, 157.642, 159.036, 157.736, 158.114, 158.482, 158.914, 157.852, 158.898, 158.048, 158.978, 159.336, 158.732, 157.862, 157.186, 158.534, 158.538, 158.6, 159.786, 158.308, 158.682, 159.852, 157.12, 157.554, 159.022, 158.39, 158.504, 159.234, 157.982, 157.952, 157.578, 158.562, 158.354, 156.818, 157.486, 158.264, 158.774, 158.534, 156.972, 160.78, 157.296, 158.082, 159.896, 158.308, 156.738, 158.48, 159.046, 158.132, 158.114, 159.748, 159.586, 158.788, 157.612, 159.848, 157.188, 156.88, 159.654, 159.078, 157.318, 158.612, 157.328, 159.172, 159.646, 157.296, 157.89, 157.922, 158.294, 159.266, 159.224, 158.394, 159.18, 159.606, 157.846, 158.444, 158.394, 157.772, 157.656, 157.962, 159.158, 159.272, 158.294, 158.272, 157.018, 158.094, 157.092, 159.62, 158.044, 156.27, 159.336, 159.028, 159.906, 157.874, 157.278, 157.932, 159.846, 159.28, 156.524, 158.38, 159.104, 159.23, 157.682, 156.906, 156.906, 158.864, 158.73, 159.576, 157.398, 157.424, 157.856, 157.408, 158.448, 157.802, 158.422, 159.63, 158.966, 158.958, 157.672, 158.93, 158.602, 157.488, 158.38, 158.42, 158.55, 159.566, 158.342, 157.726, 157.616, 158.74, 158.876, 160.53, 158.504, 157.726, 159.228, 158.004, 158.414, 159.424, 156.136, 160.456, 158.944, 157.926, 158.626, 157.966, 158.886, 157.932, 158.142, 159.13, 157.59, 159.926, 158.986, 157.876, 157.662, 161.214, 158.994, 159.064, 159.052, 158.984, 158.464, 158.748, 159.098, 159.678, 159.334, 157.844, 158.752, 158.598, 158.036, 158.674, 159.018, 158.88, 158.974, 159.244, 159.54, 159.04, 157.782, 158.31, 158.606, 159.282, 159.472, 158.368, 159.27, 157.53, 158.772, 159.696, 158.65, 158.934, 159.112, 158.546, 158.224, 160.266, 158.428, 157.97, 160.522, 158.106, 158.526, 159.084, 159.578, 159.218, 159.42, 158.712, 159.44, 158.422, 157.396, 158.654, 158.336, 158.646, 158.616, 158.978, 157.07, 156.992, 158.832, 159.208, 158.06, 159.578, 158.43, 158.146, 158.404, 157.69, 159.116, 158.284, 157.802, 159.186, 157.074, 156.964, 156.172, 158.662, 159.086, 159.576, 158.724, 158.936, 158.736, 158.588, 157.808, 159.39, 158.658, 158.976, 158.522, 160.376, 158.742, 159.542, 158.778, 157.894, 158.97, 158.736, 157.724, 158.294, 159.014, 158.402, 158.762, 157.604, 158.956, 158.99, 157.992, 158.974, 157.594, 156.844, 158.444, 158.68, 159.252, 159.09, 158.396, 158.706, 157.114, 158.75, 157.226, 159.854, 158.728, 159.402, 158.69, 158.302, 158.382, 159.598, 158.64, 159.754, 158.652, 159.606, 158.41, 157.876, 158.838, 158.84, 158.866, 157.484, 158.112, 158.98, 157.632, 158.644, 158.21, 158.466, 158.222, 157.85, 160.044, 157.216, 159.258, 157.744, 160.678, 158.162, 159.174, 158.856, 159.654, 158.186, 158.162, 158.332, 158.09, 158.026, 157.868, 157.952, 158.226, 158.666, 158.02, 157.384, 157.32, 158.638, 156.752, 158.314, 159.452, 157.142, 159.188, 158.766, 158.43, 159.768, 159.88, 159.182, 159.44, 158.602, 159.5, 158.154, 158.158, 157.904, 159.242, 158.722, 157.532, 159.172, 159.672, 159.64, 157.61, 159.63, 158.512, 159.15, 157.87, 159.264, 159.424, 158.112, 159.364, 157.27, 157.446, 157.694, 159.142, 159.196, 157.138, 158.75, 156.336, 158.254, 158.504, 158.798, 157.97, 158.666, 158.774, 158.192, 158.944, 159.036, 157.99, 158.26, 159.792, 159.33, 159.124, 158.486, 158.624, 158.344, 158.328, 158.79, 158.748, 158.986, 157.734, 158.342, 158.39, 159.644, 158.606, 157.884, 159.538, 159.46, 158.37, 158.592, 158.938, 158.026, 157.698, 159.492, 157.552, 158.938, 159.038, 158.432, 158.006, 160.38, 158.638, 158.024, 158.094, 158.912, 159.522, 158.986, 157.798, 158.138, 160.246, 160.374, 158.844, 158.74, 159.584, 157.828, 158.254, 157.494, 157.454, 160.032, 158.11, 158.35, 158.726, 158.944, 157.4, 160.942, 158.642, 159.656, 159.208, 159.648, 158.34, 158.506, 159.634, 157.396, 157.718, 157.554, 158.67, 157.722, 157.258, 157.694, 159.1, 157.212, 158.758, 156.882, 158.208, 159.974, 157.944, 157.158, 157.974, 159.056, 158.348, 159.122, 159.29, 159.492, 159.13, 160.19, 158.458, 158.524, 158.814, 157.504, 158.336, 158.888, 159.094, 158.096, 158.668, 159.374, 158.536, 158.428, 158.442, 158.864, 158.752, 158.798, 158.54, 159.01, 156.924, 157.81, 160.484, 157.442, 158.902, 160.104, 158.086, 159.254, 159.702, 156.892, 157.724, 160.134, 157.944, 156.922, 158.476, 158.788, 158.418, 159.672, 159.32, 159.77, 159.734, 158.528, 158.678, 158.312, 157.704, 157.352, 158.99, 158.708, 158.204, 158.128, 158.088, 158.156, 159.344, 158.974, 158.794, 159.638, 158.374, 159.692, 158.726, 157.552, 158.564, 157.466, 159.168, 160.006, 158.868, 159.718, 157.708, 158.28, 158.978, 159.89, 159.608, 160.278, 160.032, 159.0, 159.854, 158.788, 158.81, 157.756, 158.024, 156.268, 157.33, 159.208, 158.956, 159.39, 157.99, 159.194, 158.562, 159.226, 158.586, 157.028, 159.538, 158.908, 157.948, 157.436, 158.876, 159.662, 157.206, 156.902, 159.01, 159.55, 158.338, 159.424, 159.644, 159.568, 159.16, 158.942, 158.148, 158.026, 156.856, 159.0, 159.258, 158.658, 157.552, 158.924, 157.346, 157.334, 158.582, 159.35, 159.31, 157.97, 158.392, 158.778, 159.322, 160.746, 157.346, 158.476, 159.49, 159.878, 158.026, 158.056, 159.04, 158.602, 159.304, 157.932, 158.182, 156.51, 157.26, 158.684, 157.18, 159.342, 157.65, 158.646, 159.066, 158.856, 157.418, 159.32, 159.356, 159.136, 158.932, 157.3, 158.146, 158.476, 158.596, 158.898, 158.828, 159.668, 159.256, 158.416, 159.194, 157.62, 159.814, 157.068, 158.066, 157.404, 158.674, 158.144, 157.648, 157.446, 157.708, 158.692, 158.628, 158.7, 159.766, 157.742, 158.906, 158.854, 157.344, 158.01, 158.586, 158.492, 158.784, 157.846, 158.294, 158.19, 158.106, 158.464, 158.87, 158.796, 158.04, 160.23, 160.126, 158.698, 158.694, 157.794, 158.188, 159.616, 157.5, 159.838, 158.556, 159.916, 156.264, 158.284, 159.954, 158.424, 158.158, 159.622, 158.976, 157.348, 158.548, 158.25, 158.326, 160.04, 159.266, 158.78, 160.956, 158.238, 158.294, 157.954, 159.94, 158.736, 158.498, 157.838, 156.754, 158.088, 158.006, 157.678, 157.604, 157.774, 158.284, 159.172, 157.878, 158.892, 158.762, 158.658, 159.69, 159.284, 159.304, 159.38, 158.588, 159.304, 158.582, 158.808, 157.894, 158.55, 158.86, 160.778, 158.45, 159.712, 159.292, 158.368, 159.196, 158.712, 158.76, 157.898, 159.138, 159.146, 157.208, 159.324, 159.324, 158.86, 159.538, 159.798, 160.662, 158.472, 159.724, 157.54, 158.412, 160.146, 157.618, 158.334, 158.128, 157.154, 159.22, 159.194, 159.348, 158.064, 157.91, 157.932, 157.686, 156.448, 157.744, 159.474, 158.352, 159.358, 157.924, 156.95, 158.528, 156.952, 158.13, 157.066, 156.742, 160.066, 158.404, 158.178, 160.392, 158.41, 158.29, 157.878, 157.214, 157.984, 158.668, 158.668, 158.072, 156.906, 158.82, 158.968, 156.898, 160.268, 158.436, 158.822, 159.092, 156.672, 158.57, 158.452, 157.822, 158.412, 158.324, 157.982, 159.378, 157.438, 158.86, 157.952, 157.84, 159.49, 157.824, 159.42, 158.442, 156.764, 159.04, 158.432, 158.984, 158.4, 158.932, 157.308, 159.358, 157.924, 158.836, 156.67, 157.898, 159.61, 158.572, 159.374, 158.884, 157.686, 158.734, 160.282, 158.642, 158.984, 158.04, 157.86, 159.886, 158.594, 157.946, 158.686, 158.31, 159.516, 158.892, 157.648, 157.83, 159.34, 159.31, 157.518, 158.614, 160.156, 157.716, 159.65, 158.324, 158.68, 159.688, 159.32, 159.354, 158.81, 159.35, 158.116, 156.576, 159.444, 158.646, 157.506, 158.394, 159.708, 158.3, 157.592, 157.958, 159.398, 158.44, 158.356, 160.932, 158.418, 158.432, 159.126, 159.99, 158.2, 159.094, 157.436, 157.518, 158.71, 157.946, 159.244, 159.258, 156.554, 156.736, 159.354, 157.974, 159.48, 158.842, 158.318, 159.296, 158.014, 158.554, 157.732, 157.368, 157.346, 159.912, 158.914, 158.654, 157.024, 157.822, 158.174, 159.378, 158.312, 158.562, 158.508, 158.232, 159.688, 158.654, 158.828, 157.918, 159.396, 158.054, 160.474, 157.4, 158.446, 158.298, 159.896, 158.794, 157.256, 157.81, 158.022, 157.114, 157.438, 159.52, 158.082, 158.042, 158.48, 159.21, 158.782, 158.838, 158.818, 158.556, 160.074, 156.49, 156.252, 156.654, 159.21, 157.686, 157.926, 157.992, 158.67, 158.758, 156.632, 158.188, 158.27, 159.472, 159.328, 159.414, 158.048, 160.328, 159.172, 157.284, 158.172, 157.554, 158.186, 160.076, 158.54, 159.334, 159.148, 159.188, 158.696, 156.762, 157.006, 157.158, 157.296, 157.168, 157.716, 157.536, 158.292, 158.232, 159.702, 159.864, 157.708, 158.306, 157.454, 158.724, 158.85, 158.19, 157.462, 159.342, 159.164, 157.996, 161.136, 158.926, 160.162, 157.682, 159.134, 158.15, 156.64, 157.294, 158.32, 159.286, 159.554, 158.812, 157.652, 158.332, 157.868, 158.426, 159.25, 157.662, 157.954, 158.924, 158.33, 160.15, 158.262, 159.258, 159.458, 159.29, 159.64, 158.792, 159.58, 159.378, 159.338, 157.488, 158.916, 157.828, 157.398, 158.336, 158.444, 160.03, 158.906, 157.938, 158.846, 159.03, 158.24, 159.688, 158.03, 158.542, 159.254, 158.07, 157.242, 158.266, 158.756, 160.462, 158.12, 157.244, 157.43, 157.716, 158.522, 158.266, 158.786, 157.424, 157.192, 159.574, 158.668, 159.722, 158.306, 160.178, 158.688, 159.604, 158.468, 159.166, 157.724, 157.892, 159.034, 158.91, 159.276, 158.77, 157.406, 158.878, 159.624, 158.658, 158.234, 159.48, 160.534, 157.922, 158.02, 158.452, 159.26, 158.318, 158.66, 157.682, 157.878, 158.646, 159.28, 159.374, 158.082, 158.206, 158.694, 158.48, 157.762, 158.454, 158.646, 157.588, 158.46, 158.236, 158.45, 159.98, 157.422, 156.818, 159.286, 159.536, 158.614, 157.158, 157.586, 158.456, 158.776, 159.022, 158.034, 158.59, 157.996, 157.16, 158.11, 157.1, 159.014, 158.456, 157.488, 159.202, 158.284, 158.182, 159.232, 157.87, 158.524, 158.43, 160.03, 158.202, 158.056, 157.074, 158.62, 159.492, 158.862, 158.758, 158.36, 158.056, 159.032, 157.428, 157.37, 159.208, 157.634, 158.072, 159.494, 158.784, 158.246, 157.658, 157.974, 158.434, 159.57, 158.744, 157.042, 160.36, 157.604, 157.418, 160.062, 158.474, 159.45, 157.844, 159.592, 159.414, 159.058, 158.548, 158.446, 157.528, 157.748, 158.56, 156.236, 158.436, 156.606, 159.018, 157.882, 159.376, 159.318, 158.538, 157.966, 159.212, 156.792, 159.038, 157.724, 159.156, 158.0, 159.296, 156.524, 158.656, 159.632, 158.886, 159.016, 156.432, 158.754, 159.106, 157.226, 158.978, 158.31, 160.15, 159.128, 158.92, 157.31, 159.448, 158.76, 157.486, 158.628, 158.586, 159.382, 157.612, 158.574, 160.516, 157.438, 158.772, 158.684, 157.414, 159.952, 158.074, 158.34, 159.664, 157.388, 158.866, 157.754, 159.044, 158.418, 157.222, 157.816, 158.012, 158.34, 158.816, 157.94, 159.506, 159.704, 157.614, 159.788, 158.864, 159.262, 158.7, 157.848, 158.378, 157.956, 158.67, 158.524, 157.66, 158.188, 157.814, 157.574, 158.968, 159.508, 158.172, 158.726, 158.608, 157.19, 158.33, 159.646, 159.108, 157.858, 158.868, 158.204, 159.624, 158.364, 157.294, 159.58, 159.234, 157.61, 158.958, 158.388, 158.484, 158.202, 158.602, 156.718, 157.514, 157.282, 158.528, 158.624, 158.174, 156.146, 158.982, 156.934, 157.498, 158.386, 157.274, 158.748, 157.37, 158.906, 157.074, 158.364, 158.026, 158.654, 158.904, 158.876, 157.874, 158.528, 157.772, 158.296, 157.166, 157.322, 159.202, 158.62, 158.59, 157.26, 156.206, 158.454, 158.002, 158.578, 158.754, 158.676, 158.132, 158.844, 159.908, 157.766, 158.376, 159.126, 158.756, 158.368, 159.478, 159.104, 159.158, 158.79, 157.942, 157.94, 157.602, 158.952, 159.576, 158.902, 158.608, 158.306, 158.88, 157.956, 158.792, 159.864, 158.244, 158.566, 157.384, 160.768, 159.426, 158.294, 158.782, 158.1, 158.374, 159.904, 158.43, 157.852, 158.932, 158.168, 159.674, 159.05, 157.612, 156.702, 159.114, 159.152, 157.356, 157.546, 156.99, 158.392, 160.086, 158.558, 158.132, 158.308, 158.264, 158.914, 159.052, 159.248, 157.7, 159.746, 157.422, 158.944, 158.936, 157.222, 158.38, 158.506, 157.582, 158.54, 158.666, 158.284, 159.432, 158.372, 159.778, 158.0, 158.166, 159.576, 158.156, 159.258, 157.036, 159.296, 158.4, 159.356, 160.434, 158.542, 159.01, 158.4, 157.92, 159.54, 160.512, 159.042, 158.11, 159.024, 158.574, 157.618, 160.136, 157.992, 156.96, 157.212, 159.0, 159.124, 158.972, 157.592, 156.436, 159.014, 159.212, 158.028, 159.246, 158.47, 158.908, 158.194, 158.614, 158.356, 158.61, 158.768, 158.256, 158.526, 158.416, 158.518, 158.698, 157.874, 159.872, 160.256, 157.678, 158.39, 158.982, 157.162, 158.656, 158.524, 159.536, 158.364, 157.948, 158.468, 157.246, 159.288, 159.016, 157.878, 157.956, 157.48, 156.614, 159.492, 159.006, 158.512, 159.53, 158.576, 159.364, 158.826, 158.252, 157.078, 158.184, 158.36, 157.432, 158.644, 158.308, 159.528, 158.346, 159.67, 159.872, 156.608, 158.808, 158.756, 159.364, 158.444, 157.918, 158.286, 158.794, 157.892, 159.034, 156.922, 158.142, 156.652, 157.844, 159.544, 157.638, 158.22, 157.676, 158.46, 157.14, 158.274, 157.394, 159.126, 158.624, 158.004, 159.776, 158.134, 158.894, 157.58, 158.858, 157.48, 158.942, 159.004, 158.462, 156.504, 157.63, 158.484, 158.492, 157.338, 156.908, 158.322, 158.668, 160.322, 157.898, 159.014, 157.918, 157.782, 160.366, 160.028, 158.628, 159.682, 159.652, 157.204, 159.232, 159.008, 159.604, 158.608, 159.194, 158.656, 159.118, 158.068, 158.694, 158.416, 157.886, 158.9, 158.494, 157.638, 157.844, 158.09, 157.554, 159.32, 160.408, 157.396, 157.552, 159.608, 158.818, 159.638, 158.548, 158.356, 158.724, 158.496, 158.948, 157.866, 158.478, 158.298, 159.296, 156.934, 158.346, 159.556, 159.122, 157.762, 157.432, 157.492, 158.626, 158.984, 158.064, 157.504, 157.584, 157.706, 158.114, 159.458, 157.606, 160.126, 157.264, 159.114, 159.544, 158.55, 158.536, 158.818, 159.34, 158.336, 159.106, 160.044, 158.338, 158.544, 160.228, 160.134, 160.402, 157.846, 158.88, 157.914, 159.304, 159.05, 158.994, 158.948, 159.254, 158.696, 158.29, 157.222, 158.066, 158.12, 159.276, 158.586, 159.004, 159.378, 156.604, 158.734, 159.276, 158.476, 158.208, 157.938, 159.236, 158.35, 157.236, 158.47, 158.518, 157.906, 158.75, 159.438, 157.754, 159.616, 158.366, 159.484, 157.62, 159.278, 157.416, 158.588, 158.204, 159.18, 159.05, 157.982, 159.478, 158.426, 159.404, 158.266, 158.172, 158.226, 158.3, 158.066, 157.534, 157.902, 158.048, 158.08, 158.214, 157.802, 158.724, 158.73, 159.168, 160.82, 158.122, 158.104, 160.486, 158.034, 160.298, 159.236, 157.708, 157.41, 156.84, 159.082, 159.27, 159.024, 158.352, 159.374, 157.84, 158.134, 158.764, 159.336, 158.784, 158.77, 158.278, 157.95, 157.17, 158.346, 159.44, 157.136, 158.918, 157.494, 158.074, 159.064, 157.484, 159.818, 158.402, 159.39, 157.76, 160.884, 158.76, 158.702, 159.934, 157.376, 158.356, 158.566, 159.326, 157.31, 158.514, 159.94, 158.448, 158.114, 158.276, 158.938, 159.328, 156.872, 158.422, 159.458, 157.472, 158.95, 156.89, 158.074, 158.954, 156.1, 157.926, 158.912, 158.026, 157.202, 157.614, 157.73, 158.56, 158.632, 159.61, 158.322, 157.99, 158.77, 158.748, 158.428, 158.62, 157.418, 155.498, 160.64, 159.426, 158.838, 159.614, 158.624, 159.534, 158.588, 159.266, 157.958, 157.732, 158.132, 158.014, 157.558, 158.39, 158.78, 158.02, 158.18, 158.146, 157.962, 157.326, 159.098, 157.664, 157.918, 158.598, 158.026, 157.748, 159.688, 157.86, 159.244, 159.124, 159.01, 159.192, 158.068, 158.902, 158.91, 159.304, 158.45, 157.29, 157.49, 157.862, 158.166, 158.426, 158.838, 158.78, 159.376, 158.254, 157.73, 157.364, 159.714, 159.648, 158.554, 158.86, 158.476, 159.196, 159.594, 156.814, 158.644, 157.038, 157.548, 158.49, 159.01, 158.362, 157.202, 159.198, 158.098, 159.89, 156.88, 158.266, 158.916, 159.024, 158.364, 159.182, 157.998, 159.06, 158.058, 158.278, 160.856, 157.336, 158.218, 156.892, 159.394, 158.454, 159.106, 159.738, 159.31, 159.032, 159.602, 159.058, 157.21, 158.924, 158.142, 158.654, 157.026, 159.79, 158.944, 158.798, 158.578, 158.48, 157.174, 158.76, 158.636, 159.348, 159.1, 159.0, 157.92, 158.232, 159.136, 157.286, 157.302, 159.334, 159.59, 158.268, 158.89, 159.202, 157.984, 158.13, 158.69, 158.896, 157.89, 157.764, 159.08, 157.366, 159.268, 160.276, 158.462, 157.758, 158.068, 157.672, 158.508, 157.13, 158.076, 159.2, 158.442, 158.938, 159.006, 159.956, 158.142, 159.01, 157.48, 159.74, 159.202, 157.63, 159.796, 158.8, 158.42, 159.45, 159.162, 159.296, 157.31, 159.128, 157.498, 157.598, 159.624, 158.012, 158.13, 159.496, 159.382, 158.84, 158.806, 158.142, 156.71, 159.434, 157.128, 158.552, 157.526, 158.002, 157.216, 158.704, 159.346, 159.46, 157.192, 158.884, 160.082, 159.472, 160.114, 158.328, 159.442, 157.972, 158.678, 158.914, 158.02, 158.544, 157.924, 157.062, 158.822, 158.442, 157.002, 158.262, 160.31, 159.37, 157.852, 156.91, 157.24, 159.422, 158.564, 158.092, 157.462, 158.43, 157.42, 159.202, 160.01, 159.172, 159.19, 158.746, 159.398, 158.296, 159.028, 158.94, 158.824, 159.006, 158.558, 158.82, 157.092, 156.874, 158.228, 157.266, 157.336, 159.524, 159.148, 156.938, 159.554, 158.826, 160.828, 158.2, 157.6, 158.232, 158.88, 160.38, 159.38, 158.224, 158.866, 158.676, 157.896, 158.598, 157.48, 159.124, 159.56, 157.806, 158.38, 158.154, 158.066, 158.044, 156.924, 158.096, 157.204, 159.596, 157.56, 158.652, 157.852, 158.458, 158.54, 157.252, 156.746, 158.24, 160.272, 157.416, 157.448, 159.164, 159.312, 158.726, 158.074, 158.976, 157.638, 159.352, 157.492, 158.892, 158.932, 159.714, 158.738, 157.658, 160.266, 158.302, 159.974, 158.438, 158.966, 158.866, 158.276, 159.396, 159.194, 157.578, 158.198, 159.438, 158.524, 157.252, 158.462, 157.73, 156.596, 157.732, 158.482, 157.79, 157.59, 157.242, 157.892, 160.068, 159.446, 159.148, 159.43, 157.978, 157.084, 157.996, 158.774, 158.142, 157.4, 156.832, 157.602, 157.876, 157.586, 157.602, 158.112, 159.974, 158.886, 159.394, 157.442, 157.708, 156.946, 159.71, 159.586, 158.18, 157.388, 158.624, 158.324, 158.946, 157.92, 157.88, 158.742, 157.214, 157.778, 157.858, 159.97, 157.75, 158.458, 159.144, 158.11, 157.96, 157.436, 158.106, 158.266, 160.536, 159.194, 159.632, 157.782, 160.312, 159.738, 157.168, 156.96, 159.542, 159.604, 157.832, 158.07, 158.684, 156.588, 158.552, 159.332, 156.874, 157.746, 158.438, 158.288, 159.624, 158.39, 156.544, 160.068, 159.452, 157.862, 158.712, 159.404, 158.078, 158.15, 157.732, 159.394, 159.478, 158.636, 159.082, 158.534, 158.238, 158.614, 159.074, 158.734, 158.03, 159.012, 158.076, 158.86, 157.756, 157.5, 157.706, 158.976, 158.412, 157.738, 158.168, 158.176, 158.02, 157.782, 157.78, 157.994, 158.148, 158.13, 158.41, 159.592, 158.954, 159.16, 158.324, 158.646, 157.476, 158.578, 158.574, 160.438, 157.448, 157.156, 158.238, 158.964, 157.934, 158.358, 157.664, 158.748, 158.978, 157.8, 160.514, 158.196, 158.666, 157.516, 158.388, 157.36, 157.336, 157.932, 158.342, 159.158, 160.01, 158.64, 159.294, 158.806, 157.15, 156.964, 159.342, 159.626, 157.868, 157.532, 158.838, 158.442, 159.862, 159.036, 158.266, 157.862, 157.794, 160.398, 158.528, 157.542, 159.992, 158.456, 157.1, 158.036, 157.96, 157.83, 157.598, 157.53, 158.438, 158.95, 158.376, 157.996, 156.238, 156.948, 157.874, 157.466, 156.736, 159.864, 159.66, 159.042, 160.034, 158.366, 157.992, 160.036, 158.692, 157.382, 157.934, 158.656, 158.484, 159.768, 159.694, 158.348, 159.486, 158.608, 159.012, 158.452, 158.876, 158.14, 158.148, 158.96, 158.85, 158.338, 158.66, 159.708, 157.186, 158.356, 157.76, 158.382, 158.434, 158.276, 157.844, 156.686, 159.566, 159.554, 159.344, 159.136, 158.596, 159.352, 157.444, 159.492, 159.024, 158.438, 159.192, 158.51, 159.774, 158.118, 159.944, 158.678, 158.206, 158.102, 158.628, 158.162, 158.688, 158.492, 159.316, 158.708, 159.028, 158.938, 158.182, 158.92, 159.726, 158.718, 158.242, 158.562, 158.642, 157.378, 159.158, 159.15, 158.488, 158.286, 157.782, 159.564, 157.47, 158.802, 158.394, 158.448, 159.258, 159.354, 158.896, 157.714, 158.252, 158.87, 158.556, 157.872, 159.186, 157.266, 160.426, 157.196, 158.354, 158.94, 158.492, 158.986, 158.468, 158.104, 159.274, 158.81, 157.808, 158.148, 157.282, 158.516, 157.988, 158.428, 159.158, 158.202, 158.53, 157.564, 158.212, 157.51, 158.65, 158.406, 159.876, 158.426, 157.63, 159.07, 157.204, 159.198, 158.454, 160.306, 158.558, 160.096, 157.998, 157.254, 159.27, 158.378, 159.28, 158.86, 157.206, 158.75, 159.324, 159.348, 157.24, 158.708, 159.39, 156.444, 157.988, 158.282, 156.748, 159.22, 159.21, 157.928, 156.646, 158.776, 159.224, 159.888, 159.636, 159.6, 158.86, 158.476, 157.818, 160.142, 157.372, 159.504, 158.298, 157.482, 159.226, 160.03, 158.496, 158.25, 159.12, 157.054, 157.982, 159.362, 157.436, 157.634, 157.412, 157.458, 159.104, 158.192, 157.49, 158.798, 157.74, 157.248, 159.744, 159.174, 157.472, 158.472, 160.41, 158.614, 159.886, 158.322, 159.15, 158.612, 159.626, 158.694, 159.678, 158.794, 158.81, 160.752, 159.324, 159.372, 158.326, 159.662, 159.132, 159.236, 159.606, 157.612, 156.994, 157.096, 159.23, 158.066, 160.614, 157.308, 157.954, 157.69, 158.542, 158.258, 157.52, 157.992, 158.528, 158.794, 158.086, 156.664, 158.95, 159.156, 157.708, 158.212, 157.784, 158.03, 158.08, 158.224, 157.516, 158.552, 159.33, 158.506, 158.526, 157.736, 159.946, 157.578, 158.84, 158.276, 159.144, 159.06, 158.628, 158.034, 159.382, 158.806, 159.488, 157.184, 157.65, 156.42, 159.092, 157.56, 157.64, 158.306, 159.124, 158.638, 157.532, 158.952, 160.114, 157.818, 158.286, 157.77, 157.836, 158.91, 158.666, 158.51, 159.968, 159.624, 157.486, 158.298, 158.698, 156.902, 159.098, 157.954, 158.632, 157.482, 158.668, 159.454, 158.202, 158.614, 158.156, 158.81, 159.698, 158.578, 157.728, 157.912, 159.094, 158.124, 160.454, 159.088, 159.424, 159.182, 158.434, 158.66, 158.732, 156.792, 158.034, 158.072, 159.59, 158.608, 157.354, 157.132, 158.048, 159.856, 158.668, 159.448, 156.83, 158.362, 157.366, 159.54, 159.682, 159.476, 155.832, 158.326, 158.794, 157.69, 157.68, 159.356, 158.528, 159.122, 157.464, 157.606, 159.658, 157.752, 158.358, 159.208, 158.148, 159.83, 159.242, 158.028, 159.518, 158.956, 157.662, 159.176, 157.698, 158.398, 158.792, 159.098, 158.928, 157.838, 157.43, 159.692, 157.68, 158.358, 159.374, 158.86, 159.466, 159.024, 158.836, 157.804, 156.392, 157.562, 158.084, 158.634, 158.476, 157.89, 158.81, 159.288, 159.038, 158.808, 158.848, 160.206, 157.9, 158.676, 159.454, 159.79, 157.28, 159.056, 158.534, 159.622, 159.418, 157.984, 156.67, 158.058, 157.858, 158.998, 157.778, 158.318, 158.486, 158.714, 158.836, 158.658, 158.346, 157.048, 157.578, 159.09, 159.506, 159.876, 158.13, 158.054, 157.982, 160.138, 159.242, 158.772, 158.706, 158.216, 158.122, 157.95, 158.032, 158.586, 157.938, 157.968, 159.1, 160.006, 158.654, 159.166, 159.196, 159.71, 158.696, 158.636, 159.176, 157.826, 158.736, 158.714, 159.138, 158.622, 157.84, 158.976, 157.978, 158.196, 159.654, 159.028, 158.7, 158.472, 158.196, 159.522, 157.846, 160.44, 158.324, 158.304, 158.042, 157.908, 159.738, 158.5, 157.696, 159.454, 157.284, 156.672, 158.772, 158.832, 157.858, 159.122, 158.092, 157.898, 158.304, 157.556, 158.06, 158.48, 159.394, 158.562, 159.38, 159.13, 158.374, 158.736, 158.258, 158.902, 157.994, 158.436, 160.156, 159.824, 159.172, 158.12, 157.432, 158.168, 157.604, 158.914, 159.14, 159.42, 156.918, 158.08, 158.462, 158.296, 157.788, 158.278, 158.654, 158.678, 158.714, 158.966, 158.734, 157.892, 157.508, 159.162, 158.366, 158.588, 157.74, 159.258, 157.62, 158.448, 157.7, 158.066, 158.012, 158.604, 156.768, 158.42, 158.616, 158.1, 160.316, 158.29, 157.844, 158.202, 158.668, 158.73, 159.088, 158.328, 157.956, 157.634, 158.188, 157.906, 158.334, 157.778, 158.966, 157.958, 158.362, 157.786, 158.23, 157.856, 157.878, 158.832, 158.144, 158.114, 157.556, 156.226, 159.42, 159.552, 158.77, 158.114, 159.492, 157.738, 158.342, 157.044, 157.802, 157.82, 157.346, 157.24, 158.312, 159.636, 157.706, 159.364, 158.714, 158.17, 158.224, 159.378, 157.932, 158.422, 159.282, 158.102, 158.74, 159.298, 158.388, 159.028, 157.624, 159.25, 159.378, 156.7, 158.548, 157.458, 157.964, 158.092, 159.382, 158.134, 159.194, 158.03, 159.498, 157.954, 158.138, 159.32, 157.774, 159.408, 156.89, 157.334, 157.932, 159.236, 159.08, 160.25, 159.182, 157.872, 156.922, 158.15, 158.32, 157.886, 158.608, 157.188, 159.108, 159.348, 156.938, 158.164, 158.856, 157.554, 157.992, 158.23, 157.95, 158.814, 156.93, 157.61, 158.258, 157.232, 159.904, 156.242, 159.838, 159.28, 160.346, 159.334, 157.976, 158.966, 159.154, 156.892, 158.594, 158.294, 158.52, 157.278, 159.01, 159.7, 158.446, 158.802, 160.29, 158.98, 157.954, 158.864, 157.12, 157.396, 157.914, 158.2, 157.614, 158.564, 159.35, 159.278, 157.55, 158.644, 158.884, 159.514, 157.732, 157.826, 159.936, 159.142, 159.67, 158.816, 158.504, 157.858, 158.65, 158.002, 159.818, 158.234, 158.278, 158.854, 157.026, 159.292, 159.102, 158.59, 158.034, 157.408, 157.512, 158.328, 158.52, 158.832, 158.504, 158.134, 158.766, 157.86, 158.236, 159.792, 158.766, 157.53, 159.296, 158.108, 158.766, 156.796, 158.868, 157.22, 158.444, 158.19, 159.904, 159.554, 159.998, 158.704, 157.928, 158.256, 157.686, 157.166, 160.482, 158.272, 157.39, 158.836, 157.782, 159.71, 157.596, 158.192, 158.802, 159.17, 159.212, 158.544, 157.046, 158.892, 158.462, 158.428, 158.598, 158.408, 159.918, 159.37, 158.986, 159.326, 157.814, 158.972, 158.286, 159.79, 159.784, 159.056, 159.194, 158.526, 160.026, 158.812, 158.718, 158.764, 158.546, 157.594, 158.846, 158.344, 157.384, 158.16, 160.282, 158.278, 158.95, 158.582, 159.206, 157.906, 160.362, 158.378, 158.496, 158.418, 157.966, 159.73, 157.1, 158.73, 158.206, 159.138, 158.786, 159.398, 159.01, 158.042, 158.772, 157.442, 156.504, 157.85, 158.078, 159.166, 158.14, 160.148, 157.214, 158.668, 159.03, 157.654, 159.88, 160.984, 157.252, 159.018, 159.494, 158.714, 158.958, 157.868, 157.92, 158.136, 158.578, 159.086, 158.618, 159.72, 160.866, 157.668, 157.586, 158.81, 159.402, 158.638, 157.474, 159.256, 159.088, 159.342, 158.048, 158.946, 159.586, 157.818, 158.016, 157.97, 157.866, 157.3, 157.736, 158.538, 158.006, 157.878, 158.342, 158.418, 158.07, 159.48, 158.806, 159.224, 158.456, 158.55, 157.502, 157.938, 157.446, 158.428, 157.846, 159.338, 157.724, 160.246, 157.924, 158.322, 158.872, 157.34, 159.058, 157.316, 158.306, 159.04, 159.5, 158.644, 159.166, 159.412, 159.152, 157.624, 159.2, 158.728, 157.944, 158.198, 159.272, 158.234, 158.746, 159.248, 159.1, 158.102, 157.794, 157.444, 158.968, 157.528, 157.714, 158.324, 159.644, 157.952, 158.936, 158.992, 156.956, 157.848, 158.762, 158.262, 158.868, 158.264, 159.014, 157.504, 159.95, 158.754, 156.78, 157.776, 157.662, 158.746, 157.77, 159.574, 157.496, 156.752, 158.788, 158.01, 159.016, 158.932, 159.406, 158.428, 159.184, 157.858, 159.682, 157.548, 158.094, 158.972, 158.94, 158.45, 159.312, 159.738, 158.928, 158.492, 158.834, 158.732, 158.472, 158.268, 156.512, 158.074, 158.478, 157.95, 160.008, 158.11, 158.658, 158.882, 159.49, 158.696, 156.378, 159.366, 158.974, 159.416, 157.178, 157.066, 159.934, 159.354, 160.328, 158.738, 159.126, 159.132, 159.146, 158.476, 156.822, 158.602, 157.612, 158.924, 157.8, 158.378, 159.638, 158.824, 158.982, 158.51, 159.2, 158.09, 159.174, 156.558, 158.286, 159.18, 158.106, 157.998, 158.824, 158.356, 160.172, 157.23, 158.87, 160.48, 159.666, 158.486, 158.928, 158.922, 157.422, 157.88, 158.606, 157.962, 158.852, 158.226, 157.894, 158.33, 157.794, 158.13, 159.78, 158.492, 157.612, 157.926, 158.294, 159.21, 158.066, 158.786, 158.51, 158.562, 158.922, 157.812, 158.96, 158.658, 157.96, 157.68, 158.426, 160.226, 158.798, 158.542, 158.504, 157.686, 158.834, 159.464, 159.386, 158.96, 159.888, 157.69, 158.12, 159.188, 157.688, 158.52, 159.634, 158.14, 158.78, 159.934, 156.086, 159.326, 157.262, 156.848, 158.124, 158.82, 159.13, 157.04, 157.734, 158.764, 159.412, 157.378, 157.976, 158.492, 159.088, 158.948, 158.476, 158.806, 159.578, 157.902, 159.118, 159.112, 157.354, 157.258, 160.27, 157.336, 157.774, 159.062, 157.708, 158.8, 159.042, 158.08, 156.256, 158.748, 158.144, 159.256, 159.198, 158.198, 157.968, 159.698, 159.456, 158.204, 159.296, 157.42, 158.342, 157.564, 159.828, 158.864, 158.394, 158.362, 158.654, 159.066, 158.096, 158.426, 157.494, 157.376, 157.622, 158.092, 157.408, 158.868, 158.394, 158.412, 158.63, 158.766, 156.13, 159.178, 158.666, 158.718, 160.558, 159.196, 159.312, 157.322, 158.35, 158.466, 157.872, 158.88, 158.608, 158.21, 158.386, 158.468, 159.848, 158.48, 159.46, 157.922, 158.83, 157.922, 156.604, 157.478, 158.168, 157.61, 158.664, 159.964, 158.094, 158.178, 158.262, 158.64, 159.142, 159.272, 160.034, 158.676, 159.448, 158.276, 157.276, 159.096, 159.464, 159.26, 159.534, 157.042, 159.112, 158.216, 157.204, 159.512, 157.72, 158.46, 159.638, 158.98, 157.124, 157.032, 158.228, 157.716, 158.0, 157.902, 157.568, 158.994, 157.894, 158.414, 159.294, 157.672, 159.084, 158.474, 159.522, 158.434, 158.234, 157.946, 159.036, 159.216, 158.532, 159.374, 158.328, 157.898, 158.596, 157.112, 158.252, 157.462, 158.81, 158.758, 159.108, 159.58, 157.984, 157.964, 157.104, 158.658, 159.796, 158.418, 157.83, 159.78, 159.408, 159.504, 157.124, 157.37, 159.516, 158.02, 157.024, 159.316, 157.57, 158.192, 158.23, 158.908, 156.92, 157.338, 158.474, 158.494, 159.808, 157.84, 158.606, 159.694, 158.422, 159.152, 159.188, 159.14, 158.206, 157.206, 157.4, 159.404, 159.114, 158.48, 157.382, 159.188, 159.662, 159.662, 159.362, 158.776, 158.886, 158.222, 158.808, 158.778, 158.984, 158.582, 158.008, 159.066, 159.814, 158.994, 158.548, 156.926, 158.04, 158.404, 159.222, 158.246, 157.578, 160.176, 158.176, 158.628, 157.696, 159.608, 158.344, 157.892, 159.236, 157.634, 158.292, 158.018, 158.202, 158.04, 160.062, 158.806, 158.58, 159.048, 157.006, 159.072, 157.852, 156.966, 158.57, 157.646, 158.35, 158.126, 158.874, 157.93, 159.618, 158.58, 157.862, 158.346, 157.76, 157.334, 159.516, 158.638, 158.384, 158.318, 158.602, 159.09, 158.702, 158.182, 158.376, 159.058, 157.9, 158.52, 158.218, 156.9, 160.822, 157.642, 157.45, 159.318, 158.238, 158.272, 158.202, 158.166, 159.218, 158.988, 159.414, 158.496, 157.896, 158.518, 157.764, 159.032, 158.194, 157.384, 156.86, 158.514, 159.786, 158.704, 158.41, 158.71, 157.906, 159.588, 156.558, 157.862, 158.028, 157.968, 156.6, 157.444, 158.99, 158.516, 158.212, 159.442, 159.164, 158.998, 159.134, 158.882, 158.626, 157.828, 157.7, 159.012, 159.534, 157.62, 158.43, 157.368, 159.25, 158.178, 158.654, 158.95, 158.546, 158.494, 158.458, 157.502, 158.842, 157.812, 157.974, 157.902, 158.864, 157.73, 159.646, 159.058, 158.264, 157.296, 157.492, 159.56, 158.058, 158.696, 159.44, 158.366, 158.75, 158.022, 158.412, 159.924, 157.732, 158.28, 158.278, 160.512, 157.876, 159.48, 158.214, 158.436, 158.746, 158.452, 157.644, 159.324, 159.058, 158.752, 158.324, 158.912, 159.74, 157.952, 159.31, 159.056, 160.344, 159.114, 156.92, 157.932, 158.64, 158.414, 158.442, 158.392, 158.376, 158.76, 157.702, 158.444, 158.372, 157.816, 158.97, 157.2, 158.392, 157.676, 158.622, 158.338, 159.086, 159.68, 158.96, 158.674, 158.546, 157.52, 157.442, 159.324, 159.73, 158.812, 157.828, 158.574, 157.376, 159.598, 157.604, 159.734, 158.026, 158.086, 156.382, 159.38, 158.252, 159.242, 158.588, 157.098, 158.0, 158.648, 158.384, 160.212, 157.652, 157.606, 158.45, 158.506, 158.686, 159.088, 158.586, 158.718, 158.564, 159.342, 157.536, 157.862, 159.6, 157.428, 157.854, 158.686, 156.918, 158.6, 159.442, 156.646, 158.762, 158.79, 159.51, 157.568, 157.864, 159.562, 157.95, 159.778, 158.902, 158.658, 159.422, 159.998, 159.1, 157.544, 159.166, 158.188, 158.9, 158.478, 158.278, 159.2, 159.52, 158.908, 159.834, 157.904, 158.726, 157.398, 158.208, 157.802, 159.68, 158.598, 158.448, 159.214, 158.08, 158.546, 157.086, 157.858, 158.026, 158.17, 157.396, 157.93, 159.16, 159.396, 159.324, 159.43, 158.27, 158.196, 157.95, 157.838, 159.306, 158.07, 158.36, 158.6, 158.148, 158.756, 157.816, 157.446, 158.248, 158.312, 158.574, 157.908, 158.166, 157.95, 159.534, 159.896, 157.002, 158.268, 157.772, 157.876, 158.494, 158.34, 158.276, 159.816, 158.272, 159.206, 158.568, 159.594, 159.14, 157.78, 157.52, 159.152, 157.378, 157.786, 158.742, 158.218, 159.44, 159.222, 158.596, 159.698, 158.836, 159.138, 156.554, 158.162, 158.732, 158.764, 158.77, 158.71, 159.188, 158.122, 159.384, 159.436, 158.382, 158.672, 159.188, 157.892, 157.966, 158.724, 158.142, 158.0, 158.438, 159.324, 158.078, 157.476, 158.992, 158.824, 158.166, 158.894, 158.742, 159.84, 159.36, 157.924, 158.272, 159.688, 160.026, 157.688, 159.322, 159.386, 158.558, 158.238, 158.924, 159.1, 157.79, 159.296, 158.194, 158.338, 159.18, 157.908, 157.64, 157.236, 158.546, 158.036, 158.636, 156.602, 158.4, 159.55, 157.578, 157.48, 158.696, 159.354, 159.028, 157.774, 158.226, 157.572, 158.39, 159.076, 157.094, 155.674, 159.64, 159.452, 159.504, 159.49, 158.17, 158.824, 158.278, 158.694, 161.068, 157.698, 156.632, 157.438, 159.07, 158.478, 158.174, 160.43, 158.896, 158.848, 158.226, 157.25, 157.126, 158.184, 158.944, 158.988, 157.414, 157.504, 158.87, 158.96, 159.406, 158.888, 158.472, 157.9, 158.51, 159.214, 159.548, 159.436, 156.834, 159.502, 157.912, 157.402, 159.416, 158.468, 158.508, 158.39, 159.186, 157.008, 158.176, 157.82, 158.168, 157.568, 158.596, 158.312, 158.48, 159.446, 158.896, 157.554, 157.966, 159.302, 159.802, 158.62, 157.212, 158.28, 158.5, 158.756, 157.084, 157.768, 158.854, 158.068, 157.47, 157.34, 160.05, 157.262, 157.484, 157.526, 158.618, 158.418, 157.84, 158.776, 158.13, 160.062, 157.56, 158.986, 160.048, 157.294, 157.488, 157.214, 157.3, 158.33, 157.792, 156.626, 158.024, 158.644, 158.486, 157.592, 156.4, 158.496, 157.53, 158.938, 157.768, 158.302, 157.594, 159.62, 159.572, 159.004, 159.298, 158.274, 160.408, 158.75, 157.786, 157.408, 157.624, 159.4, 157.956, 158.706, 158.554, 159.092, 158.772, 157.192, 160.488, 159.08, 160.04, 158.266, 157.194, 159.07, 159.038, 159.106, 158.47, 158.746, 158.992, 158.692, 160.614, 159.168, 156.74, 156.836, 157.846, 160.38, 158.196, 159.302, 158.626, 158.746, 158.906, 158.708, 159.5, 158.74, 157.668, 158.084, 158.426, 159.008, 158.642, 158.044, 158.41, 159.746, 158.736, 158.552, 156.988, 160.118, 158.226, 158.546, 159.398, 159.574, 157.864, 160.776, 159.234, 158.022, 158.136, 158.486, 157.684, 158.67, 158.206, 157.87, 157.444, 157.424, 159.412, 159.25, 157.0, 158.364, 158.31, 158.454, 157.79, 158.936, 158.29, 157.95, 158.38, 158.614, 159.038, 158.218, 157.536, 159.418, 158.974, 158.298, 158.16, 159.668, 157.93, 157.768, 156.062, 157.424, 158.456, 157.99, 158.214, 158.334, 157.892, 157.2, 158.47, 157.146, 159.258, 159.606, 159.818, 159.018, 156.174, 157.442, 157.612, 157.812, 158.836, 158.864, 156.974, 157.948, 158.402, 158.15, 159.448, 158.936, 160.11, 156.726, 159.078, 158.814, 156.864, 158.258, 157.712, 158.388, 158.308, 157.146, 158.07, 158.564, 159.43, 158.848, 157.556, 158.492, 158.854, 157.244, 158.484, 159.93, 156.794, 159.582, 160.428, 158.71, 157.658, 158.576, 158.06, 157.316, 159.288, 158.184, 159.58, 159.932, 158.53, 158.542, 158.59, 158.686, 158.704, 158.368, 156.912, 158.006, 159.382, 157.522, 157.088, 158.154, 159.444, 158.21, 157.158, 158.542, 158.35, 159.05, 159.808, 159.89, 158.102, 158.116, 158.04, 158.27, 158.506, 157.386, 159.002, 158.172, 160.098, 158.156, 158.394, 157.666, 157.818, 158.292, 158.584, 158.272, 158.674, 157.668, 160.012, 157.748, 158.658, 159.648, 158.368, 159.372, 160.352, 158.84, 157.338, 158.46, 158.914, 158.026, 159.486, 159.732, 159.196, 158.618, 158.23, 158.608, 159.08, 156.064, 157.564, 157.746, 158.85, 159.292, 158.03, 158.236, 159.37, 157.764, 158.722, 160.786, 158.136, 158.654, 159.042, 157.622, 158.296, 157.606, 158.5, 157.684, 157.982, 158.042, 159.962, 158.14, 158.436, 157.522, 158.034, 158.354, 158.44, 158.278, 158.738, 157.712, 158.534, 158.118, 159.114, 157.588, 158.35, 159.344, 159.35, 159.112, 157.884, 156.788, 159.336, 158.662, 157.588, 160.086, 158.352, 157.88, 157.586, 157.422, 159.576, 158.18, 157.44, 159.66, 159.228, 158.74, 158.066, 159.182, 158.198, 159.9, 159.602, 158.148, 159.38, 157.934, 157.024, 159.4, 158.82, 158.314, 159.136, 158.29, 158.742, 159.054, 157.996, 158.894, 157.484, 159.086, 160.908, 159.268, 157.0, 158.62, 158.344, 158.164, 159.722, 160.028, 158.036, 158.928, 157.256, 159.31, 156.616, 159.47, 157.172, 157.766, 159.788, 158.496, 158.656, 159.338, 159.15, 158.108, 159.2, 158.736, 158.416, 159.304, 158.794, 159.024, 157.146, 157.712, 158.066, 157.692, 157.79, 157.768, 158.824, 158.402, 158.506, 158.386, 159.58, 158.492, 158.272, 158.006, 160.098, 158.712, 158.044, 158.868, 157.662, 159.664, 159.684, 158.412, 158.808, 157.774, 159.056, 159.556, 159.584, 158.002, 159.59, 159.34, 157.564, 156.268, 157.984, 158.242, 157.77, 158.69, 158.986, 158.462, 158.72, 159.246, 157.406, 158.396, 159.348, 157.426, 157.99, 158.516, 158.314, 158.14, 157.738, 158.8, 157.96, 160.66, 157.244, 157.74, 157.37, 159.198, 159.18, 158.898, 158.11, 159.63, 157.782, 158.032, 157.564, 157.722, 158.082, 158.622, 159.37, 159.512, 157.614, 158.238, 159.226, 157.41, 157.436, 157.404, 158.794, 157.302, 157.156, 158.148, 158.828, 160.126, 158.584, 158.782, 159.62, 159.18, 157.546, 159.006, 158.348, 158.706, 157.948, 160.092, 157.168, 157.606, 158.722, 158.324, 158.582, 159.338, 157.564, 158.844, 158.662, 159.062, 157.064, 158.578, 156.892, 159.93, 158.998, 159.898, 158.072, 159.292, 159.606, 159.352, 158.814, 158.708, 158.006, 158.984, 158.512, 157.798, 160.336, 158.736, 157.93, 158.942, 158.602, 158.106, 159.598, 158.0, 158.902, 158.81, 158.286, 158.484, 159.228, 159.326, 159.516, 159.048, 157.258, 158.364, 158.162, 159.574, 159.22, 159.258, 158.314, 157.078, 157.464, 159.076, 159.454, 158.766, 158.812, 158.522, 159.474, 159.552, 158.824, 157.73, 157.476, 160.164, 157.936, 158.444, 158.756, 159.378, 159.816, 158.708, 157.666, 159.996, 159.474, 159.544, 158.954, 159.478, 158.028, 157.15, 160.342, 158.762, 158.658, 158.002, 157.44, 157.54, 156.95, 157.446, 158.262, 157.33, 159.498, 159.924, 159.588, 159.086, 157.824, 158.684, 158.43, 159.534, 158.584, 160.528, 158.93, 159.054, 158.318, 157.618, 158.074, 158.464, 158.194, 160.162, 158.422, 158.078, 158.276, 159.554, 159.146, 158.632, 158.8, 157.948, 158.992, 158.066, 156.03, 158.64, 158.048, 156.394, 158.22, 157.106, 155.272, 159.44, 160.208, 158.988, 158.834, 159.256, 159.658, 158.674, 156.768, 158.146, 159.572, 159.766, 157.936, 159.176, 157.868, 158.12, 159.134, 157.174, 157.972, 158.606, 159.984, 157.894, 159.226, 160.38, 158.456, 158.676, 157.802, 158.296, 158.394, 158.93, 157.034, 159.334, 158.844, 159.022, 158.872, 159.29, 158.09, 158.876, 158.146, 157.802, 158.848, 159.026, 158.558, 158.462, 158.532, 159.81, 157.734, 157.434, 157.368, 158.972, 158.438, 159.236, 158.454, 157.612, 157.846, 158.398, 158.262, 158.038, 159.418, 158.06, 159.372, 158.534, 158.432, 159.976, 159.57, 157.896, 156.336, 157.322, 159.096, 157.74, 160.728, 157.51, 160.112, 159.558, 159.384, 158.786, 157.516, 157.99, 157.31, 159.14, 157.598, 159.3, 157.824, 158.504, 158.532, 158.16, 157.822, 159.19, 159.406, 158.164, 158.346, 159.618, 159.136, 158.546, 156.642, 158.434, 158.814, 159.008, 158.5, 159.844, 158.66, 157.712, 158.062, 157.454, 157.188, 158.188, 157.352, 157.874, 158.178, 158.01, 158.668, 158.926, 157.502, 159.698, 158.93, 158.374, 159.634, 158.256, 159.032, 157.232, 159.824, 157.812, 158.292, 158.162, 157.868, 158.798, 158.22, 158.32, 157.978, 158.434, 158.094, 157.338, 158.932, 158.322, 159.42, 158.186, 156.97, 158.994, 158.608, 158.396, 157.87, 157.824, 158.99, 157.712, 158.872, 159.5, 158.61, 159.248, 158.574, 158.208, 158.144, 158.596, 158.862, 158.344, 158.214, 157.78, 157.53, 156.432, 159.192, 159.016, 158.426, 157.908, 158.986, 157.962, 157.228, 157.738, 158.792, 160.068, 158.758, 157.658, 157.98, 157.422, 157.378, 157.792, 158.622, 158.122, 157.3, 158.786, 156.888, 158.846, 158.82, 158.036, 159.046, 158.192, 157.952, 158.356, 160.17, 157.226, 159.624, 158.73, 158.146, 157.296, 158.762, 159.978, 158.92, 157.702, 159.562, 158.78, 158.176, 159.038, 157.234, 159.35, 158.474, 158.404, 158.498, 157.66, 158.378, 158.048, 158.078, 157.384, 157.936, 159.066, 159.226, 158.52, 159.382, 158.404, 157.214, 157.66, 157.896, 159.134, 157.778, 158.456, 159.46, 158.926, 158.406, 157.628, 157.274, 157.914, 157.722, 158.484, 156.308, 159.196, 157.992, 158.892, 158.946, 160.534, 158.21, 159.064, 158.314, 158.952, 158.088, 159.094, 158.406, 158.728, 159.576, 159.252, 158.972, 159.374, 157.672, 158.1, 158.032, 157.554, 159.978, 157.026, 159.044, 159.834, 158.834, 157.466, 158.768, 158.498, 157.352, 159.024, 157.114, 159.782, 157.54, 160.636, 158.958, 158.972, 158.372, 159.628, 159.898, 158.28, 158.068, 158.864, 157.48, 159.004, 161.03, 157.786, 159.63, 158.412, 159.324, 158.812, 158.92, 157.776, 160.636, 158.96, 158.16, 158.162, 158.902, 159.912, 159.8, 156.964, 159.204, 158.554, 158.7, 158.342, 158.388, 159.07, 158.86, 158.444, 158.762, 157.604, 159.238, 157.892, 157.594, 157.732, 158.268, 158.988, 158.852, 158.974, 159.578, 159.052, 157.706, 160.172, 158.96, 158.6, 158.204, 159.506, 157.346, 158.374, 158.826, 158.976, 158.328, 159.55, 158.19, 158.782, 159.242, 159.026, 158.938, 159.324, 157.414, 157.888, 159.49, 158.676, 159.296, 157.688, 159.33, 158.322, 157.402, 158.982, 158.866, 157.29, 158.96, 157.184, 158.024, 159.098, 158.478, 158.85, 158.688, 158.506, 159.746, 158.694, 159.02, 159.776, 157.53, 159.174, 157.74, 159.882, 158.616, 157.892, 159.326, 158.312, 159.15, 158.238, 158.598, 158.26, 158.148, 158.348, 157.998, 155.06, 158.112, 158.326, 158.268, 158.552, 158.872, 158.396, 158.7, 159.286, 159.81, 157.594, 158.806, 158.57, 158.04, 158.3, 157.876, 158.748, 159.72, 158.578, 158.694, 157.616, 157.228, 158.358, 160.344, 157.338, 156.618, 158.014, 157.438, 158.566, 158.092, 157.152, 158.872, 157.936, 158.61, 159.698, 157.37, 159.952, 158.11, 158.798, 158.046, 158.548, 158.852, 157.162, 158.09, 159.586, 157.496, 157.762, 158.974, 158.464, 160.198, 158.544, 158.69, 159.07, 157.628, 157.736, 159.52, 158.544, 158.706, 157.31, 160.054, 159.622, 157.858, 159.358, 158.304, 156.726, 158.554, 158.458, 158.546, 160.062, 158.734, 160.63, 157.84, 159.688, 157.81, 157.948, 158.37, 157.76, 157.688, 158.53, 158.344, 158.51, 158.958, 159.078, 159.762, 159.174, 158.198, 157.682, 159.55, 160.088, 159.622, 158.33, 158.782, 159.86, 158.772, 159.974, 157.72, 157.078, 157.886, 157.02, 157.266, 156.77, 156.784, 158.182, 158.672, 158.94, 158.014, 157.002, 158.29, 159.514, 159.726, 158.826, 157.832, 159.454, 158.422, 157.992, 156.742, 158.602, 159.31, 158.09, 159.184, 159.518, 157.778, 159.744, 158.516, 160.474, 159.216, 158.17, 158.302, 158.498, 158.71, 158.734, 158.46, 158.208, 158.044, 159.138, 158.82, 156.596, 158.186, 158.75, 157.894, 157.626, 158.626, 158.018, 158.392, 159.734, 158.9, 157.648, 158.63, 158.164, 158.352, 158.77, 158.644, 157.648, 159.28, 159.334, 158.292, 158.128, 158.062, 157.344, 158.662, 157.636, 159.958, 159.248, 158.98, 156.01, 158.876, 159.816, 158.032, 159.174, 158.988, 158.196, 159.17, 158.616, 160.338, 157.292, 156.902, 157.61, 158.784, 159.898, 157.772, 160.308, 157.274, 158.222, 158.936, 159.6, 158.418, 158.196, 157.686, 157.276, 158.302, 158.534, 157.718, 158.586, 157.726, 158.824, 158.442, 159.434, 159.34, 158.654, 160.12, 158.318, 158.404, 158.79, 157.804, 158.446, 157.91, 158.738, 158.734, 158.606, 158.766, 159.18, 158.72, 160.406, 158.516, 159.542, 159.5, 158.804, 158.69, 158.758, 158.69, 160.248, 158.484, 158.856, 158.808, 157.974, 159.588, 158.934, 157.164, 157.992, 157.578, 158.288, 158.912, 158.566, 158.116, 157.95, 158.846, 157.038, 159.43, 159.098, 158.144, 159.118, 157.606, 157.004, 157.962, 159.018, 159.732, 158.278, 159.382, 159.38, 158.348, 159.538, 159.11, 158.182, 157.978, 158.742, 158.724, 158.626, 158.462, 160.226, 158.682, 158.928, 157.586, 157.396, 159.284, 157.744, 158.006, 157.864, 157.52, 157.544, 159.366, 157.672, 159.146, 158.776, 158.656, 159.314, 158.87, 156.61, 159.178, 158.122, 157.25, 157.132, 158.196, 158.21, 158.198, 157.976, 159.834, 158.672, 158.508, 159.434, 158.782, 158.336, 159.088, 158.038, 158.156, 158.206, 158.936, 159.148, 158.31, 157.87, 159.834, 158.718, 159.332, 158.216, 158.626, 159.12, 159.162, 157.902, 158.632, 158.508, 156.91, 157.826, 157.652, 158.61, 157.452, 158.42, 159.632, 160.16, 157.86, 158.776, 156.658, 158.8, 157.66, 158.046, 157.936, 157.826, 158.628, 158.036, 157.876, 159.174, 158.564, 157.836, 157.508, 159.212, 159.88, 158.584, 159.74, 158.11, 157.54, 158.002, 157.274, 158.76, 157.66, 158.692, 157.504, 159.166, 159.368, 159.1, 159.498, 157.79, 158.27, 158.374, 159.472, 157.626, 158.338, 158.034, 158.65, 159.78, 158.218, 159.17, 159.934, 157.682, 158.338, 158.924, 158.466, 159.048, 158.942, 158.184, 157.678, 159.026, 160.648, 158.972, 158.326, 158.45, 157.664, 158.404, 158.748, 158.798, 157.952, 159.282, 157.94, 159.004, 159.29, 158.876, 157.542, 158.392, 159.644, 160.964, 157.422, 158.794, 159.574, 159.506, 157.936, 158.74, 157.578, 159.844, 159.3, 158.522, 158.152, 157.188, 158.328, 159.054, 158.464, 158.178, 158.888, 158.444, 160.362, 158.978, 157.676, 158.482, 158.898, 157.6, 158.11, 160.25, 158.422, 157.238, 159.322, 158.938, 157.85, 157.594, 158.216, 157.832, 160.054, 158.098, 157.798, 159.916, 158.202, 156.798, 158.988, 159.96, 157.738, 159.778, 157.756, 158.288, 158.078, 159.802, 158.146, 159.616, 158.762, 158.878, 158.324, 157.93, 158.288, 159.508, 157.682, 158.002, 158.228, 158.782, 157.36, 160.01, 156.566, 158.096, 157.674, 158.916, 157.494, 157.836, 159.042, 157.02, 158.626, 159.196, 158.572, 158.278, 157.018, 158.642, 159.8, 158.28, 158.312, 157.776, 159.402, 158.68, 158.386, 159.736, 159.074, 159.112, 160.422, 158.864, 157.974, 159.17, 158.774, 157.228, 158.188, 158.99, 157.306, 157.542, 157.878, 158.448, 159.188, 158.716, 156.038, 158.404, 158.022, 159.002, 156.224, 161.088, 160.808, 159.67, 159.584, 159.374, 158.112, 159.04, 156.442, 157.836, 158.202, 159.916, 158.014, 157.558, 159.778, 159.022, 158.662, 158.108, 158.83, 157.512, 157.636, 159.142, 159.292, 157.532, 157.24, 158.23, 157.66, 157.596, 158.99, 158.594, 158.64, 157.738, 158.924, 158.486, 156.962, 155.74, 160.41, 159.364, 158.918, 158.892, 158.83, 159.014, 157.944, 157.028, 157.178, 158.076, 158.334, 160.12, 159.192, 157.998, 158.562, 158.736, 158.444, 157.622, 157.826, 158.914, 158.224, 157.592, 156.198, 159.126, 159.226, 158.186, 159.168, 159.194, 157.828, 159.256, 158.8, 156.02, 158.606, 159.122, 158.744, 158.43, 159.83, 159.446, 157.8, 158.922, 158.99, 158.764, 159.81, 158.628, 157.138, 158.15, 157.41, 159.254, 157.996, 158.238, 157.924, 158.048, 159.214, 158.628, 160.41, 158.342, 157.456, 159.932, 157.686, 156.844, 158.478, 157.254, 158.384, 157.688, 159.768, 157.944, 158.598, 158.468, 158.408, 158.312, 159.546, 158.608, 158.304, 158.618, 158.514, 159.286, 158.234, 158.122, 157.194, 156.624, 158.326, 157.078, 160.476, 157.814, 157.924, 161.316, 158.962, 158.71, 159.388, 158.244, 158.812, 157.518, 158.782, 158.2, 158.984, 158.628, 157.644, 157.942, 159.008, 158.54, 158.386, 159.73, 157.544, 159.574, 158.882, 159.366, 157.314, 160.09, 157.546, 158.584, 158.128, 158.074, 158.326, 158.232, 159.058, 159.76, 158.372, 159.282, 159.278, 158.424, 158.448, 158.338, 158.24, 158.714, 159.512, 156.778, 158.034, 158.448, 157.194, 159.498, 157.78, 158.186, 158.586, 159.562, 157.114, 158.66, 158.858, 156.816, 159.248, 159.186, 159.048, 158.772, 158.348, 157.092, 157.842, 158.178, 157.718, 157.282, 158.968, 158.254, 159.32, 159.388, 159.178, 158.426, 158.768, 158.4, 158.052, 158.354, 158.152, 158.386, 158.78, 157.122, 158.136, 156.956, 158.028, 158.494, 158.808, 158.63, 158.7, 158.724, 157.114, 156.608, 157.52, 158.466, 158.85, 157.454, 158.4, 158.956, 158.626, 158.596, 160.022, 158.86, 157.946, 156.85, 158.502, 157.482, 157.774, 159.726, 158.09, 158.874, 157.604, 157.648, 158.832, 157.674, 157.9, 159.71, 158.726, 159.242, 158.082, 157.226, 159.168, 157.72, 158.722, 158.472, 158.366, 158.76, 159.838, 156.714, 158.572, 158.552, 157.212, 159.022, 157.834, 158.06, 158.24, 158.104, 156.606, 157.902, 158.734, 158.536, 158.094, 157.928, 158.192, 157.808, 158.102, 157.69, 158.528, 158.602, 158.72, 157.986, 158.782, 158.442, 158.422, 157.998, 157.988, 157.82, 159.326, 158.32, 158.348, 158.094, 157.866, 157.62, 159.688, 159.838, 159.944, 157.656, 158.5, 158.454, 159.0, 159.684, 157.268, 159.684, 157.296, 157.83, 158.718, 157.416, 159.414, 158.952, 159.224, 158.846, 157.836, 159.274, 159.56, 157.596, 157.946, 158.438, 158.196, 158.808, 158.556, 157.28, 159.152, 158.346, 158.27, 159.36, 158.386, 159.14, 159.296, 159.258, 159.826, 158.64, 159.0, 157.546, 158.6, 158.65, 156.422, 158.058, 157.4, 157.556, 157.398, 159.494, 158.442, 158.2, 158.238, 159.226, 158.196, 158.556, 159.282, 159.074, 157.898, 159.7, 158.056, 157.912, 158.72, 158.784, 158.558, 157.818, 158.832, 158.472, 157.358, 157.98, 158.928, 157.362, 159.264, 157.412, 157.162, 159.496, 158.16, 159.004, 159.768, 157.366, 159.2, 159.276, 157.836, 159.088, 157.584, 157.014, 159.316, 158.366, 159.378, 158.696, 160.33, 157.818, 158.098, 160.034, 157.78, 158.696, 157.748, 159.196, 159.022, 156.63, 158.252, 158.454, 158.07, 159.834, 157.356, 159.018, 157.25, 158.452, 159.272, 157.81, 157.798, 158.996, 158.602, 156.808, 158.596, 159.308, 159.536, 157.56, 159.408, 158.956, 158.126, 158.212, 157.102, 156.848, 157.884, 157.87, 158.338, 159.194, 158.654, 158.814, 158.306, 157.048, 158.482, 158.73, 159.808, 157.55, 160.126, 159.752, 160.348, 159.772, 158.52, 159.93, 157.512, 159.968, 156.796, 160.044, 159.544, 158.694, 158.986, 159.844, 156.968, 157.788, 158.696, 157.47, 159.096, 157.988, 158.448, 159.066, 159.556, 158.99, 159.12, 158.612, 156.42, 158.428, 158.69, 157.436, 159.476, 158.512, 158.302, 157.922, 157.764, 159.156, 160.048, 158.372, 158.262, 158.94, 158.806, 158.582, 157.714, 156.938, 156.932, 157.464, 159.35, 157.01, 158.564, 157.616, 157.998, 158.308, 158.466, 158.566, 158.462, 159.29, 159.056, 157.88, 158.306, 160.332, 158.602, 157.83, 158.396, 160.078, 159.228, 157.978, 159.336, 158.8, 157.466, 159.322, 160.738, 159.664, 159.186, 158.974, 159.326, 157.104, 158.1, 157.702, 158.046, 158.222, 159.306, 157.878, 159.432, 158.858, 157.942, 157.122, 158.592, 158.18, 157.23, 158.296, 158.78, 160.44, 159.678, 158.776, 159.722, 158.742, 158.358, 159.452, 159.386, 159.354, 159.34, 157.738, 157.456, 155.76, 158.73, 158.51, 157.786, 156.98, 157.666, 158.62, 159.706, 157.834, 158.112, 159.838, 158.444, 156.682, 158.63, 157.846, 158.85, 156.986, 157.148, 159.482, 157.694, 158.328, 159.614, 158.928, 159.506, 158.982, 158.994, 157.958, 158.258, 158.016, 159.84, 157.714, 157.486, 158.372, 157.814, 159.096, 158.926, 157.978, 157.326, 159.628, 159.498, 158.808, 158.72, 158.27, 159.552, 159.292, 158.852, 159.864, 158.534, 158.618, 157.76, 158.104, 157.928, 159.822, 159.262, 159.064, 157.734, 158.008, 159.104, 158.256, 158.752, 158.182, 159.414, 158.682, 158.768, 158.358, 157.67, 159.802, 159.238, 159.244, 155.926, 158.32, 158.266, 158.906, 158.174, 159.458, 157.682, 159.108, 158.108, 159.404, 158.404, 158.086, 158.284, 157.458, 158.48, 158.844, 157.41, 158.936, 156.756, 158.548, 158.436, 158.184, 157.49, 159.828, 158.664, 159.204, 158.112, 158.506, 157.22, 158.144, 158.386, 160.74, 157.122, 158.49, 158.5, 158.148, 158.96, 156.92, 158.412, 158.172, 157.014, 158.41, 157.284, 158.27, 158.438, 158.772, 158.14, 158.53, 157.96, 158.726, 158.41, 159.186, 158.916, 158.342, 160.122, 157.424, 158.582, 159.238, 158.41, 158.304, 160.598, 158.052, 158.348, 157.976, 158.25, 158.224, 158.916, 158.08, 157.454, 158.524, 157.872, 158.828, 158.37, 158.732, 159.05, 158.154, 157.742, 159.588, 158.686, 157.858, 158.308, 158.506, 159.65, 159.626, 157.88, 158.148, 158.25, 158.704, 159.164, 158.138, 158.134, 158.378, 158.9, 158.416, 157.492, 159.104, 158.01, 158.056, 158.79, 158.476, 159.908, 157.8, 158.37, 157.586, 158.078, 157.896, 158.05, 159.466, 159.11, 156.424, 158.794, 159.06, 160.758, 158.656, 158.22, 158.244, 156.7, 159.046, 159.116, 159.006, 158.954, 158.53, 157.884, 157.516, 157.34, 158.348, 157.536, 158.388, 159.446, 158.676, 159.056, 157.996, 158.202, 157.144, 157.266, 158.65, 157.824, 158.338, 158.11, 158.176, 159.164, 158.564, 157.738, 157.25, 157.026, 157.422, 156.736, 157.156, 157.814, 157.746, 158.208, 158.234, 158.002, 158.26, 159.274, 158.29, 159.056, 157.93, 158.676, 157.904, 157.996, 159.306, 157.666, 158.856, 157.944, 158.884, 160.07, 158.562, 156.778, 159.598, 159.58, 157.82, 158.574, 158.476, 157.962, 158.962, 159.074, 159.55, 159.642, 159.27, 159.226, 158.284, 159.196, 159.832, 157.682, 158.664, 157.276, 158.09, 159.622, 157.594, 158.956, 158.978, 157.758, 158.188, 158.216, 158.342, 158.86, 158.066, 158.556, 159.678, 158.082, 156.538, 159.19, 158.85, 159.092, 159.992, 158.788, 158.688, 158.756, 158.214, 156.76, 157.716, 158.766, 159.156, 158.942, 160.588, 158.754, 159.694, 159.612, 159.172, 157.66, 159.78, 159.298, 157.608, 158.788, 159.776, 158.556, 157.376, 157.718, 158.492, 158.122, 157.904, 158.922, 158.716, 159.514, 158.286, 159.1, 157.942, 159.166, 159.034, 159.948, 157.43, 159.356, 158.62, 159.686, 158.072, 158.374, 159.19, 158.142, 159.044, 157.806, 159.03, 158.154, 158.396, 157.28, 159.452, 157.784, 157.292, 159.626, 158.708, 158.17, 157.718, 158.29, 160.35, 157.776, 157.946, 158.308, 158.618, 159.08, 158.432, 158.672, 157.426, 159.232, 158.44, 157.522, 157.656, 158.312, 157.44, 158.54, 158.268, 157.406, 158.78, 158.718, 157.866, 158.732, 159.15, 158.174, 158.172, 156.806, 158.204, 158.97, 157.624, 158.196, 157.97, 158.764, 158.802, 159.262, 158.338, 158.172, 158.944, 158.2, 158.236, 158.088, 159.034, 157.408, 157.576, 159.014, 158.616, 159.084, 159.008, 157.55, 160.21, 158.554, 159.272, 159.16, 158.57, 158.4, 158.76, 159.642, 158.12, 159.684, 157.61, 158.1, 160.116, 157.556, 158.914, 158.352, 158.736, 158.414, 158.678, 157.534, 158.422, 159.776, 157.448, 158.742, 158.72, 158.262, 158.448, 157.17, 157.64, 158.37, 158.926, 157.904, 158.444, 160.56, 156.944, 157.89, 158.354, 157.518, 158.908, 157.342, 157.402, 155.972, 158.5, 157.254, 159.16, 158.318, 158.376, 159.928, 158.472, 158.602, 159.034, 159.072, 159.052, 157.156, 158.76, 158.398, 158.128, 158.028, 156.63, 157.266, 158.618, 157.518, 159.076, 158.76, 156.77, 158.54, 157.958, 157.72, 158.252, 158.624, 158.758, 159.13, 159.832, 158.718, 158.622, 158.098, 157.116, 157.422, 157.248, 158.758, 158.718, 157.696, 158.364, 157.312, 158.664, 157.212, 157.532, 158.552, 157.242, 158.9, 157.74, 160.202, 159.376, 158.292, 159.088, 158.67, 158.156, 158.1, 157.788, 158.488, 157.578, 159.34, 158.158, 158.772, 159.506, 158.106, 159.448, 158.096, 158.602, 160.022, 157.534, 158.08, 158.03, 157.704, 157.13, 159.27, 158.944, 158.808, 158.394, 159.424, 158.374, 156.564, 158.348, 159.378, 159.57, 156.536, 158.956, 158.3, 159.738, 158.146, 158.502, 157.84, 158.648, 159.02, 158.038, 158.964, 157.616, 158.156, 159.854, 157.496, 158.7, 157.162, 158.914, 159.85, 158.11, 158.686, 158.936, 159.12, 157.484, 158.922, 157.986, 159.048, 158.534, 158.256, 157.218, 158.818, 158.758, 160.466, 157.732, 158.296, 157.926, 159.31, 158.372, 157.942, 158.096, 158.074, 157.364, 157.998, 157.754, 158.622, 158.534, 158.292, 159.058, 159.406, 159.754, 158.776, 160.384, 157.984, 158.454, 159.886, 158.084, 157.804, 157.168, 158.948, 158.48, 158.652, 158.962, 157.646, 157.462, 159.452, 156.892, 158.5, 156.82, 158.74, 157.888, 160.02, 157.702, 158.928, 158.346, 158.424, 157.818, 157.204, 158.33, 158.708, 158.564, 159.236, 158.65, 159.504, 158.25, 157.638, 158.03, 157.486, 159.088, 159.492, 157.236, 157.912, 158.924, 157.316, 159.52, 157.848, 158.36, 159.578, 158.352, 158.028, 158.51, 157.326, 159.16, 158.412, 159.156, 159.644, 158.066, 159.226, 156.894, 157.778, 158.284, 157.788, 158.204, 159.62, 158.65, 157.138, 159.152, 157.75, 160.194, 158.524, 157.97, 158.928, 158.752, 157.988, 159.018, 157.99, 159.688, 156.154, 158.926, 158.284, 158.544, 158.922, 158.2, 157.088, 157.78, 158.662, 159.768, 158.402, 158.502, 156.85, 158.696, 160.388, 159.232, 158.844, 159.326, 158.37, 158.306, 158.344, 159.392, 157.336, 158.608, 157.508, 158.542, 158.59, 157.974, 159.024, 158.236, 158.426, 159.568, 157.868, 159.134, 158.818, 158.642, 157.88, 157.304, 159.172, 158.74, 157.736, 159.878, 157.632, 158.54, 158.036, 159.548, 156.706, 158.054, 158.678, 157.522, 158.83, 158.598, 160.25, 159.466, 158.372, 158.34, 158.134, 159.082, 157.704, 157.6, 158.78, 158.71, 158.546, 158.896, 159.224, 158.288, 158.098, 159.12, 159.64, 159.124, 159.214, 158.932, 159.262, 158.0, 157.978, 159.292, 158.3, 159.184, 157.674, 158.746, 160.948, 159.274, 160.336, 158.986, 157.942, 158.832, 157.822, 157.608, 159.496, 159.1, 159.246, 160.198, 157.524, 159.15, 159.008, 158.026, 159.202, 157.882, 159.178, 158.122, 157.47, 157.878, 159.382, 159.014, 158.748, 157.186, 160.234, 158.412, 157.836, 158.116, 158.104, 159.426, 157.854, 159.372, 159.026, 157.614, 158.776, 158.468, 159.358, 158.136, 159.484, 159.394, 158.578, 160.858, 159.004, 158.454, 158.9, 158.424, 158.3, 158.638, 158.438, 158.466, 159.316, 158.366, 158.648, 158.12, 158.58, 158.134, 157.544, 159.93, 158.652, 158.92, 156.974, 157.65, 157.772, 158.366, 158.286, 158.12, 158.112, 156.694, 157.956, 160.324, 158.278, 157.416, 157.786, 158.018, 158.326, 157.404, 157.406, 158.192, 160.936, 158.618, 158.982, 157.528, 158.308, 157.078, 158.904, 158.978, 158.54, 158.926, 159.39, 158.914, 158.596, 156.246, 157.992, 159.234, 157.864, 158.02, 159.124, 157.688, 159.064, 156.962, 159.724, 159.964, 158.546, 158.784, 157.138, 158.65, 158.444, 157.178, 159.142, 158.488, 159.018, 159.484, 158.618, 158.692, 158.342, 159.606, 157.596, 158.656, 159.212, 159.61, 159.112, 156.602, 158.358, 158.786, 158.888, 158.36, 159.332, 158.838, 158.01, 158.562, 158.65, 157.984, 158.028, 158.09, 160.26, 156.562, 157.49, 158.17, 158.374, 159.156, 158.872, 159.818, 156.562, 158.856, 158.784, 159.554, 157.89, 160.132, 159.06, 158.65, 158.384, 159.438, 158.332, 158.71, 159.508, 157.198, 157.704, 158.708, 157.856, 159.454, 156.79, 157.474, 157.742, 155.79, 158.736, 159.474, 159.208, 158.772, 159.186, 158.222, 157.738, 157.996, 159.042, 159.138, 158.178, 157.31, 158.316, 158.94, 159.284, 159.034, 158.492, 159.116, 159.12, 159.232, 159.426, 158.15, 158.814, 158.624, 157.928, 159.688, 160.09, 158.328, 157.792, 159.042, 157.382, 157.712, 158.624, 158.968, 159.606, 160.068, 158.23, 158.044, 159.576, 158.32, 158.04, 158.996, 158.304, 156.944, 156.876, 159.512, 158.512, 158.816, 157.338, 159.432, 158.432, 159.68, 159.32, 159.312, 157.53, 159.36, 158.276, 158.492, 158.028, 158.16, 160.412, 157.376, 158.842, 158.18, 158.828, 158.826, 157.414, 160.542, 158.864, 158.39, 156.702, 157.792, 157.51, 159.67, 158.738, 157.992, 157.074, 157.114, 159.408, 159.42, 157.782, 159.264, 157.678, 159.084, 157.838, 159.192, 158.304, 160.278, 160.82, 158.23, 160.056, 158.154, 157.986, 158.938, 158.192, 158.702, 158.626, 158.486, 159.112, 158.952, 158.382, 158.516, 158.24, 156.462, 158.13, 158.106, 158.998, 160.292, 159.426, 157.668, 159.304, 158.974, 159.348, 158.7, 157.916, 157.348, 157.232, 158.818, 158.782, 157.802, 158.196, 156.926, 158.074, 157.68, 158.818, 159.45, 159.034, 158.152, 159.328, 158.422, 159.102, 159.26, 157.242, 160.364, 159.436, 158.776, 158.894, 158.524, 158.972, 158.206, 158.68, 158.644, 159.24, 157.75, 157.898, 158.842, 159.184, 157.714, 157.894, 158.092, 158.194, 158.3, 158.508, 158.74, 157.93, 158.492, 159.562, 158.1, 158.32, 157.552, 158.52, 159.56, 159.494, 159.186, 158.468, 158.55, 156.752, 157.89, 158.876, 160.006, 158.434, 157.762, 157.316, 159.57, 159.554, 157.582, 158.116, 159.126, 158.002, 158.948, 157.85, 159.154, 158.894, 157.616, 158.478, 157.168, 158.854, 157.53, 156.89, 158.212, 159.078, 158.12, 159.24, 157.626, 158.434, 158.672, 159.406, 158.952, 157.938, 159.706, 158.212, 158.632, 159.268, 158.114, 158.048, 158.352, 157.938, 158.134, 158.798, 159.854, 158.792, 157.71, 158.888, 158.428, 157.87, 158.468, 157.396, 158.306, 159.4, 158.186, 157.874, 158.666, 158.986, 157.906, 159.982, 158.24, 159.05, 158.43, 157.356, 157.61, 158.844, 158.272, 157.386, 158.356, 158.632, 159.534, 157.644, 158.378, 158.318, 158.506, 158.374, 159.468, 158.77, 158.584, 158.422, 158.25, 159.204, 157.556, 158.982, 159.252, 159.176, 159.056, 159.112, 157.82, 156.738, 158.702, 158.452, 158.59, 159.702, 158.876, 158.316, 158.368, 157.026, 158.698, 159.304, 157.87, 158.37, 158.45, 158.684, 158.19, 158.122, 159.478, 159.21, 158.86, 158.952, 159.164, 158.3, 156.33, 158.42, 159.564, 158.776, 157.262, 159.096, 158.794, 157.068, 159.046, 159.018, 157.954, 157.372, 159.07, 156.77, 157.518, 158.36, 159.53, 157.682, 158.734, 158.486, 159.378, 159.338, 158.98, 158.492, 159.176, 158.66, 157.598, 158.808, 158.316, 157.354, 157.87, 157.91, 159.078, 157.696, 156.252, 155.668, 158.8, 159.074, 158.646, 157.734, 158.136, 159.02, 157.944, 158.284, 157.982, 159.322, 157.576, 158.702, 157.206, 160.034, 158.49, 158.118, 157.63, 158.936, 158.35, 158.126, 158.186, 157.396, 157.648, 158.906, 159.01, 157.92, 157.682, 158.654, 156.962, 159.502, 159.38, 158.75, 158.66, 158.746, 158.79, 160.054, 159.358, 157.742, 159.1, 158.502, 160.0, 157.52, 158.83, 159.622, 159.26, 157.754, 158.036, 157.698, 158.042, 157.562, 158.658, 158.156, 157.096, 156.316, 158.814, 159.154, 159.766, 157.538, 158.242, 157.79, 157.224, 157.71, 157.114, 159.418, 159.026, 158.126, 160.064, 158.518, 158.584, 158.406, 157.298, 157.45, 158.548, 158.558, 156.46, 158.042, 159.93, 158.904, 156.194, 158.04, 159.776, 158.67, 159.436, 158.912, 157.782, 159.462, 158.56, 157.322, 158.984, 159.13, 158.826, 159.366, 158.082, 158.038, 159.736, 157.43, 157.188, 156.256, 158.008, 157.908, 158.592, 159.39, 157.93, 158.02, 159.048, 158.566, 157.356, 158.402, 158.292, 158.616, 158.746, 158.06, 158.358, 158.748, 159.068, 159.262, 159.156, 159.002, 157.296, 159.756, 159.63, 159.81, 156.846, 158.818, 159.126, 156.97, 157.904, 158.542, 158.574, 159.414, 158.858, 157.536, 157.842, 156.958, 159.7, 159.636, 157.506, 159.692, 156.41, 156.306, 158.856, 158.092, 158.362, 157.652, 159.192, 158.914, 158.462, 160.144, 157.79, 159.444, 159.226, 158.184, 158.442, 159.44, 157.49, 157.862, 158.594, 159.152, 158.292, 158.444, 159.984, 159.42, 159.604, 158.182, 159.266, 158.362, 158.472, 159.036, 159.308, 158.138, 157.576, 158.572, 158.246, 157.702, 157.488, 158.074, 159.794, 157.738, 160.496, 158.61, 157.13, 157.426, 158.01, 157.742, 158.172, 157.634, 159.174, 159.172, 158.796, 158.732, 159.11, 158.516, 158.522, 158.964, 157.848, 158.412, 157.006, 158.274, 159.216, 159.482, 158.95, 159.412, 158.0, 157.786, 159.298, 157.412, 158.978, 160.288, 158.408, 157.73, 158.824, 157.854, 159.83, 158.72, 157.616, 158.126, 159.272, 157.07, 158.082, 159.092, 159.342, 159.154, 158.404, 158.844, 158.452, 158.344, 158.548, 158.858, 158.018, 160.626, 160.618, 157.992, 158.656, 158.556, 158.75, 158.522, 158.704, 157.312, 159.624, 158.632, 157.894, 157.792, 158.532, 158.432, 157.912, 157.458, 159.584, 159.682, 157.874, 158.1, 158.556, 158.498, 158.154, 157.576, 158.72, 157.756, 159.152, 158.21, 158.506, 158.724, 159.034, 158.294, 158.716, 159.088, 158.662, 157.356, 158.028, 159.424, 158.78, 159.272, 158.414, 159.802, 159.792, 158.712, 159.366, 158.182, 157.618, 156.588, 159.482, 157.858, 158.734, 158.766, 157.46, 158.338, 157.814, 159.364, 158.008, 157.56, 159.842, 158.288, 158.228, 159.392, 159.39, 157.508, 158.184, 158.948, 158.644, 156.94, 158.114, 158.726, 157.43, 158.158, 158.324, 158.022, 159.408, 160.286, 158.19, 160.02, 158.288, 159.534, 159.172, 159.296, 157.294, 158.662, 159.302, 158.272, 158.606, 158.594, 159.48, 159.934, 158.624, 159.266, 157.646, 158.834, 158.652, 158.342, 155.6, 158.544, 158.856, 157.41, 159.298, 159.044, 157.352, 158.804, 158.096, 159.148, 158.152, 158.536, 157.114, 158.46, 158.668, 160.39, 157.618, 159.662, 159.628, 158.968, 159.718, 158.894, 157.89, 159.01, 159.5, 157.81, 158.818, 160.24, 158.05, 158.11, 158.086, 158.176, 158.626, 157.794, 157.22, 158.908, 158.626, 159.606, 158.656, 159.154, 157.07, 159.136, 158.382, 159.16, 156.948, 158.982, 159.162, 158.542, 157.882, 158.28, 157.278, 159.252, 159.376, 157.826, 158.578, 159.668, 159.636, 158.012, 159.1, 159.202, 159.242, 158.972, 159.102, 158.154, 158.816, 157.9, 159.35, 157.956, 158.706, 157.224, 159.766, 158.438, 159.852, 157.948, 158.494, 158.23, 158.522, 158.328, 157.85, 159.444, 157.88, 158.74, 157.472, 157.164, 157.516, 158.446, 157.46, 160.426, 159.428, 158.17, 158.97, 158.886, 158.592, 157.786, 159.632, 157.512, 157.946, 159.128, 158.182, 158.38, 159.35, 159.346, 159.834, 158.69, 160.28, 159.708, 158.738, 157.834, 159.146, 157.67, 158.582, 157.844, 157.166, 158.396, 159.246, 159.472, 157.874, 157.584, 156.88, 157.736, 157.792, 158.39, 158.608, 157.382, 159.308, 156.372, 158.732, 158.148, 158.052, 158.39, 159.618, 158.78, 158.614, 157.904, 157.24, 158.132, 157.43, 158.904, 158.152, 157.564, 159.356, 158.888, 158.108, 158.372, 159.556, 158.59, 158.104, 157.57, 158.102, 160.012, 158.48, 158.746, 158.546]\n"
     ]
    }
   ],
   "source": [
    "medias = [np.mean(np.random.randint(126,192,500)) for _ in range(10000)] # o for será executado 10000 vezes com 500 posições em cada vetor\n",
    "# gerando a média dos 10mil vetores\n",
    "print(medias)"
   ]
  },
  {
   "cell_type": "code",
   "execution_count": 38,
   "id": "ccdb70b0",
   "metadata": {},
   "outputs": [
    {
     "name": "stderr",
     "output_type": "stream",
     "text": [
      "C:\\Users\\Matheus\\anaconda3\\lib\\site-packages\\seaborn\\distributions.py:2619: FutureWarning: `distplot` is a deprecated function and will be removed in a future version. Please adapt your code to use either `displot` (a figure-level function with similar flexibility) or `histplot` (an axes-level function for histograms).\n",
      "  warnings.warn(msg, FutureWarning)\n"
     ]
    },
    {
     "data": {
      "text/plain": [
       "<AxesSubplot:ylabel='Density'>"
      ]
     },
     "execution_count": 38,
     "metadata": {},
     "output_type": "execute_result"
    },
    {
     "data": {
      "image/png": "[encoded data removed]",
      "text/plain": [
       "<Figure size 432x288 with 1 Axes>"
      ]
     },
     "metadata": {
      "needs_background": "light"
     },
     "output_type": "display_data"
    }
   ],
   "source": [
    "# gerando uma distribuição das médias\n",
    "# porem juntando as medias de todas as distribuições, teremos uma distribuição muito próximo da distribuição normal\n",
    "sns.distplot(medias)"
   ]
  },
  {
   "cell_type": "markdown",
   "id": "9bf24381",
   "metadata": {},
   "source": [
    "### Distribuição Gama\n",
    "1. Valores assimétricos à direita\n",
    "2. Análise tempo de meia vida de produtos\n",
    "3. Modelagem de inadiplência \n",
    "4. Quantidade de chuva em reservatório\n",
    "5. Tempo de reação de motoristas ao passar da idade"
   ]
  },
  {
   "cell_type": "code",
   "execution_count": 39,
   "id": "ae63093a",
   "metadata": {},
   "outputs": [],
   "source": [
    "from scipy.stats import gamma"
   ]
  },
  {
   "cell_type": "code",
   "execution_count": 40,
   "id": "b3a3998f",
   "metadata": {},
   "outputs": [],
   "source": [
    "dados_gama = gamma.rvs(a = 1, size = 1000)"
   ]
  },
  {
   "cell_type": "code",
   "execution_count": 41,
   "id": "98d466bf",
   "metadata": {},
   "outputs": [
    {
     "name": "stderr",
     "output_type": "stream",
     "text": [
      "C:\\Users\\Matheus\\anaconda3\\lib\\site-packages\\seaborn\\distributions.py:2619: FutureWarning: `distplot` is a deprecated function and will be removed in a future version. Please adapt your code to use either `displot` (a figure-level function with similar flexibility) or `histplot` (an axes-level function for histograms).\n",
      "  warnings.warn(msg, FutureWarning)\n"
     ]
    },
    {
     "data": {
      "text/plain": [
       "<AxesSubplot:ylabel='Density'>"
      ]
     },
     "execution_count": 41,
     "metadata": {},
     "output_type": "execute_result"
    },
    {
     "data": {
      "image/png": "[encoded data removed]",
      "text/plain": [
       "<Figure size 432x288 with 1 Axes>"
      ]
     },
     "metadata": {
      "needs_background": "light"
     },
     "output_type": "display_data"
    }
   ],
   "source": [
    "sns.distplot(dados_gama) # concentração dos maiores valores para a esquerda\n",
    "# o valor de a especifica o ponto de decaimento"
   ]
  },
  {
   "cell_type": "code",
   "execution_count": 42,
   "id": "84852ea0",
   "metadata": {},
   "outputs": [
    {
     "data": {
      "text/plain": [
       "(0.0003545338580195135, 6.3898213058694555)"
      ]
     },
     "execution_count": 42,
     "metadata": {},
     "output_type": "execute_result"
    }
   ],
   "source": [
    "min(dados_gama), max(dados_gama)"
   ]
  },
  {
   "cell_type": "markdown",
   "id": "0a6895e2",
   "metadata": {},
   "source": [
    "### Distribuição Exponencial (um tipo de Gama)"
   ]
  },
  {
   "cell_type": "code",
   "execution_count": 43,
   "id": "21476d69",
   "metadata": {},
   "outputs": [],
   "source": [
    "from scipy.stats import expon"
   ]
  },
  {
   "cell_type": "code",
   "execution_count": 44,
   "id": "5fc3a3a5",
   "metadata": {},
   "outputs": [
    {
     "data": {
      "text/plain": [
       "array([1.83244815e+00, 1.08049336e+00, 7.53135832e-01, 5.88866346e-01,\n",
       "       8.43918372e-01, 8.19076096e-01, 1.03937483e+00, 1.82749789e+00,\n",
       "       1.31434451e+00, 3.43905805e-01, 6.14549627e-01, 1.41137225e+00,\n",
       "       3.53310317e-01, 1.05925426e+00, 4.05370081e-02, 8.07902891e-01,\n",
       "       1.54377011e+00, 5.11938912e-01, 7.25778004e-01, 7.40267547e-01,\n",
       "       1.62058106e+00, 1.53326296e-01, 3.83819959e-01, 4.30127066e-03,\n",
       "       9.08346694e-01, 3.61839061e-01, 1.02405878e+00, 4.13710956e-01,\n",
       "       6.60077371e-01, 1.38540739e-01, 1.19014294e+00, 3.99395232e-01,\n",
       "       3.64911235e-01, 2.28186629e-01, 2.36603132e+00, 5.99828690e-02,\n",
       "       7.90490022e-01, 4.68013711e-02, 8.96150378e-01, 5.90292835e-01,\n",
       "       3.69286869e-02, 9.37308810e-01, 4.36723800e-02, 7.88012766e-01,\n",
       "       7.17256435e-01, 1.23610060e-01, 3.38917559e-02, 3.80831765e-01,\n",
       "       1.01814574e+00, 1.60580447e-01, 1.29829846e+00, 1.01900991e+00,\n",
       "       6.53875043e-01, 2.83783655e+00, 4.52260962e-01, 7.50514662e-01,\n",
       "       1.08149491e+00, 1.61061998e+00, 2.74936986e+00, 2.74569087e+00,\n",
       "       1.39177246e-01, 8.54643674e-01, 1.86691694e+00, 2.32234612e+00,\n",
       "       2.77534932e+00, 9.89719522e-02, 1.37379831e-02, 5.79205929e+00,\n",
       "       7.37735105e-01, 1.01862500e-01, 1.53510241e+00, 1.87374371e+00,\n",
       "       3.86614742e-01, 1.33125594e+00, 4.63015486e-01, 4.05684754e-02,\n",
       "       4.31475849e-01, 1.58501886e+00, 1.89928462e+00, 4.12322141e-01,\n",
       "       2.40267781e-01, 1.60563003e+00, 8.38801132e-01, 1.06501317e+00,\n",
       "       5.53959830e-01, 2.15268662e+00, 8.98903723e-02, 3.05759050e+00,\n",
       "       4.29508914e-02, 8.24055131e-01, 8.71920835e-01, 8.49161884e-02,\n",
       "       8.10146009e-01, 6.90559276e-01, 5.10658744e-01, 7.79717121e-02,\n",
       "       7.72887386e-01, 1.37411552e-01, 9.07488134e-01, 1.42304948e-01,\n",
       "       3.77082115e-01, 1.29613800e+00, 5.27921370e-01, 4.86270301e-02,\n",
       "       1.09291657e+00, 2.41166516e+00, 8.17722938e-01, 6.18658943e-01,\n",
       "       2.42640646e+00, 7.49948228e-02, 1.28636973e+00, 7.22727154e-01,\n",
       "       1.02837303e+00, 1.67917257e+00, 2.13080594e+00, 2.77343148e-01,\n",
       "       8.50557811e-01, 1.14855385e+00, 8.16120166e-01, 5.41627013e-02,\n",
       "       6.58672491e-01, 2.54609718e+00, 2.48986614e-01, 1.83878072e-01,\n",
       "       7.44454917e-01, 1.23147470e+00, 6.05674309e+00, 1.90231118e+00,\n",
       "       3.98452882e-01, 1.58972189e+00, 1.19417738e-01, 1.25486818e-01,\n",
       "       2.40933833e-01, 1.51373062e+00, 1.55825824e-01, 1.40293407e+00,\n",
       "       1.86218038e+00, 8.33140684e-01, 8.10256355e-01, 2.48592353e+00,\n",
       "       9.09495388e-01, 2.13578090e-01, 8.56379082e-01, 1.26979663e+00,\n",
       "       1.43385658e+00, 6.16648663e-01, 1.62896750e+00, 5.46921921e-01,\n",
       "       2.01018700e-01, 1.04058864e+00, 6.88828959e-02, 1.36712404e+00,\n",
       "       4.92328667e-01, 1.98692792e+00, 4.37996787e+00, 7.48603848e-01,\n",
       "       4.75987564e-01, 2.36183932e-02, 1.24303286e+00, 1.28292064e-01,\n",
       "       1.98322436e+00, 1.06953391e+00, 1.12515927e+00, 9.28097563e-01,\n",
       "       1.62739660e+00, 1.47643768e-01, 1.66810526e+00, 1.42536410e+00,\n",
       "       4.34338742e+00, 5.71641606e-01, 1.93908033e+00, 5.81125415e-01,\n",
       "       2.45539259e-01, 4.33696422e-01, 2.48038485e-01, 1.19690468e+00,\n",
       "       6.77702600e+00, 5.75527233e-01, 1.79504735e+00, 1.70228041e+00,\n",
       "       2.64505828e+00, 7.13262756e-01, 3.07677326e-02, 1.33557170e-01,\n",
       "       2.33047793e+00, 2.20190302e-01, 5.22453999e-01, 5.93197218e-01,\n",
       "       9.74161047e-01, 3.12783276e+00, 3.76019773e-01, 2.21315813e+00,\n",
       "       1.85793986e+00, 1.13194343e+00, 1.57806121e+00, 2.74310062e-01,\n",
       "       3.39387908e-01, 1.55783090e-01, 8.29422617e-01, 1.76057308e-01,\n",
       "       6.02592830e-01, 1.16174472e+00, 2.75424572e+00, 2.08688951e+00,\n",
       "       1.90994383e+00, 1.47082017e+00, 8.97698736e-02, 6.15454114e-01,\n",
       "       5.23799268e-02, 3.14306959e-02, 1.92899191e+00, 2.95364401e-01,\n",
       "       5.45450407e-01, 3.73407122e-01, 1.99246797e-01, 6.40627326e-01,\n",
       "       1.79255314e+00, 6.71132848e-01, 3.85889082e-01, 1.92808903e+00,\n",
       "       1.01487308e-01, 4.47841484e-03, 1.28161497e-02, 2.78655488e-01,\n",
       "       2.42367169e-01, 2.00353682e+00, 2.53359613e-01, 5.97411888e-01,\n",
       "       1.73152620e-01, 9.72473376e-01, 1.11792048e+00, 1.28398219e+00,\n",
       "       6.53657698e-01, 9.23656669e-02, 6.99071874e-01, 1.50668572e+00,\n",
       "       4.77897152e+00, 9.19475492e-01, 1.13795527e+00, 1.89571283e-01,\n",
       "       3.57220044e-01, 8.23311092e-01, 1.24414073e+00, 7.95676458e-01,\n",
       "       1.18865868e+00, 1.19838069e-02, 2.42562996e-01, 9.86032637e-01,\n",
       "       1.17112686e+00, 8.99039725e-02, 2.53848867e-01, 2.95649399e-01,\n",
       "       1.27855758e+00, 5.57618939e-02, 1.66803087e+00, 1.42657956e+00,\n",
       "       8.01510015e-01, 5.05583007e-01, 6.98063851e-01, 1.53273728e+00,\n",
       "       5.03808046e-02, 4.92328696e-01, 6.73111606e-01, 3.49232296e-01,\n",
       "       3.10721010e-01, 7.56229250e-01, 1.21187307e-01, 2.28730906e+00,\n",
       "       5.92669172e-01, 4.52113229e-01, 1.44234298e-01, 3.22203922e-01,\n",
       "       3.46705723e-01, 3.66028618e+00, 4.81004604e-01, 1.27218037e+00,\n",
       "       5.96626825e-01, 6.29160627e-01, 7.19346950e-01, 1.14886034e+00,\n",
       "       2.74089185e-01, 5.02910541e-01, 2.20874818e+00, 3.19195392e-01,\n",
       "       4.33109306e-01, 1.32384963e-01, 3.13503548e-01, 8.15850047e-01,\n",
       "       3.81905427e-01, 1.71265484e+00, 4.24974733e-02, 9.69464899e-02,\n",
       "       8.27400745e-02, 1.96991027e-01, 6.03388150e-01, 1.05022652e-02,\n",
       "       1.35997189e+00, 1.19512767e+00, 4.92007972e-01, 6.48891495e-02,\n",
       "       2.89469545e+00, 1.22214071e+00, 8.86845906e-01, 1.54651282e+00,\n",
       "       8.10354051e-01, 2.85335787e-01, 1.10140348e+00, 1.00940887e-01,\n",
       "       5.21132196e-01, 2.60369401e+00, 2.39495098e+00, 3.27516739e-02,\n",
       "       3.42931757e+00, 1.60946042e+00, 2.42802727e+00, 3.64930441e-02,\n",
       "       4.83431820e-02, 1.03912693e-01, 4.39898383e+00, 7.88237145e-01,\n",
       "       1.75375906e-01, 2.78099016e-01, 5.09970415e-01, 2.36989026e+00,\n",
       "       3.02965930e-01, 1.65113118e-01, 4.78265303e-01, 7.85324177e-01,\n",
       "       5.73018248e-01, 4.33863160e-01, 4.23974038e-01, 1.19980299e+00,\n",
       "       1.02208792e-01, 1.27573989e-01, 1.41761768e+00, 3.38656087e-01,\n",
       "       9.73982955e-01, 1.06051646e+00, 3.78562866e+00, 4.34341921e-01,\n",
       "       1.63897471e+00, 4.45392558e-02, 1.53325307e+00, 6.50581708e-01,\n",
       "       6.33801673e-01, 1.05817372e-01, 2.38199895e-02, 1.78607039e+00,\n",
       "       1.01163613e+00, 8.88570935e-01, 6.79870817e-01, 6.56327404e-01,\n",
       "       4.88207217e-01, 2.45891681e-01, 1.43134524e-01, 4.05154579e-01,\n",
       "       1.03472004e+00, 2.12384485e-01, 1.69420289e+00, 2.45715872e+00,\n",
       "       1.43570702e+00, 1.61403860e+00, 8.32858851e-01, 2.56256983e+00,\n",
       "       2.49675918e-01, 5.36366920e-01, 1.84036676e+00, 2.39439222e+00,\n",
       "       1.12856281e+00, 1.20914065e+00, 1.66614348e+00, 1.13107688e+00,\n",
       "       2.24305042e+00, 4.36575324e-01, 2.62249833e-01, 9.29264355e-01,\n",
       "       1.13222328e+00, 2.41829572e+00, 1.26053126e+00, 1.71770954e+00,\n",
       "       1.38376843e+00, 2.78565525e+00, 3.35683803e-01, 1.50561394e-01,\n",
       "       5.92863272e-01, 1.70486246e-01, 1.25074714e+00, 1.35054755e+00,\n",
       "       3.00729115e+00, 4.10331828e+00, 7.85139497e-02, 5.78637958e-01,\n",
       "       2.85240932e-01, 9.26556140e-01, 5.11573572e-01, 2.06404789e-01,\n",
       "       1.17499011e+00, 4.10775262e-01, 1.88040433e-02, 9.31961018e-01,\n",
       "       5.97200843e-01, 7.85319644e-01, 3.60726642e+00, 1.87058770e+00,\n",
       "       2.86804744e-01, 8.21129887e-01, 1.15929132e-01, 8.33725776e-01,\n",
       "       1.04504228e+00, 1.49440137e+00, 1.06578102e-02, 1.91593785e-02,\n",
       "       5.83492812e-01, 3.95555647e+00, 3.95083811e-01, 9.23063293e-03,\n",
       "       4.45039383e+00, 5.75068958e+00, 2.30161736e-01, 9.38361735e-02,\n",
       "       1.84447684e+00, 5.85381645e-01, 9.37770623e-01, 2.81262234e-01,\n",
       "       1.52284603e+00, 6.97148719e-01, 1.43909259e+00, 4.90551256e-01,\n",
       "       1.50262798e+00, 3.60518396e-01, 6.57670084e-01, 1.34238313e-01,\n",
       "       4.81809615e+00, 4.73581962e-01, 5.76394522e-02, 4.30373639e-01,\n",
       "       1.44408341e+00, 2.95150671e-01, 2.87176986e-01, 1.82602453e+00,\n",
       "       2.13180658e+00, 3.76404971e-01, 4.79139612e-01, 4.15407229e-01,\n",
       "       9.20980283e-01, 1.19859480e+00, 1.37402401e-01, 1.77189795e+00,\n",
       "       6.61237195e-02, 2.14237126e+00, 8.10728958e-01, 1.08047414e+00,\n",
       "       3.55037575e-01, 1.45821396e-01, 2.60718490e-01, 7.82363189e-01,\n",
       "       8.65582536e-02, 2.56919581e-02, 2.86462947e+00, 3.73191872e-03,\n",
       "       1.10387474e+00, 9.53626131e-02, 2.51242756e-01, 4.80664425e-01,\n",
       "       3.73293746e+00, 5.15623500e-01, 3.27682848e-02, 1.15094581e+00,\n",
       "       6.85963943e-01, 1.11541230e-01, 6.29560850e-01, 2.34885304e-01,\n",
       "       5.79922390e-01, 2.74839483e-01, 3.50936498e+00, 5.82928896e-01,\n",
       "       8.15902848e-01, 1.20113535e+00, 9.72684282e-01, 3.77405170e-02,\n",
       "       3.75131694e-01, 3.17544179e-01, 1.41864473e+00, 4.56504261e+00,\n",
       "       3.22693525e-02, 1.25815919e-01, 9.40579309e-01, 1.08660667e+00,\n",
       "       1.90326695e+00, 9.74698732e-01, 1.07406761e+00, 8.80529511e-01,\n",
       "       1.35939917e+00, 6.95004905e-01, 6.72081788e-01, 5.81270122e-01,\n",
       "       2.12069685e-01, 8.09972839e-01, 2.34682531e-01, 5.45940088e-01,\n",
       "       7.52321558e-01, 1.80945519e-01, 4.54774816e-01, 9.92419684e-01,\n",
       "       4.28861013e-02, 9.44421525e-01, 2.94765830e+00, 2.88135661e-01,\n",
       "       8.79341164e-01, 1.28406980e+00, 6.19520096e-01, 2.20433738e+00,\n",
       "       9.54816701e-01, 5.89340576e-01, 1.40415648e-01, 1.51146739e+00,\n",
       "       2.35618592e-02, 1.05961575e+00, 1.34325416e-01, 5.86510379e-01,\n",
       "       2.70378033e-01, 1.59449208e-01, 4.89953765e-01, 5.66266262e-01,\n",
       "       4.26570924e-01, 3.85760687e+00, 4.30582018e+00, 8.24208760e-02,\n",
       "       4.05193120e-01, 5.30755992e-01, 1.81191052e-02, 4.97335578e-01,\n",
       "       8.71275062e-01, 8.39818725e-01, 1.17831403e+00, 1.60389735e+00,\n",
       "       4.79822224e-01, 5.39279951e-01, 2.94918689e-01, 4.37363780e+00,\n",
       "       4.23813088e-01, 9.40040843e-01, 1.49495174e+00, 1.12625446e+00,\n",
       "       5.84833536e-01, 5.03331295e-01, 5.90940009e-02, 1.44068129e-01,\n",
       "       4.93288890e+00, 1.29611423e+00, 4.06439320e+00, 5.53155203e-02,\n",
       "       1.50664126e+00, 4.11642098e+00, 6.63470581e-01, 2.24587296e-01,\n",
       "       5.83731133e-01, 8.28676117e-01, 1.00848409e+00, 2.22914106e+00,\n",
       "       1.45861283e+00, 1.11943874e+00, 9.60389753e-01, 2.51819520e-01,\n",
       "       1.61883368e+00, 7.95052934e-02, 1.56724720e+00, 3.98125897e-01,\n",
       "       3.19494714e-01, 5.12847184e-01, 6.08167321e-01, 1.84774363e-01,\n",
       "       2.96460376e-01, 1.43615501e+00, 5.08745805e-01, 6.68414677e-01,\n",
       "       1.02994103e-01, 1.72495280e-01, 1.17880794e+00, 1.01364926e+00,\n",
       "       2.38564192e-02, 8.91356027e-01, 6.66016439e-01, 1.11165565e+00,\n",
       "       1.82643238e-02, 3.28182060e+00, 5.15727018e-01, 4.86036648e-01,\n",
       "       5.31538573e-01, 2.00623319e-02, 1.08632998e+00, 1.39662078e-03,\n",
       "       1.28147694e+00, 1.20210458e+00, 9.57940948e-01, 1.20682161e+00,\n",
       "       2.58166922e-01, 7.11499713e-01, 5.49375887e-01, 1.14670733e+00,\n",
       "       6.44443230e-01, 3.86005438e-01, 9.37789026e-01, 6.87378551e-01,\n",
       "       8.32295937e-01, 1.12204298e+00, 1.61454455e+00, 3.37647061e+00,\n",
       "       2.42520803e-01, 8.75197133e-01, 1.99369647e-01, 7.22607850e-01,\n",
       "       5.35779964e-01, 1.99785822e+00, 4.83487785e-01, 6.18861324e-01,\n",
       "       4.96462411e-01, 1.55711058e+00, 1.15418069e+00, 1.69130870e+00,\n",
       "       1.12889781e+00, 4.21673194e-01, 3.76627919e-01, 1.68326907e+00,\n",
       "       5.53613448e-01, 2.78272909e+00, 9.71903589e-01, 2.04269393e-01,\n",
       "       1.27789252e+00, 1.02526794e+00, 1.62221824e+00, 4.30251248e+00,\n",
       "       1.00754310e-01, 1.51761055e+00, 1.50463722e-01, 9.13121729e-01,\n",
       "       1.51046362e+00, 2.57551200e-01, 7.17519232e-01, 6.29286269e-01,\n",
       "       6.58108116e-01, 4.69961456e-01, 8.26115613e-01, 1.53697227e-01,\n",
       "       3.99241205e-01, 4.56299463e+00, 6.13665605e-01, 2.02221483e+00,\n",
       "       1.52335857e-01, 3.84690218e-01, 1.39591190e+00, 2.40209750e-01,\n",
       "       7.50166938e-01, 2.91308057e-01, 5.68019613e-01, 8.85700186e-01,\n",
       "       2.07184167e+00, 1.82639170e-01, 9.40959991e-01, 2.97852804e+00,\n",
       "       2.35986260e-01, 1.37409012e+00, 1.08299691e+00, 3.37210380e+00,\n",
       "       3.22227256e+00, 5.15442413e-01, 1.68990487e+00, 5.42672985e-01,\n",
       "       1.10246861e+00, 7.64995314e-03, 1.44303802e+00, 9.50115489e-01,\n",
       "       7.95330152e-01, 1.04986316e+00, 2.02132987e-01, 1.65171467e-01,\n",
       "       1.00886179e+00, 1.01695385e+00, 4.82842509e-01, 1.53321982e-01,\n",
       "       3.02642955e+00, 2.64456980e-01, 8.83270942e-01, 4.91565916e-01,\n",
       "       3.30619652e+00, 1.07151723e+00, 1.19180989e+00, 2.11169160e-02,\n",
       "       3.65975953e-01, 1.76792372e+00, 5.73467464e-01, 2.87054428e-02,\n",
       "       1.93283585e+00, 5.47203758e-01, 1.14672525e+00, 1.92489871e-01,\n",
       "       5.46664296e-02, 9.39368130e-01, 2.63048760e+00, 3.27044335e+00,\n",
       "       8.53507054e-01, 4.79543411e-01, 1.31417888e-01, 1.11375669e+00,\n",
       "       1.44772693e+00, 6.69904496e-01, 4.67092732e-01, 1.69598616e-01,\n",
       "       1.51033710e+00, 1.39105259e+00, 1.72628306e+00, 9.29230703e-01,\n",
       "       3.46700431e-01, 8.09035219e-01, 5.25498045e-01, 1.62484204e-03,\n",
       "       9.69885249e-01, 2.25504481e-01, 1.12025074e-01, 1.52304395e+00,\n",
       "       1.32715599e-01, 7.29749318e-01, 2.18787170e+00, 2.28383159e+00,\n",
       "       4.18138560e-01, 1.65894579e+00, 1.20478761e+00, 1.36841521e+00,\n",
       "       4.01809714e+00, 6.69314177e-01, 1.69769204e-02, 1.11328926e+00,\n",
       "       5.32616093e-01, 9.18695181e-01, 8.52270126e-01, 3.52955327e+00,\n",
       "       8.78731852e-02, 2.21191671e-01, 1.97034634e-02, 1.09179088e+00,\n",
       "       7.31082479e+00, 1.61823847e+00, 1.95605160e-01, 1.56854242e-01,\n",
       "       2.33541341e+00, 1.42988297e+00, 1.12904928e+00, 4.09998998e-01,\n",
       "       6.18832125e-01, 3.91789210e-01, 9.15834252e-01, 3.02503503e-01,\n",
       "       3.52475751e-02, 2.49382650e-01, 1.10626612e+00, 9.39177421e-01,\n",
       "       5.89234435e-01, 1.06840866e-01, 2.48161559e-01, 2.78921091e+00,\n",
       "       1.44799791e+00, 6.51166644e-01, 1.78479427e+00, 1.26247892e+00,\n",
       "       7.15775251e-01, 2.48273140e+00, 4.09422138e-01, 1.74063238e+00,\n",
       "       1.80754884e+00, 1.25901510e+00, 4.84645399e-01, 1.09553825e-01,\n",
       "       7.08161365e-01, 4.89762319e-01, 1.06654661e+00, 8.42684403e-01,\n",
       "       1.96706356e+00, 3.18517194e-01, 1.00979627e+00, 1.71687901e-01,\n",
       "       4.71598431e-01, 1.35835097e-01, 7.49218859e-01, 4.93478293e-01,\n",
       "       6.97612796e-02, 1.68852320e-01, 1.56638333e+00, 3.23696458e+00,\n",
       "       3.76657532e+00, 7.32523731e-01, 1.04435358e+00, 8.40672610e-02,\n",
       "       5.64989880e-02, 2.66782714e+00, 9.76814377e-01, 4.72205564e-01,\n",
       "       2.56336372e+00, 5.67821069e-01, 4.76226935e-02, 8.94438399e-01,\n",
       "       5.23582900e-01, 3.67188307e-01, 7.61026131e-01, 5.48688629e-01,\n",
       "       1.41992835e+00, 1.11786669e+00, 1.15194590e+00, 5.46488272e-01,\n",
       "       3.36024790e-01, 3.12154940e+00, 1.37784625e+00, 2.71751634e+00,\n",
       "       8.26055237e-01, 2.25543254e+00, 2.22533133e-01, 7.00917556e-01,\n",
       "       4.85795462e-01, 4.95584598e-01, 9.56383631e-01, 2.07334029e-01,\n",
       "       2.11637769e-01, 2.33594034e+00, 1.15536319e-02, 9.39043777e-01,\n",
       "       2.12199898e-02, 1.65594236e-01, 9.12503156e-01, 3.33553438e-01,\n",
       "       3.57338503e-01, 1.08976560e-01, 1.47139551e-01, 8.04222325e-01,\n",
       "       2.71332037e+00, 8.22773091e-02, 1.11368827e+00, 2.95598113e-02,\n",
       "       5.53045771e+00, 6.05748689e-01, 5.37684036e-01, 1.26269941e+00,\n",
       "       1.70437023e+00, 9.57553634e-01, 4.38128618e-01, 1.73587344e+00,\n",
       "       8.20336228e-01, 5.34887207e-01, 7.33444057e-01, 9.82797249e-01,\n",
       "       2.32749601e-01, 2.34313412e+00, 5.52938621e-01, 1.39483887e-01,\n",
       "       8.03425093e-01, 7.97731366e-01, 3.12370638e-01, 5.13291075e-01,\n",
       "       1.08486092e+00, 8.08713820e-01, 1.03135381e+00, 6.45962132e-02,\n",
       "       5.03724509e-02, 8.92993337e-02, 8.08788767e-01, 2.07296320e+00,\n",
       "       6.98602210e-01, 1.78467859e+00, 2.94360067e-01, 1.47691242e+00,\n",
       "       1.73153784e+00, 1.80129484e-01, 1.14737127e+00, 5.91759145e-01,\n",
       "       5.08230112e-01, 2.32579280e+00, 2.19610326e+00, 6.70027566e-02,\n",
       "       9.81393269e-01, 3.08715244e-01, 1.65061803e+00, 1.82478220e+00,\n",
       "       4.14626917e-01, 1.32676298e+00, 3.73069742e-01, 1.27104768e+00,\n",
       "       1.54027793e+00, 8.22564666e-01, 2.22462356e+00, 1.24240665e+00,\n",
       "       1.47849278e+00, 1.25045846e-01, 3.78549643e-01, 1.93505903e-01,\n",
       "       3.00700113e-01, 7.02914682e+00, 1.96675907e-01, 6.10088920e-01,\n",
       "       8.16227386e-01, 3.62301693e-01, 1.37369711e+00, 5.78193855e-01,\n",
       "       1.25443703e+00, 7.39456620e-01, 1.01263345e+00, 5.59121934e-02,\n",
       "       6.87620347e-01, 8.33381593e-01, 8.40655647e-02, 2.91084095e+00,\n",
       "       2.59859471e-01, 5.02586808e-01, 8.78506383e-01, 1.40151119e+00,\n",
       "       1.57938874e+00, 2.93192054e-01, 8.01401731e-01, 3.33480468e-01,\n",
       "       2.82560528e-01, 6.05893690e-01, 1.67510582e-01, 1.28990138e+00,\n",
       "       2.32812793e+00, 7.87195862e-01, 7.12008046e-01, 1.29202988e+00,\n",
       "       2.22999004e-01, 1.84055931e+00, 5.31826604e-01, 1.95311990e-01,\n",
       "       1.78070365e-01, 5.77410499e-01, 9.16013882e-01, 1.30323923e+00,\n",
       "       2.07199546e+00, 1.63987693e+00, 1.01666766e+00, 3.43092248e-01,\n",
       "       9.23407756e-01, 1.39838815e+00, 1.23704082e+00, 2.13119122e+00,\n",
       "       2.92393591e-03, 1.41387845e-01, 3.30668746e-02, 1.86967087e-02,\n",
       "       1.52432527e+00, 3.80756417e+00, 1.02210975e-01, 1.30624444e-01,\n",
       "       1.17153697e+00, 6.54842095e-01, 1.41483502e+00, 1.69558395e+00,\n",
       "       5.79340362e-02, 1.45966839e+00, 3.58471268e+00, 1.62585069e+00,\n",
       "       5.65306963e-01, 6.84084708e-01, 3.29916392e-01, 3.54001497e-01,\n",
       "       1.90578359e-01, 1.78398078e+00, 3.79784689e-01, 6.25318684e-01,\n",
       "       8.52705799e-01, 5.74705071e-02, 4.60412176e+00, 4.94459964e+00,\n",
       "       7.94050531e-02, 2.05025661e-01, 2.30793091e+00, 4.63672156e-01,\n",
       "       8.73403934e-01, 1.13749922e+00, 1.78711955e+00, 2.44464410e+00,\n",
       "       1.78374684e-01, 5.27678172e+00, 2.90096488e-02, 4.17192685e-01,\n",
       "       5.53495892e-01, 3.20982826e-01, 1.33702582e-01, 1.26448182e+00,\n",
       "       1.21708334e-01, 1.44166745e+00, 1.56518520e-02, 4.03785879e-01,\n",
       "       2.98392092e-01, 3.18199854e+00, 1.19996708e-01, 6.66896053e-02,\n",
       "       3.67042651e-04, 2.99565579e-01, 4.61991351e-01, 1.08572068e+00,\n",
       "       5.23257593e-01, 1.77076206e+00, 2.11306866e-01, 8.36261936e-01])"
      ]
     },
     "execution_count": 44,
     "metadata": {},
     "output_type": "execute_result"
    }
   ],
   "source": [
    "dados_expo = expon.rvs(size = 1000)\n",
    "dados_expo"
   ]
  },
  {
   "cell_type": "code",
   "execution_count": 45,
   "id": "ed8ac35b",
   "metadata": {},
   "outputs": [
    {
     "name": "stderr",
     "output_type": "stream",
     "text": [
      "C:\\Users\\Matheus\\anaconda3\\lib\\site-packages\\seaborn\\distributions.py:2619: FutureWarning: `distplot` is a deprecated function and will be removed in a future version. Please adapt your code to use either `displot` (a figure-level function with similar flexibility) or `histplot` (an axes-level function for histograms).\n",
      "  warnings.warn(msg, FutureWarning)\n"
     ]
    },
    {
     "data": {
      "image/png": "[encoded data removed]",
      "text/plain": [
       "<Figure size 432x288 with 1 Axes>"
      ]
     },
     "metadata": {
      "needs_background": "light"
     },
     "output_type": "display_data"
    }
   ],
   "source": [
    "sns.distplot(dados_expo);"
   ]
  },
  {
   "cell_type": "code",
   "execution_count": 46,
   "id": "58b42723",
   "metadata": {},
   "outputs": [
    {
     "data": {
      "text/plain": [
       "(0.0003670426507745774, 7.3108247882199855)"
      ]
     },
     "execution_count": 46,
     "metadata": {},
     "output_type": "execute_result"
    }
   ],
   "source": [
    "min(dados_expo), max(dados_expo)"
   ]
  },
  {
   "cell_type": "markdown",
   "id": "f11551e4",
   "metadata": {},
   "source": [
    "### Distribuição Uniforme\n",
    "1. Os números da distribuiçaõ possuem a **mesma probabilidade**\n",
    "2. Geração de números aleatórios em linguagem de programação"
   ]
  },
  {
   "cell_type": "code",
   "execution_count": 47,
   "id": "184eaa91",
   "metadata": {},
   "outputs": [],
   "source": [
    "from scipy.stats import uniform"
   ]
  },
  {
   "cell_type": "code",
   "execution_count": 48,
   "id": "127ded85",
   "metadata": {},
   "outputs": [],
   "source": [
    "dados_uniforme = uniform.rvs(size = 1000)"
   ]
  },
  {
   "cell_type": "code",
   "execution_count": 49,
   "id": "acccccda",
   "metadata": {},
   "outputs": [
    {
     "name": "stderr",
     "output_type": "stream",
     "text": [
      "C:\\Users\\Matheus\\anaconda3\\lib\\site-packages\\seaborn\\distributions.py:2619: FutureWarning: `distplot` is a deprecated function and will be removed in a future version. Please adapt your code to use either `displot` (a figure-level function with similar flexibility) or `histplot` (an axes-level function for histograms).\n",
      "  warnings.warn(msg, FutureWarning)\n"
     ]
    },
    {
     "data": {
      "image/png": "[encoded data removed]",
      "text/plain": [
       "<Figure size 432x288 with 1 Axes>"
      ]
     },
     "metadata": {
      "needs_background": "light"
     },
     "output_type": "display_data"
    }
   ],
   "source": [
    "sns.distplot(dados_uniforme);"
   ]
  },
  {
   "cell_type": "code",
   "execution_count": 50,
   "id": "2a5e27ac",
   "metadata": {},
   "outputs": [
    {
     "data": {
      "text/plain": [
       "(0.001893118408880734, 0.9994635522378735)"
      ]
     },
     "execution_count": 50,
     "metadata": {},
     "output_type": "execute_result"
    }
   ],
   "source": [
    "min(dados_uniforme), max(dados_uniforme)"
   ]
  },
  {
   "cell_type": "code",
   "execution_count": 51,
   "id": "000708e8",
   "metadata": {},
   "outputs": [
    {
     "data": {
      "text/plain": [
       "(array([0.00189312, 0.00437565, 0.00527112, 0.00544027, 0.00749559,\n",
       "        0.00819229, 0.00852934, 0.00860101, 0.0087348 , 0.00929876,\n",
       "        0.00976405, 0.00983931, 0.01149484, 0.01236863, 0.01382096,\n",
       "        0.0147662 , 0.01714806, 0.01768338, 0.01788913, 0.01808999,\n",
       "        0.01879706, 0.01891105, 0.01900384, 0.01945924, 0.02029579,\n",
       "        0.02079717, 0.02265508, 0.02385687, 0.02599514, 0.02825872,\n",
       "        0.02958348, 0.03042134, 0.03357724, 0.03419395, 0.03437686,\n",
       "        0.03456227, 0.03631305, 0.03673086, 0.0374211 , 0.03779094,\n",
       "        0.03850569, 0.03910922, 0.03931013, 0.04071628, 0.04496615,\n",
       "        0.04548014, 0.04593057, 0.04608899, 0.0463252 , 0.04673407,\n",
       "        0.04725784, 0.04761148, 0.04843817, 0.04967408, 0.04973413,\n",
       "        0.05004755, 0.05049725, 0.05140075, 0.05316035, 0.05422518,\n",
       "        0.05481141, 0.0551892 , 0.05731917, 0.05815426, 0.05820399,\n",
       "        0.05833306, 0.05962042, 0.06064272, 0.06071701, 0.06136201,\n",
       "        0.06150871, 0.06197054, 0.06292677, 0.06360674, 0.06445458,\n",
       "        0.06747343, 0.06760771, 0.06949978, 0.06967937, 0.06974947,\n",
       "        0.07006741, 0.07063239, 0.07429984, 0.07580885, 0.08128383,\n",
       "        0.08140167, 0.08141704, 0.08165521, 0.08464456, 0.08479416,\n",
       "        0.08549552, 0.08596465, 0.08596867, 0.08614642, 0.08632411,\n",
       "        0.08638662, 0.08795047, 0.08811813, 0.08813876, 0.08815042,\n",
       "        0.08876567, 0.08924696, 0.09059572, 0.09141607, 0.09217761,\n",
       "        0.09502446, 0.09503434, 0.09650071, 0.09806124, 0.09952019,\n",
       "        0.10063469, 0.10208419, 0.10511265, 0.10622634, 0.10697025,\n",
       "        0.10724796, 0.10794698, 0.1086103 , 0.11048863, 0.11077977,\n",
       "        0.11176729, 0.11259202, 0.11321327, 0.11481204, 0.11531995,\n",
       "        0.11535558, 0.11610224, 0.11699081, 0.11844714, 0.12151217,\n",
       "        0.1222991 , 0.12246488, 0.12383694, 0.12460724, 0.13154567,\n",
       "        0.13170879, 0.1323723 , 0.13290469, 0.13325259, 0.13522751,\n",
       "        0.13534091, 0.13616028, 0.13664604, 0.13665932, 0.13766419,\n",
       "        0.13949747, 0.14077124, 0.14155779, 0.14241532, 0.14280538,\n",
       "        0.14409363, 0.14444369, 0.14477445, 0.14481911, 0.14514897,\n",
       "        0.14525153, 0.14720695, 0.1479207 , 0.14984984, 0.1507932 ,\n",
       "        0.15161366, 0.15289698, 0.15800955, 0.1588134 , 0.15892849,\n",
       "        0.16116275, 0.16143243, 0.16147692, 0.16277953, 0.16624201,\n",
       "        0.1668823 , 0.16721398, 0.16973624, 0.17010733, 0.17240409,\n",
       "        0.17278412, 0.17358236, 0.17483604, 0.17615601, 0.17642762,\n",
       "        0.17762824, 0.1790408 , 0.17916042, 0.17988909, 0.18033241,\n",
       "        0.18228063, 0.18232632, 0.18297862, 0.183222  , 0.18389047,\n",
       "        0.184775  , 0.18593507, 0.18670584, 0.18750281, 0.18860269,\n",
       "        0.18892005, 0.1901135 , 0.1907506 , 0.19126685, 0.19158718,\n",
       "        0.1918052 , 0.19395135, 0.1941087 , 0.19495075, 0.19636951,\n",
       "        0.19728497, 0.19923927, 0.19924599, 0.20023333, 0.20163292,\n",
       "        0.20204046, 0.20261171, 0.2026153 , 0.20293435, 0.20340352,\n",
       "        0.20842647, 0.20907421, 0.21170306, 0.21523744, 0.21548603,\n",
       "        0.21613675, 0.21656068, 0.21671232, 0.21695024, 0.2173995 ,\n",
       "        0.21771262, 0.21775991, 0.21907035, 0.22073115, 0.22203668,\n",
       "        0.22219542, 0.22258963, 0.22317767, 0.22339423, 0.22360923,\n",
       "        0.22440739, 0.22565122, 0.22679355, 0.22741052, 0.22742795,\n",
       "        0.22780893, 0.22837324, 0.2303844 , 0.23108155, 0.23219655,\n",
       "        0.23525685, 0.23621264, 0.2371642 , 0.23736126, 0.23982727,\n",
       "        0.24061641, 0.24181511, 0.24257672, 0.2450636 , 0.24621954,\n",
       "        0.24639849, 0.24767592, 0.24805119, 0.24932063, 0.25192652,\n",
       "        0.25246376, 0.25248954, 0.252728  , 0.2538881 , 0.2548907 ,\n",
       "        0.25547633, 0.26125404, 0.26328566, 0.26352174, 0.26544262,\n",
       "        0.26592494, 0.26718711, 0.26735309, 0.26980958, 0.26992411,\n",
       "        0.26995995, 0.27049373, 0.27091584, 0.27183596, 0.27244161,\n",
       "        0.27273594, 0.27381661, 0.27756049, 0.27812509, 0.28009656,\n",
       "        0.28176355, 0.28371011, 0.28413385, 0.28544535, 0.28600007,\n",
       "        0.2862277 , 0.28628192, 0.2887413 , 0.28915839, 0.29175711,\n",
       "        0.29238634, 0.29497907, 0.29589151, 0.2961475 , 0.29617732,\n",
       "        0.2965194 , 0.2968013 , 0.2975758 , 0.29917614, 0.29932841,\n",
       "        0.29944585, 0.29994289, 0.30182883, 0.30293477, 0.30371949,\n",
       "        0.30542833, 0.30731626, 0.30754692, 0.30985836, 0.31033576,\n",
       "        0.31212275, 0.31234622, 0.31490219, 0.31631204, 0.31633233,\n",
       "        0.31650649, 0.3165809 , 0.31778053, 0.31790875, 0.31794009,\n",
       "        0.31850638, 0.31962046, 0.31991673, 0.31996075, 0.32036322,\n",
       "        0.32411355, 0.32426108, 0.32430393, 0.32664154, 0.32805303,\n",
       "        0.32897096, 0.3296609 , 0.33014511, 0.33075314, 0.33253151,\n",
       "        0.33399992, 0.33442598, 0.33686102, 0.33959715, 0.34034134,\n",
       "        0.34062259, 0.34084416, 0.34208112, 0.342098  , 0.34545254,\n",
       "        0.34630406, 0.34666963, 0.3467974 , 0.34897619, 0.34965376,\n",
       "        0.34977946, 0.35067158, 0.35077696, 0.35209173, 0.35221737,\n",
       "        0.35420184, 0.35441103, 0.35610133, 0.35630932, 0.3580949 ,\n",
       "        0.3583199 , 0.35885362, 0.36155519, 0.36188244, 0.36311787,\n",
       "        0.36615775, 0.36667268, 0.36711266, 0.36774662, 0.3686021 ,\n",
       "        0.37120285, 0.37207615, 0.37207796, 0.37209943, 0.37308673,\n",
       "        0.37366167, 0.3743457 , 0.37471568, 0.37587451, 0.37594989,\n",
       "        0.376032  , 0.37745856, 0.37887709, 0.38481124, 0.38533041,\n",
       "        0.38645559, 0.38749664, 0.38757639, 0.3895071 , 0.39113762,\n",
       "        0.39259263, 0.39293534, 0.39384616, 0.39426847, 0.39559995,\n",
       "        0.3983056 , 0.39839191, 0.39849819, 0.39933544, 0.39938953,\n",
       "        0.39961794, 0.40116641, 0.40365441, 0.40649335, 0.40669472,\n",
       "        0.4085827 , 0.40985976, 0.41012184, 0.41019483, 0.41063657,\n",
       "        0.41193332, 0.41327638, 0.41467896, 0.41515782, 0.41703065,\n",
       "        0.41842746, 0.41848848, 0.42024784, 0.42081464, 0.42238154,\n",
       "        0.42379374, 0.42460021, 0.42704045, 0.427158  , 0.42808043,\n",
       "        0.42869981, 0.43282629, 0.43354873, 0.43365241, 0.43460684,\n",
       "        0.4349405 , 0.43534267, 0.43583218, 0.43962745, 0.44002056,\n",
       "        0.44041738, 0.4410726 , 0.44244485, 0.44815252, 0.44877953,\n",
       "        0.44887205, 0.44909193, 0.45153277, 0.45347597, 0.45422712,\n",
       "        0.45511413, 0.45928309, 0.46066563, 0.4615604 , 0.46181667,\n",
       "        0.46292394, 0.46548856, 0.46582894, 0.46603706, 0.46679381,\n",
       "        0.46811812, 0.46978088, 0.47043086, 0.47102939, 0.47138789,\n",
       "        0.47188611, 0.47547859, 0.47581677, 0.47598088, 0.476985  ,\n",
       "        0.47921097, 0.47967512, 0.48092404, 0.48103586, 0.48175436,\n",
       "        0.48298916, 0.48368744, 0.48397297, 0.48430426, 0.48546785,\n",
       "        0.48583535, 0.48926216, 0.4892674 , 0.4896407 , 0.49019142,\n",
       "        0.49024037, 0.49367461, 0.49459549, 0.49523062, 0.4954852 ,\n",
       "        0.49662925, 0.49756453, 0.49825419, 0.49905681, 0.50045489,\n",
       "        0.50133058, 0.5019611 , 0.50313761, 0.50372689, 0.50748803,\n",
       "        0.50842562, 0.50913015, 0.50914324, 0.5096403 , 0.50967624,\n",
       "        0.51000658, 0.51145398, 0.5131213 , 0.51427672, 0.51659177,\n",
       "        0.51818674, 0.52102921, 0.5228639 , 0.52345383, 0.52443328,\n",
       "        0.52480017, 0.5251752 , 0.52575352, 0.52590071, 0.52643882,\n",
       "        0.52755607, 0.52901283, 0.52928119, 0.52952768, 0.53118338,\n",
       "        0.53387029, 0.53503168, 0.53692099, 0.53820912, 0.53924007,\n",
       "        0.53944201, 0.53993949, 0.54119575, 0.54355128, 0.54534112,\n",
       "        0.5509009 , 0.55250401, 0.5526439 , 0.55347936, 0.55438023,\n",
       "        0.55445765, 0.55594634, 0.55727738, 0.5578981 , 0.55802769,\n",
       "        0.55824755, 0.56115002, 0.56128117, 0.56248063, 0.56366712,\n",
       "        0.56462672, 0.56494758, 0.56547702, 0.56724541, 0.56734664,\n",
       "        0.56793251, 0.56804478, 0.56810291, 0.56820027, 0.56838078,\n",
       "        0.57082818, 0.57178505, 0.57208297, 0.57247543, 0.57263565,\n",
       "        0.57317762, 0.57549408, 0.57564229, 0.57578781, 0.57588159,\n",
       "        0.57685026, 0.57745911, 0.57814534, 0.57850269, 0.57912316,\n",
       "        0.57976618, 0.57993577, 0.57997392, 0.58286724, 0.58299879,\n",
       "        0.58416752, 0.58832934, 0.58889109, 0.58924888, 0.59188358,\n",
       "        0.59309164, 0.5940321 , 0.59682535, 0.59725284, 0.59998644,\n",
       "        0.60008922, 0.60071417, 0.60151947, 0.60247591, 0.60859182,\n",
       "        0.61039944, 0.61095527, 0.61170737, 0.61218225, 0.61469224,\n",
       "        0.61613677, 0.61659563, 0.61986013, 0.62067621, 0.62307425,\n",
       "        0.62419246, 0.6250181 , 0.62625551, 0.62661393, 0.62963099,\n",
       "        0.6331053 , 0.63357429, 0.63390504, 0.63466456, 0.63507731,\n",
       "        0.63591732, 0.63603155, 0.63751914, 0.63777055, 0.63789586,\n",
       "        0.63915798, 0.63938506, 0.63939924, 0.64005161, 0.64140262,\n",
       "        0.64424798, 0.64690941, 0.64912749, 0.64949293, 0.65013532,\n",
       "        0.65034556, 0.65243464, 0.65291006, 0.65317181, 0.65417818,\n",
       "        0.65440071, 0.6561089 , 0.65642588, 0.65643386, 0.65731141,\n",
       "        0.65753101, 0.65811479, 0.65838629, 0.65933072, 0.65971893,\n",
       "        0.65986671, 0.66072315, 0.6611517 , 0.66122004, 0.66226989,\n",
       "        0.66240195, 0.66247415, 0.66430982, 0.66462275, 0.66484968,\n",
       "        0.66520045, 0.66786235, 0.6679006 , 0.66791143, 0.66899979,\n",
       "        0.67117459, 0.67127466, 0.67170592, 0.67196982, 0.67303698,\n",
       "        0.67335966, 0.67454514, 0.67538001, 0.67546932, 0.67560416,\n",
       "        0.67569668, 0.67788708, 0.67920851, 0.6821074 , 0.6825536 ,\n",
       "        0.6827215 , 0.68317237, 0.6836042 , 0.68460351, 0.68522468,\n",
       "        0.6862038 , 0.68808434, 0.6908488 , 0.69231634, 0.69361521,\n",
       "        0.69408269, 0.69449492, 0.69515693, 0.6958519 , 0.69608037,\n",
       "        0.69657831, 0.69699719, 0.70043534, 0.70147527, 0.70286306,\n",
       "        0.70298426, 0.70565123, 0.70584275, 0.70786039, 0.70820328,\n",
       "        0.709007  , 0.70939927, 0.71020511, 0.71430904, 0.7145272 ,\n",
       "        0.71575832, 0.71635328, 0.71710103, 0.71781434, 0.71791429,\n",
       "        0.71886045, 0.719584  , 0.72223291, 0.72340118, 0.72390821,\n",
       "        0.72576545, 0.7258748 , 0.72603057, 0.72667016, 0.72683742,\n",
       "        0.72750625, 0.73039067, 0.73068713, 0.73140945, 0.73151229,\n",
       "        0.73199978, 0.73394398, 0.73427037, 0.73459802, 0.73469655,\n",
       "        0.73500798, 0.7352911 , 0.73627593, 0.73638502, 0.73690778,\n",
       "        0.74107793, 0.74135855, 0.74156349, 0.74159859, 0.74160173,\n",
       "        0.74172877, 0.74182624, 0.74192351, 0.74358307, 0.74377097,\n",
       "        0.74668772, 0.74737865, 0.74824862, 0.74954261, 0.75450664,\n",
       "        0.75554242, 0.75617314, 0.75624034, 0.75660911, 0.756793  ,\n",
       "        0.75747822, 0.75796258, 0.75850092, 0.75892758, 0.7590134 ,\n",
       "        0.75928679, 0.76022908, 0.76052869, 0.76128697, 0.76220341,\n",
       "        0.76328224, 0.76540587, 0.76606919, 0.76864647, 0.76959337,\n",
       "        0.76968219, 0.76992888, 0.77013056, 0.77046898, 0.77057841,\n",
       "        0.77158235, 0.77238243, 0.77311389, 0.77326686, 0.77420483,\n",
       "        0.77510829, 0.77704477, 0.77738627, 0.7782205 , 0.77906114,\n",
       "        0.77977481, 0.78109531, 0.78272147, 0.78307502, 0.78314906,\n",
       "        0.7862908 , 0.7877167 , 0.78801734, 0.78920777, 0.79141443,\n",
       "        0.7937956 , 0.79677045, 0.79752892, 0.79915244, 0.80025161,\n",
       "        0.80063109, 0.80238691, 0.80318182, 0.80448279, 0.80533101,\n",
       "        0.80547907, 0.80730952, 0.80778943, 0.80829729, 0.80931422,\n",
       "        0.81117641, 0.81196685, 0.81210196, 0.81238692, 0.81315049,\n",
       "        0.81425258, 0.81496313, 0.81525463, 0.81546167, 0.81684694,\n",
       "        0.8181027 , 0.81858549, 0.81899865, 0.81980216, 0.82051185,\n",
       "        0.82130304, 0.82230082, 0.82463948, 0.826639  , 0.82675193,\n",
       "        0.82929982, 0.8303304 , 0.83044338, 0.83184109, 0.83196146,\n",
       "        0.83290716, 0.83375185, 0.834514  , 0.83459158, 0.83543339,\n",
       "        0.83606123, 0.8373408 , 0.83829565, 0.83849061, 0.84200365,\n",
       "        0.84561202, 0.84729325, 0.84778028, 0.84785263, 0.84826417,\n",
       "        0.84838439, 0.85134757, 0.85376155, 0.85381231, 0.85498319,\n",
       "        0.85520459, 0.85525778, 0.85730872, 0.85791732, 0.85810365,\n",
       "        0.85821989, 0.8597563 , 0.86024889, 0.8605301 , 0.86095965,\n",
       "        0.86131421, 0.86154244, 0.86370392, 0.86539457, 0.86658659,\n",
       "        0.86687257, 0.86696822, 0.8670568 , 0.86759625, 0.86914297,\n",
       "        0.86943419, 0.87361675, 0.87501255, 0.87572152, 0.8783111 ,\n",
       "        0.87896165, 0.87940061, 0.87950994, 0.88325367, 0.88353734,\n",
       "        0.88361937, 0.88375962, 0.88478607, 0.88621647, 0.88948956,\n",
       "        0.88968375, 0.89026977, 0.8911699 , 0.89195011, 0.89222884,\n",
       "        0.89446039, 0.89446894, 0.89479339, 0.89482486, 0.89546757,\n",
       "        0.89549778, 0.89692814, 0.89811865, 0.89826762, 0.89899272,\n",
       "        0.89911954, 0.89977669, 0.90005383, 0.90096996, 0.90157782,\n",
       "        0.9030356 , 0.90513662, 0.90718992, 0.90792636, 0.90800353,\n",
       "        0.90982574, 0.91042929, 0.91254031, 0.91257099, 0.91850471,\n",
       "        0.91966746, 0.91978962, 0.92058758, 0.92093902, 0.92116238,\n",
       "        0.92161043, 0.9217992 , 0.922827  , 0.92361486, 0.92458833,\n",
       "        0.92567924, 0.92668923, 0.9292591 , 0.93029231, 0.9307756 ,\n",
       "        0.9335249 , 0.93524421, 0.93680352, 0.93771004, 0.9382401 ,\n",
       "        0.93864894, 0.94189742, 0.94384538, 0.94582815, 0.94777209,\n",
       "        0.94858456, 0.94961611, 0.95076731, 0.95093333, 0.95098441,\n",
       "        0.95282449, 0.95503913, 0.95524641, 0.95567256, 0.9560967 ,\n",
       "        0.95648285, 0.95774633, 0.95922587, 0.96012018, 0.96033758,\n",
       "        0.96052351, 0.96058457, 0.96138586, 0.96189989, 0.96413629,\n",
       "        0.96568969, 0.96622515, 0.96701892, 0.96704429, 0.96718788,\n",
       "        0.96834218, 0.9686441 , 0.96864649, 0.96878284, 0.97030125,\n",
       "        0.97117024, 0.9728145 , 0.97335591, 0.97380089, 0.97656188,\n",
       "        0.97849858, 0.9786186 , 0.97906694, 0.97910696, 0.97960738,\n",
       "        0.97970752, 0.98375219, 0.98428928, 0.98863396, 0.99121393,\n",
       "        0.99139605, 0.99161152, 0.99215993, 0.99226609, 0.99325926,\n",
       "        0.99440674, 0.99543358, 0.99843399, 0.99943456, 0.99946355]),\n",
       " array([1, 1, 1, 1, 1, 1, 1, 1, 1, 1, 1, 1, 1, 1, 1, 1, 1, 1, 1, 1, 1, 1,\n",
       "        1, 1, 1, 1, 1, 1, 1, 1, 1, 1, 1, 1, 1, 1, 1, 1, 1, 1, 1, 1, 1, 1,\n",
       "        1, 1, 1, 1, 1, 1, 1, 1, 1, 1, 1, 1, 1, 1, 1, 1, 1, 1, 1, 1, 1, 1,\n",
       "        1, 1, 1, 1, 1, 1, 1, 1, 1, 1, 1, 1, 1, 1, 1, 1, 1, 1, 1, 1, 1, 1,\n",
       "        1, 1, 1, 1, 1, 1, 1, 1, 1, 1, 1, 1, 1, 1, 1, 1, 1, 1, 1, 1, 1, 1,\n",
       "        1, 1, 1, 1, 1, 1, 1, 1, 1, 1, 1, 1, 1, 1, 1, 1, 1, 1, 1, 1, 1, 1,\n",
       "        1, 1, 1, 1, 1, 1, 1, 1, 1, 1, 1, 1, 1, 1, 1, 1, 1, 1, 1, 1, 1, 1,\n",
       "        1, 1, 1, 1, 1, 1, 1, 1, 1, 1, 1, 1, 1, 1, 1, 1, 1, 1, 1, 1, 1, 1,\n",
       "        1, 1, 1, 1, 1, 1, 1, 1, 1, 1, 1, 1, 1, 1, 1, 1, 1, 1, 1, 1, 1, 1,\n",
       "        1, 1, 1, 1, 1, 1, 1, 1, 1, 1, 1, 1, 1, 1, 1, 1, 1, 1, 1, 1, 1, 1,\n",
       "        1, 1, 1, 1, 1, 1, 1, 1, 1, 1, 1, 1, 1, 1, 1, 1, 1, 1, 1, 1, 1, 1,\n",
       "        1, 1, 1, 1, 1, 1, 1, 1, 1, 1, 1, 1, 1, 1, 1, 1, 1, 1, 1, 1, 1, 1,\n",
       "        1, 1, 1, 1, 1, 1, 1, 1, 1, 1, 1, 1, 1, 1, 1, 1, 1, 1, 1, 1, 1, 1,\n",
       "        1, 1, 1, 1, 1, 1, 1, 1, 1, 1, 1, 1, 1, 1, 1, 1, 1, 1, 1, 1, 1, 1,\n",
       "        1, 1, 1, 1, 1, 1, 1, 1, 1, 1, 1, 1, 1, 1, 1, 1, 1, 1, 1, 1, 1, 1,\n",
       "        1, 1, 1, 1, 1, 1, 1, 1, 1, 1, 1, 1, 1, 1, 1, 1, 1, 1, 1, 1, 1, 1,\n",
       "        1, 1, 1, 1, 1, 1, 1, 1, 1, 1, 1, 1, 1, 1, 1, 1, 1, 1, 1, 1, 1, 1,\n",
       "        1, 1, 1, 1, 1, 1, 1, 1, 1, 1, 1, 1, 1, 1, 1, 1, 1, 1, 1, 1, 1, 1,\n",
       "        1, 1, 1, 1, 1, 1, 1, 1, 1, 1, 1, 1, 1, 1, 1, 1, 1, 1, 1, 1, 1, 1,\n",
       "        1, 1, 1, 1, 1, 1, 1, 1, 1, 1, 1, 1, 1, 1, 1, 1, 1, 1, 1, 1, 1, 1,\n",
       "        1, 1, 1, 1, 1, 1, 1, 1, 1, 1, 1, 1, 1, 1, 1, 1, 1, 1, 1, 1, 1, 1,\n",
       "        1, 1, 1, 1, 1, 1, 1, 1, 1, 1, 1, 1, 1, 1, 1, 1, 1, 1, 1, 1, 1, 1,\n",
       "        1, 1, 1, 1, 1, 1, 1, 1, 1, 1, 1, 1, 1, 1, 1, 1, 1, 1, 1, 1, 1, 1,\n",
       "        1, 1, 1, 1, 1, 1, 1, 1, 1, 1, 1, 1, 1, 1, 1, 1, 1, 1, 1, 1, 1, 1,\n",
       "        1, 1, 1, 1, 1, 1, 1, 1, 1, 1, 1, 1, 1, 1, 1, 1, 1, 1, 1, 1, 1, 1,\n",
       "        1, 1, 1, 1, 1, 1, 1, 1, 1, 1, 1, 1, 1, 1, 1, 1, 1, 1, 1, 1, 1, 1,\n",
       "        1, 1, 1, 1, 1, 1, 1, 1, 1, 1, 1, 1, 1, 1, 1, 1, 1, 1, 1, 1, 1, 1,\n",
       "        1, 1, 1, 1, 1, 1, 1, 1, 1, 1, 1, 1, 1, 1, 1, 1, 1, 1, 1, 1, 1, 1,\n",
       "        1, 1, 1, 1, 1, 1, 1, 1, 1, 1, 1, 1, 1, 1, 1, 1, 1, 1, 1, 1, 1, 1,\n",
       "        1, 1, 1, 1, 1, 1, 1, 1, 1, 1, 1, 1, 1, 1, 1, 1, 1, 1, 1, 1, 1, 1,\n",
       "        1, 1, 1, 1, 1, 1, 1, 1, 1, 1, 1, 1, 1, 1, 1, 1, 1, 1, 1, 1, 1, 1,\n",
       "        1, 1, 1, 1, 1, 1, 1, 1, 1, 1, 1, 1, 1, 1, 1, 1, 1, 1, 1, 1, 1, 1,\n",
       "        1, 1, 1, 1, 1, 1, 1, 1, 1, 1, 1, 1, 1, 1, 1, 1, 1, 1, 1, 1, 1, 1,\n",
       "        1, 1, 1, 1, 1, 1, 1, 1, 1, 1, 1, 1, 1, 1, 1, 1, 1, 1, 1, 1, 1, 1,\n",
       "        1, 1, 1, 1, 1, 1, 1, 1, 1, 1, 1, 1, 1, 1, 1, 1, 1, 1, 1, 1, 1, 1,\n",
       "        1, 1, 1, 1, 1, 1, 1, 1, 1, 1, 1, 1, 1, 1, 1, 1, 1, 1, 1, 1, 1, 1,\n",
       "        1, 1, 1, 1, 1, 1, 1, 1, 1, 1, 1, 1, 1, 1, 1, 1, 1, 1, 1, 1, 1, 1,\n",
       "        1, 1, 1, 1, 1, 1, 1, 1, 1, 1, 1, 1, 1, 1, 1, 1, 1, 1, 1, 1, 1, 1,\n",
       "        1, 1, 1, 1, 1, 1, 1, 1, 1, 1, 1, 1, 1, 1, 1, 1, 1, 1, 1, 1, 1, 1,\n",
       "        1, 1, 1, 1, 1, 1, 1, 1, 1, 1, 1, 1, 1, 1, 1, 1, 1, 1, 1, 1, 1, 1,\n",
       "        1, 1, 1, 1, 1, 1, 1, 1, 1, 1, 1, 1, 1, 1, 1, 1, 1, 1, 1, 1, 1, 1,\n",
       "        1, 1, 1, 1, 1, 1, 1, 1, 1, 1, 1, 1, 1, 1, 1, 1, 1, 1, 1, 1, 1, 1,\n",
       "        1, 1, 1, 1, 1, 1, 1, 1, 1, 1, 1, 1, 1, 1, 1, 1, 1, 1, 1, 1, 1, 1,\n",
       "        1, 1, 1, 1, 1, 1, 1, 1, 1, 1, 1, 1, 1, 1, 1, 1, 1, 1, 1, 1, 1, 1,\n",
       "        1, 1, 1, 1, 1, 1, 1, 1, 1, 1, 1, 1, 1, 1, 1, 1, 1, 1, 1, 1, 1, 1,\n",
       "        1, 1, 1, 1, 1, 1, 1, 1, 1, 1], dtype=int64))"
      ]
     },
     "execution_count": 51,
     "metadata": {},
     "output_type": "execute_result"
    }
   ],
   "source": [
    "# devido a uma unica ocorrência dos dados, temos a formação de um gráfico \"em forma de quadrado\"\n",
    "np.unique(dados_uniforme, return_counts=True)"
   ]
  },
  {
   "cell_type": "code",
   "execution_count": 52,
   "id": "cc934174",
   "metadata": {},
   "outputs": [
    {
     "data": {
      "text/plain": [
       "(1997, 5)"
      ]
     },
     "execution_count": 52,
     "metadata": {},
     "output_type": "execute_result"
    }
   ],
   "source": [
    "# Exemplo prático\n",
    "\n",
    "dataset = pd.read_csv('../Bases de dados/credit_data.csv')\n",
    "dataset.dropna(inplace=True)\n",
    "dataset.shape"
   ]
  },
  {
   "cell_type": "code",
   "execution_count": 53,
   "id": "2c077227",
   "metadata": {},
   "outputs": [
    {
     "data": {
      "text/html": [
       "<div>\n",
       "<style scoped>\n",
       "    .dataframe tbody tr th:only-of-type {\n",
       "        vertical-align: middle;\n",
       "    }\n",
       "\n",
       "    .dataframe tbody tr th {\n",
       "        vertical-align: top;\n",
       "    }\n",
       "\n",
       "    .dataframe thead th {\n",
       "        text-align: right;\n",
       "    }\n",
       "</style>\n",
       "<table border=\"1\" class=\"dataframe\">\n",
       "  <thead>\n",
       "    <tr style=\"text-align: right;\">\n",
       "      <th></th>\n",
       "      <th>i#clientid</th>\n",
       "      <th>income</th>\n",
       "      <th>age</th>\n",
       "      <th>loan</th>\n",
       "      <th>c#default</th>\n",
       "    </tr>\n",
       "  </thead>\n",
       "  <tbody>\n",
       "    <tr>\n",
       "      <th>0</th>\n",
       "      <td>1</td>\n",
       "      <td>66155.925095</td>\n",
       "      <td>59.017015</td>\n",
       "      <td>8106.532131</td>\n",
       "      <td>0</td>\n",
       "    </tr>\n",
       "    <tr>\n",
       "      <th>1</th>\n",
       "      <td>2</td>\n",
       "      <td>34415.153966</td>\n",
       "      <td>48.117153</td>\n",
       "      <td>6564.745018</td>\n",
       "      <td>0</td>\n",
       "    </tr>\n",
       "    <tr>\n",
       "      <th>2</th>\n",
       "      <td>3</td>\n",
       "      <td>57317.170063</td>\n",
       "      <td>63.108049</td>\n",
       "      <td>8020.953296</td>\n",
       "      <td>0</td>\n",
       "    </tr>\n",
       "    <tr>\n",
       "      <th>3</th>\n",
       "      <td>4</td>\n",
       "      <td>42709.534201</td>\n",
       "      <td>45.751972</td>\n",
       "      <td>6103.642260</td>\n",
       "      <td>0</td>\n",
       "    </tr>\n",
       "    <tr>\n",
       "      <th>4</th>\n",
       "      <td>5</td>\n",
       "      <td>66952.688845</td>\n",
       "      <td>18.584336</td>\n",
       "      <td>8770.099235</td>\n",
       "      <td>1</td>\n",
       "    </tr>\n",
       "  </tbody>\n",
       "</table>\n",
       "</div>"
      ],
      "text/plain": [
       "   i#clientid        income        age         loan  c#default\n",
       "0           1  66155.925095  59.017015  8106.532131          0\n",
       "1           2  34415.153966  48.117153  6564.745018          0\n",
       "2           3  57317.170063  63.108049  8020.953296          0\n",
       "3           4  42709.534201  45.751972  6103.642260          0\n",
       "4           5  66952.688845  18.584336  8770.099235          1"
      ]
     },
     "execution_count": 53,
     "metadata": {},
     "output_type": "execute_result"
    }
   ],
   "source": [
    "dataset.head()"
   ]
  },
  {
   "cell_type": "code",
   "execution_count": 54,
   "id": "2fe57f52",
   "metadata": {},
   "outputs": [
    {
     "data": {
      "text/plain": [
       "array([[6.61559251e+04, 5.90170151e+01, 8.10653213e+03],\n",
       "       [3.44151540e+04, 4.81171531e+01, 6.56474502e+03],\n",
       "       [5.73171701e+04, 6.31080495e+01, 8.02095330e+03],\n",
       "       ...,\n",
       "       [4.43114493e+04, 2.80171669e+01, 5.52278669e+03],\n",
       "       [4.37560566e+04, 6.39717958e+01, 1.62272260e+03],\n",
       "       [6.94365796e+04, 5.61526170e+01, 7.37883360e+03]])"
      ]
     },
     "execution_count": 54,
     "metadata": {},
     "output_type": "execute_result"
    }
   ],
   "source": [
    "X = dataset.iloc[:, 1:4].values\n",
    "X"
   ]
  },
  {
   "cell_type": "code",
   "execution_count": 55,
   "id": "c3f108b4",
   "metadata": {},
   "outputs": [
    {
     "data": {
      "text/plain": [
       "array([0, 0, 0, ..., 1, 0, 0], dtype=int64)"
      ]
     },
     "execution_count": 55,
     "metadata": {},
     "output_type": "execute_result"
    }
   ],
   "source": [
    "y =  dataset.iloc[:, 4].values\n",
    "y"
   ]
  },
  {
   "cell_type": "code",
   "execution_count": 56,
   "id": "2e39f602",
   "metadata": {},
   "outputs": [],
   "source": [
    "from sklearn.naive_bayes import GaussianNB # distribuição normal\n",
    "from sklearn.metrics import accuracy_score\n",
    "from sklearn.model_selection import train_test_split"
   ]
  },
  {
   "cell_type": "code",
   "execution_count": 57,
   "id": "aace5836",
   "metadata": {},
   "outputs": [],
   "source": [
    "resultados_naive_bayes = []\n",
    "for i in range(30):\n",
    "    X_treinamento, X_teste, y_treinamento, y_teste = train_test_split(X, y, test_size=0.2,\n",
    "                                                                     stratify=y, random_state=i)\n",
    "    naive_bayes = GaussianNB()\n",
    "    naive_bayes.fit(X_treinamento, y_treinamento)\n",
    "    resultados_naive_bayes.append(accuracy_score(y_teste, naive_bayes.predict(X_teste)))"
   ]
  },
  {
   "cell_type": "code",
   "execution_count": 58,
   "id": "4704990f",
   "metadata": {},
   "outputs": [
    {
     "name": "stdout",
     "output_type": "stream",
     "text": [
      "[0.925, 0.925, 0.9325, 0.925, 0.92, 0.905, 0.9175, 0.9175, 0.9125, 0.9325, 0.9225, 0.9125, 0.935, 0.9175, 0.925, 0.9175, 0.9275, 0.92, 0.9325, 0.92, 0.93, 0.905, 0.9175, 0.9325, 0.9425, 0.9375, 0.94, 0.92, 0.935, 0.925]\n"
     ]
    }
   ],
   "source": [
    "print(resultados_naive_bayes)"
   ]
  },
  {
   "cell_type": "code",
   "execution_count": 59,
   "id": "9eb590e4",
   "metadata": {},
   "outputs": [
    {
     "name": "stderr",
     "output_type": "stream",
     "text": [
      "C:\\Users\\Matheus\\anaconda3\\lib\\site-packages\\seaborn\\distributions.py:2619: FutureWarning: `distplot` is a deprecated function and will be removed in a future version. Please adapt your code to use either `displot` (a figure-level function with similar flexibility) or `histplot` (an axes-level function for histograms).\n",
      "  warnings.warn(msg, FutureWarning)\n"
     ]
    },
    {
     "data": {
      "image/png": "[encoded data removed]",
      "text/plain": [
       "<Figure size 432x288 with 1 Axes>"
      ]
     },
     "metadata": {
      "needs_background": "light"
     },
     "output_type": "display_data"
    }
   ],
   "source": [
    "sns.distplot(resultados_naive_bayes, bins=10); \n",
    "# para resultados de modelos de machine learning teremos uma distribuição uniforme"
   ]
  },
  {
   "cell_type": "code",
   "execution_count": 60,
   "id": "4df7a4e8",
   "metadata": {},
   "outputs": [
    {
     "data": {
      "text/plain": [
       "(0.905, 0.9425)"
      ]
     },
     "execution_count": 60,
     "metadata": {},
     "output_type": "execute_result"
    }
   ],
   "source": [
    "min(resultados_naive_bayes), max(resultados_naive_bayes)"
   ]
  },
  {
   "cell_type": "markdown",
   "id": "fd8e531a",
   "metadata": {},
   "source": [
    "### Distribuição de Bernoulli \n",
    "1. Tipo específico de distribuição binomial (categórica: \"sucesso\"/ \"fracasso\")"
   ]
  },
  {
   "cell_type": "code",
   "execution_count": 61,
   "id": "d5f69e0b",
   "metadata": {},
   "outputs": [],
   "source": [
    "from scipy.stats import bernoulli"
   ]
  },
  {
   "cell_type": "code",
   "execution_count": 62,
   "id": "3ef0e312",
   "metadata": {},
   "outputs": [
    {
     "data": {
      "text/plain": [
       "array([0, 0, 0, 1, 1, 1, 1, 0, 1, 1, 0, 0, 0, 1, 0, 1, 0, 1, 1, 1, 0, 0,\n",
       "       1, 0, 0, 0, 1, 0, 0, 1, 1, 1, 0, 1, 1, 0, 1, 1, 0, 0, 1, 1, 0, 0,\n",
       "       0, 1, 1, 0, 1, 1, 1, 0, 1, 1, 0, 0, 1, 1, 0, 1, 0, 1, 0, 0, 1, 0,\n",
       "       0, 0, 0, 1, 1, 0, 0, 1, 0, 0, 1, 1, 1, 0, 0, 1, 0, 0, 0, 0, 0, 0,\n",
       "       1, 1, 0, 1, 1, 1, 0, 0, 1, 0, 1, 0, 0, 1, 1, 1, 0, 1, 1, 1, 0, 1,\n",
       "       1, 1, 1, 1, 1, 0, 1, 0, 1, 0, 0, 1, 0, 1, 1, 0, 0, 1, 1, 0, 1, 1,\n",
       "       1, 1, 0, 1, 1, 1, 0, 0, 0, 0, 1, 0, 1, 1, 0, 0, 1, 1, 1, 1, 1, 0,\n",
       "       0, 0, 1, 0, 0, 0, 1, 0, 1, 1, 0, 1, 1, 1, 1, 1, 0, 1, 1, 1, 0, 1,\n",
       "       1, 1, 1, 1, 1, 1, 1, 1, 1, 0, 1, 0, 1, 0, 0, 1, 0, 0, 1, 0, 0, 0,\n",
       "       0, 0, 1, 1, 0, 0, 1, 0, 1, 1, 0, 1, 1, 0, 1, 0, 0, 1, 0, 0, 1, 1,\n",
       "       1, 0, 1, 1, 1, 1, 1, 0, 1, 1, 1, 1, 1, 1, 1, 0, 1, 0, 1, 1, 1, 1,\n",
       "       0, 1, 1, 1, 1, 1, 1, 0, 1, 1, 1, 1, 0, 0, 0, 0, 0, 1, 1, 0, 1, 0,\n",
       "       0, 1, 1, 0, 0, 0, 0, 0, 0, 1, 1, 1, 0, 1, 0, 1, 0, 1, 1, 1, 0, 0,\n",
       "       1, 1, 1, 1, 1, 0, 1, 0, 0, 1, 1, 0, 0, 0, 0, 1, 0, 0, 0, 0, 1, 0,\n",
       "       0, 1, 0, 0, 1, 1, 1, 1, 0, 0, 1, 0, 0, 1, 0, 1, 0, 1, 0, 1, 0, 0,\n",
       "       1, 0, 0, 1, 1, 1, 1, 0, 0, 1, 0, 1, 0, 1, 0, 1, 1, 0, 1, 0, 0, 0,\n",
       "       1, 0, 1, 0, 1, 0, 0, 0, 0, 0, 1, 0, 1, 1, 1, 1, 1, 1, 1, 1, 1, 0,\n",
       "       1, 0, 0, 0, 1, 0, 1, 0, 0, 0, 0, 0, 1, 0, 1, 0, 1, 0, 0, 1, 1, 1,\n",
       "       0, 0, 1, 0, 1, 1, 0, 0, 1, 0, 0, 1, 1, 1, 1, 1, 0, 0, 1, 0, 0, 0,\n",
       "       1, 1, 0, 1, 1, 0, 0, 1, 0, 0, 1, 1, 1, 1, 0, 1, 0, 1, 1, 0, 1, 1,\n",
       "       1, 1, 1, 1, 0, 0, 0, 1, 0, 0, 1, 1, 0, 1, 1, 0, 1, 1, 1, 1, 1, 0,\n",
       "       1, 1, 1, 1, 1, 0, 1, 1, 1, 1, 1, 1, 1, 0, 0, 0, 0, 1, 0, 1, 0, 1,\n",
       "       0, 0, 1, 0, 1, 1, 0, 0, 1, 0, 1, 1, 1, 1, 0, 1, 1, 0, 0, 0, 0, 1,\n",
       "       1, 1, 1, 0, 1, 0, 0, 0, 1, 0, 1, 1, 0, 0, 0, 1, 0, 1, 1, 0, 1, 0,\n",
       "       0, 1, 0, 1, 1, 1, 1, 0, 0, 1, 1, 1, 1, 1, 0, 0, 0, 1, 0, 0, 0, 0,\n",
       "       1, 1, 0, 1, 0, 0, 0, 0, 0, 0, 0, 1, 1, 1, 1, 0, 1, 1, 0, 1, 1, 1,\n",
       "       0, 0, 1, 0, 0, 0, 0, 0, 1, 1, 0, 1, 0, 1, 1, 1, 1, 0, 1, 1, 0, 1,\n",
       "       1, 0, 0, 0, 1, 0, 0, 1, 1, 1, 0, 1, 0, 1, 1, 1, 1, 1, 0, 0, 1, 0,\n",
       "       0, 0, 0, 0, 1, 0, 1, 0, 0, 1, 1, 0, 0, 1, 0, 1, 0, 1, 1, 0, 0, 1,\n",
       "       1, 0, 1, 1, 0, 0, 1, 1, 1, 0, 1, 0, 0, 0, 1, 0, 1, 1, 0, 0, 1, 1,\n",
       "       1, 1, 1, 1, 1, 1, 1, 0, 1, 1, 0, 1, 1, 0, 0, 0, 0, 1, 0, 0, 0, 1,\n",
       "       1, 1, 0, 1, 0, 1, 1, 1, 0, 1, 0, 0, 1, 0, 0, 0, 0, 0, 1, 1, 0, 1,\n",
       "       1, 1, 0, 0, 1, 0, 1, 0, 1, 0, 0, 1, 1, 0, 1, 1, 0, 1, 0, 1, 1, 0,\n",
       "       1, 0, 1, 1, 1, 0, 1, 1, 0, 0, 1, 0, 1, 1, 0, 1, 1, 0, 0, 1, 1, 0,\n",
       "       1, 1, 1, 1, 0, 1, 0, 1, 0, 0, 1, 1, 0, 1, 0, 0, 0, 1, 1, 1, 1, 0,\n",
       "       1, 1, 0, 0, 0, 1, 0, 0, 1, 1, 1, 1, 1, 1, 0, 1, 1, 0, 1, 0, 0, 1,\n",
       "       0, 0, 0, 1, 1, 0, 1, 0, 0, 0, 1, 0, 1, 1, 0, 1, 1, 0, 0, 0, 0, 1,\n",
       "       0, 0, 1, 0, 0, 1, 1, 1, 0, 1, 1, 0, 0, 1, 0, 1, 1, 0, 1, 1, 1, 0,\n",
       "       1, 1, 0, 1, 1, 0, 1, 0, 1, 0, 1, 0, 0, 0, 0, 1, 0, 1, 1, 0, 1, 1,\n",
       "       1, 1, 1, 1, 0, 1, 1, 0, 1, 0, 0, 0, 1, 0, 0, 1, 1, 0, 0, 1, 1, 0,\n",
       "       0, 1, 0, 0, 0, 1, 1, 0, 1, 0, 0, 0, 1, 0, 0, 1, 0, 0, 1, 0, 0, 1,\n",
       "       1, 1, 1, 0, 1, 1, 1, 1, 0, 1, 1, 1, 1, 1, 0, 1, 0, 1, 0, 1, 1, 0,\n",
       "       0, 0, 0, 0, 0, 1, 1, 1, 0, 0, 0, 0, 0, 1, 0, 1, 0, 0, 0, 0, 1, 1,\n",
       "       0, 1, 1, 1, 1, 1, 0, 0, 1, 1, 0, 1, 0, 1, 1, 0, 1, 0, 0, 1, 1, 0,\n",
       "       1, 1, 1, 0, 0, 1, 1, 1, 0, 1, 0, 0, 1, 1, 1, 1, 0, 0, 1, 1, 0, 0,\n",
       "       1, 1, 1, 1, 0, 0, 1, 1, 1, 1])"
      ]
     },
     "execution_count": 62,
     "metadata": {},
     "output_type": "execute_result"
    }
   ],
   "source": [
    "dados_bernoulli = bernoulli.rvs(size=1000, p = 0.5) # probabilidade de sucesso é 50% e fracasso é 50%\n",
    "dados_bernoulli"
   ]
  },
  {
   "cell_type": "code",
   "execution_count": 63,
   "id": "a434bd20",
   "metadata": {},
   "outputs": [
    {
     "data": {
      "text/plain": [
       "(array([0, 1]), array([460, 540], dtype=int64))"
      ]
     },
     "execution_count": 63,
     "metadata": {},
     "output_type": "execute_result"
    }
   ],
   "source": [
    "np.unique(dados_bernoulli, return_counts=True)"
   ]
  },
  {
   "cell_type": "code",
   "execution_count": 64,
   "id": "30559c4a",
   "metadata": {},
   "outputs": [
    {
     "name": "stderr",
     "output_type": "stream",
     "text": [
      "C:\\Users\\Matheus\\anaconda3\\lib\\site-packages\\seaborn\\distributions.py:2619: FutureWarning: `distplot` is a deprecated function and will be removed in a future version. Please adapt your code to use either `displot` (a figure-level function with similar flexibility) or `histplot` (an axes-level function for histograms).\n",
      "  warnings.warn(msg, FutureWarning)\n"
     ]
    },
    {
     "data": {
      "image/png": "[encoded data removed]",
      "text/plain": [
       "<Figure size 432x288 with 1 Axes>"
      ]
     },
     "metadata": {
      "needs_background": "light"
     },
     "output_type": "display_data"
    }
   ],
   "source": [
    "sns.distplot(dados_bernoulli, kde=False);"
   ]
  },
  {
   "cell_type": "markdown",
   "id": "3364bc5e",
   "metadata": {},
   "source": [
    "#### Distribuição binomial"
   ]
  },
  {
   "cell_type": "code",
   "execution_count": 65,
   "id": "2e968085",
   "metadata": {},
   "outputs": [],
   "source": [
    "from scipy.stats import binom"
   ]
  },
  {
   "cell_type": "code",
   "execution_count": 66,
   "id": "092bd014",
   "metadata": {},
   "outputs": [],
   "source": [
    "dados_binomial = binom.rvs(size=1000, n = 10, p = 0.1)"
   ]
  },
  {
   "cell_type": "code",
   "execution_count": 67,
   "id": "c36c11dc",
   "metadata": {},
   "outputs": [
    {
     "name": "stdout",
     "output_type": "stream",
     "text": [
      "[1 1 3 2 0 4 2 0 1 0 4 0 2 1 2 2 2 0 2 1 0 1 1 1 2 0 0 1 0 0 0 0 2 1 0 3 2\n",
      " 0 1 1 1 2 0 1 0 1 0 0 0 0 1 2 1 2 3 2 0 1 1 0 1 0 0 0 1 1 2 1 0 0 2 1 1 2\n",
      " 1 2 0 3 1 1 1 0 1 0 1 1 0 2 0 0 0 1 1 1 3 4 0 1 0 2 1 0 1 1 3 0 1 0 0 2 1\n",
      " 3 1 0 1 4 0 0 1 1 1 3 1 0 0 1 1 3 0 0 0 0 0 1 2 1 0 0 1 1 2 3 1 1 1 1 1 0\n",
      " 0 0 1 1 0 1 0 1 1 1 0 3 1 1 0 1 1 1 2 1 2 2 0 0 0 3 1 2 3 2 3 1 0 2 1 1 0\n",
      " 0 1 1 0 3 2 2 1 2 2 1 1 1 1 0 1 0 2 2 2 1 1 2 2 1 0 1 1 1 1 2 0 2 3 2 2 2\n",
      " 1 0 1 2 1 3 0 0 0 1 3 0 1 1 0 1 0 0 2 1 0 1 2 2 1 1 0 0 1 4 2 1 0 0 3 1 2\n",
      " 2 1 1 1 0 2 0 1 1 0 2 0 0 1 0 2 0 1 2 2 0 3 1 2 0 0 1 1 2 0 2 0 2 1 0 0 1\n",
      " 0 1 1 1 1 1 2 1 1 3 2 1 0 3 3 2 3 1 2 0 2 1 2 1 0 1 2 2 0 1 0 1 3 2 1 1 0\n",
      " 0 2 0 2 2 1 0 2 1 0 1 1 1 3 2 2 1 1 1 1 0 2 1 2 2 1 1 0 1 0 0 0 2 1 0 1 0\n",
      " 0 2 2 1 2 1 2 1 1 0 0 1 1 0 0 1 2 1 1 1 4 0 0 1 1 1 1 4 0 1 1 1 1 1 1 2 0\n",
      " 1 0 0 1 1 1 0 1 0 1 0 2 0 1 0 1 1 0 3 0 0 0 1 2 2 1 4 1 0 2 1 0 0 0 2 1 0\n",
      " 1 0 2 1 2 1 2 0 1 1 1 1 1 1 0 0 1 2 1 1 2 1 0 1 3 0 0 1 1 0 0 3 0 1 0 0 1\n",
      " 0 1 0 1 1 0 2 0 0 0 1 1 4 1 0 1 2 1 0 0 1 1 0 2 1 0 1 2 0 1 1 1 1 0 4 0 1\n",
      " 0 2 0 3 2 1 1 2 0 2 1 0 1 1 1 1 2 2 0 0 1 1 0 0 1 3 1 2 1 0 1 1 3 0 4 1 1\n",
      " 0 2 1 0 0 3 1 2 0 0 0 0 0 1 1 0 1 0 0 2 3 0 1 2 3 1 2 0 1 1 1 1 0 0 2 2 1\n",
      " 1 0 1 1 1 0 0 1 2 0 2 0 1 1 2 2 0 1 0 2 1 1 0 1 1 2 1 1 2 0 1 1 2 1 2 0 1\n",
      " 2 1 0 0 0 0 1 2 1 2 0 0 2 1 1 1 1 1 0 0 1 0 1 0 0 2 1 1 2 0 2 1 1 0 0 1 2\n",
      " 1 1 1 0 2 0 0 0 0 0 1 3 0 0 0 1 1 1 1 1 0 1 1 2 2 1 0 1 0 1 3 1 2 2 0 1 2\n",
      " 3 1 2 0 0 1 1 1 0 1 0 3 0 2 3 1 0 0 0 2 1 3 0 3 1 1 0 2 0 1 0 3 2 2 0 1 3\n",
      " 0 3 0 0 2 0 1 0 0 0 2 0 1 1 0 1 0 1 0 1 1 2 1 1 2 1 0 0 1 2 0 0 0 2 0 1 2\n",
      " 1 1 1 1 2 0 0 0 1 0 1 1 2 0 1 0 0 1 0 0 2 1 1 0 0 2 2 1 0 0 2 1 0 2 1 2 1\n",
      " 1 0 0 1 1 0 0 3 1 2 0 2 2 0 0 1 0 2 1 0 3 3 1 2 0 0 1 1 1 1 1 2 1 2 1 0 1\n",
      " 1 1 2 2 1 2 1 1 0 1 3 1 0 3 0 2 1 0 3 2 0 0 3 2 4 1 1 0 0 1 3 5 0 0 1 0 0\n",
      " 1 0 1 2 1 0 1 2 2 1 0 0 0 1 0 1 1 2 2 0 0 1 2 0 3 1 1 1 0 0 0 3 2 0 0 1 1\n",
      " 1 0 1 3 1 3 2 1 0 1 1 2 2 0 1 1 1 1 1 1 1 2 1 1 2 1 0 0 0 1 2 2 1 0 1 0 1\n",
      " 1 3 0 0 2 0 1 1 0 2 1 0 0 0 1 1 0 0 2 0 0 3 2 1 0 0 0 1 1 0 0 1 1 3 1 0 1\n",
      " 0]\n"
     ]
    }
   ],
   "source": [
    "print(dados_binomial)"
   ]
  },
  {
   "cell_type": "code",
   "execution_count": 68,
   "id": "00dccd5e",
   "metadata": {},
   "outputs": [
    {
     "data": {
      "text/plain": [
       "(array([0, 1, 2, 3, 4, 5]), array([336, 404, 187,  60,  12,   1], dtype=int64))"
      ]
     },
     "execution_count": 68,
     "metadata": {},
     "output_type": "execute_result"
    }
   ],
   "source": [
    "np.unique(dados_binomial, return_counts=True)"
   ]
  },
  {
   "cell_type": "code",
   "execution_count": 69,
   "id": "49c8db66",
   "metadata": {},
   "outputs": [
    {
     "data": {
      "image/png": "[encoded data removed]",
      "text/plain": [
       "<Figure size 432x288 with 1 Axes>"
      ]
     },
     "metadata": {
      "needs_background": "light"
     },
     "output_type": "display_data"
    }
   ],
   "source": [
    "sns.distplot(dados_binomial);"
   ]
  },
  {
   "cell_type": "markdown",
   "id": "79d568aa",
   "metadata": {},
   "source": [
    "### Distribuição de Poisson\n",
    "1. Número de vezes que um evento ocorreu em um intervalo de tempo"
   ]
  },
  {
   "cell_type": "code",
   "execution_count": 70,
   "id": "0a9453d8",
   "metadata": {},
   "outputs": [],
   "source": [
    "from scipy.stats import poisson"
   ]
  },
  {
   "cell_type": "code",
   "execution_count": 71,
   "id": "33f3b12b",
   "metadata": {},
   "outputs": [],
   "source": [
    "dados_poisson = poisson.rvs(size=1000, mu=1)"
   ]
  },
  {
   "cell_type": "code",
   "execution_count": 72,
   "id": "d1d7533c",
   "metadata": {},
   "outputs": [
    {
     "data": {
      "text/plain": [
       "(0, 6)"
      ]
     },
     "execution_count": 72,
     "metadata": {},
     "output_type": "execute_result"
    }
   ],
   "source": [
    "min(dados_poisson), max(dados_poisson)"
   ]
  },
  {
   "cell_type": "code",
   "execution_count": 73,
   "id": "5e77cc22",
   "metadata": {},
   "outputs": [
    {
     "data": {
      "text/plain": [
       "(array([0, 1, 2, 3, 4, 5, 6]),\n",
       " array([345, 379, 198,  58,  17,   2,   1], dtype=int64))"
      ]
     },
     "execution_count": 73,
     "metadata": {},
     "output_type": "execute_result"
    }
   ],
   "source": [
    "np.unique(dados_poisson, return_counts=True)"
   ]
  },
  {
   "cell_type": "code",
   "execution_count": 74,
   "id": "6bf1cfff",
   "metadata": {},
   "outputs": [
    {
     "name": "stderr",
     "output_type": "stream",
     "text": [
      "C:\\Users\\Matheus\\anaconda3\\lib\\site-packages\\seaborn\\distributions.py:2619: FutureWarning: `distplot` is a deprecated function and will be removed in a future version. Please adapt your code to use either `displot` (a figure-level function with similar flexibility) or `histplot` (an axes-level function for histograms).\n",
      "  warnings.warn(msg, FutureWarning)\n"
     ]
    },
    {
     "data": {
      "image/png": "[encoded data removed]",
      "text/plain": [
       "<Figure size 432x288 with 1 Axes>"
      ]
     },
     "metadata": {
      "needs_background": "light"
     },
     "output_type": "display_data"
    }
   ],
   "source": [
    "sns.distplot(dados_poisson, kde=False);"
   ]
  },
  {
   "cell_type": "code",
   "execution_count": 75,
   "id": "c80d9012",
   "metadata": {},
   "outputs": [
    {
     "data": {
      "text/html": [
       "<div>\n",
       "<style scoped>\n",
       "    .dataframe tbody tr th:only-of-type {\n",
       "        vertical-align: middle;\n",
       "    }\n",
       "\n",
       "    .dataframe tbody tr th {\n",
       "        vertical-align: top;\n",
       "    }\n",
       "\n",
       "    .dataframe thead th {\n",
       "        text-align: right;\n",
       "    }\n",
       "</style>\n",
       "<table border=\"1\" class=\"dataframe\">\n",
       "  <thead>\n",
       "    <tr style=\"text-align: right;\">\n",
       "      <th></th>\n",
       "      <th>age</th>\n",
       "      <th>workclass</th>\n",
       "      <th>final-weight</th>\n",
       "      <th>education</th>\n",
       "      <th>education-num</th>\n",
       "      <th>marital-status</th>\n",
       "      <th>occupation</th>\n",
       "      <th>relationship</th>\n",
       "      <th>race</th>\n",
       "      <th>sex</th>\n",
       "      <th>capital-gain</th>\n",
       "      <th>capital-loos</th>\n",
       "      <th>hour-per-week</th>\n",
       "      <th>native-country</th>\n",
       "      <th>income</th>\n",
       "    </tr>\n",
       "  </thead>\n",
       "  <tbody>\n",
       "    <tr>\n",
       "      <th>0</th>\n",
       "      <td>39</td>\n",
       "      <td>State-gov</td>\n",
       "      <td>77516</td>\n",
       "      <td>Bachelors</td>\n",
       "      <td>13</td>\n",
       "      <td>Never-married</td>\n",
       "      <td>Adm-clerical</td>\n",
       "      <td>Not-in-family</td>\n",
       "      <td>White</td>\n",
       "      <td>Male</td>\n",
       "      <td>2174</td>\n",
       "      <td>0</td>\n",
       "      <td>40</td>\n",
       "      <td>United-States</td>\n",
       "      <td>&lt;=50K</td>\n",
       "    </tr>\n",
       "    <tr>\n",
       "      <th>1</th>\n",
       "      <td>50</td>\n",
       "      <td>Self-emp-not-inc</td>\n",
       "      <td>83311</td>\n",
       "      <td>Bachelors</td>\n",
       "      <td>13</td>\n",
       "      <td>Married-civ-spouse</td>\n",
       "      <td>Exec-managerial</td>\n",
       "      <td>Husband</td>\n",
       "      <td>White</td>\n",
       "      <td>Male</td>\n",
       "      <td>0</td>\n",
       "      <td>0</td>\n",
       "      <td>13</td>\n",
       "      <td>United-States</td>\n",
       "      <td>&lt;=50K</td>\n",
       "    </tr>\n",
       "    <tr>\n",
       "      <th>2</th>\n",
       "      <td>38</td>\n",
       "      <td>Private</td>\n",
       "      <td>215646</td>\n",
       "      <td>HS-grad</td>\n",
       "      <td>9</td>\n",
       "      <td>Divorced</td>\n",
       "      <td>Handlers-cleaners</td>\n",
       "      <td>Not-in-family</td>\n",
       "      <td>White</td>\n",
       "      <td>Male</td>\n",
       "      <td>0</td>\n",
       "      <td>0</td>\n",
       "      <td>40</td>\n",
       "      <td>United-States</td>\n",
       "      <td>&lt;=50K</td>\n",
       "    </tr>\n",
       "    <tr>\n",
       "      <th>3</th>\n",
       "      <td>53</td>\n",
       "      <td>Private</td>\n",
       "      <td>234721</td>\n",
       "      <td>11th</td>\n",
       "      <td>7</td>\n",
       "      <td>Married-civ-spouse</td>\n",
       "      <td>Handlers-cleaners</td>\n",
       "      <td>Husband</td>\n",
       "      <td>Black</td>\n",
       "      <td>Male</td>\n",
       "      <td>0</td>\n",
       "      <td>0</td>\n",
       "      <td>40</td>\n",
       "      <td>United-States</td>\n",
       "      <td>&lt;=50K</td>\n",
       "    </tr>\n",
       "    <tr>\n",
       "      <th>4</th>\n",
       "      <td>28</td>\n",
       "      <td>Private</td>\n",
       "      <td>338409</td>\n",
       "      <td>Bachelors</td>\n",
       "      <td>13</td>\n",
       "      <td>Married-civ-spouse</td>\n",
       "      <td>Prof-specialty</td>\n",
       "      <td>Wife</td>\n",
       "      <td>Black</td>\n",
       "      <td>Female</td>\n",
       "      <td>0</td>\n",
       "      <td>0</td>\n",
       "      <td>40</td>\n",
       "      <td>Cuba</td>\n",
       "      <td>&lt;=50K</td>\n",
       "    </tr>\n",
       "  </tbody>\n",
       "</table>\n",
       "</div>"
      ],
      "text/plain": [
       "   age          workclass  final-weight   education  education-num  \\\n",
       "0   39          State-gov         77516   Bachelors             13   \n",
       "1   50   Self-emp-not-inc         83311   Bachelors             13   \n",
       "2   38            Private        215646     HS-grad              9   \n",
       "3   53            Private        234721        11th              7   \n",
       "4   28            Private        338409   Bachelors             13   \n",
       "\n",
       "        marital-status          occupation    relationship    race      sex  \\\n",
       "0        Never-married        Adm-clerical   Not-in-family   White     Male   \n",
       "1   Married-civ-spouse     Exec-managerial         Husband   White     Male   \n",
       "2             Divorced   Handlers-cleaners   Not-in-family   White     Male   \n",
       "3   Married-civ-spouse   Handlers-cleaners         Husband   Black     Male   \n",
       "4   Married-civ-spouse      Prof-specialty            Wife   Black   Female   \n",
       "\n",
       "   capital-gain  capital-loos  hour-per-week  native-country  income  \n",
       "0          2174             0             40   United-States   <=50K  \n",
       "1             0             0             13   United-States   <=50K  \n",
       "2             0             0             40   United-States   <=50K  \n",
       "3             0             0             40   United-States   <=50K  \n",
       "4             0             0             40            Cuba   <=50K  "
      ]
     },
     "execution_count": 75,
     "metadata": {},
     "output_type": "execute_result"
    }
   ],
   "source": [
    "# Exercício\n",
    "\n",
    "censo = pd.read_csv('../Bases de dados/census.csv')\n",
    "censo.head()"
   ]
  },
  {
   "cell_type": "code",
   "execution_count": 76,
   "id": "99c5db55",
   "metadata": {},
   "outputs": [
    {
     "data": {
      "text/plain": [
       "age                int64\n",
       "workclass         object\n",
       "final-weight       int64\n",
       "education         object\n",
       "education-num      int64\n",
       "marital-status    object\n",
       "occupation        object\n",
       "relationship      object\n",
       "race              object\n",
       "sex               object\n",
       "capital-gain       int64\n",
       "capital-loos       int64\n",
       "hour-per-week      int64\n",
       "native-country    object\n",
       "income            object\n",
       "dtype: object"
      ]
     },
     "execution_count": 76,
     "metadata": {},
     "output_type": "execute_result"
    }
   ],
   "source": [
    "censo.dtypes"
   ]
  },
  {
   "cell_type": "code",
   "execution_count": 77,
   "id": "807432ed",
   "metadata": {},
   "outputs": [
    {
     "name": "stderr",
     "output_type": "stream",
     "text": [
      "C:\\Users\\Matheus\\anaconda3\\lib\\site-packages\\seaborn\\distributions.py:2619: FutureWarning: `distplot` is a deprecated function and will be removed in a future version. Please adapt your code to use either `displot` (a figure-level function with similar flexibility) or `histplot` (an axes-level function for histograms).\n",
      "  warnings.warn(msg, FutureWarning)\n"
     ]
    },
    {
     "data": {
      "image/png": "[encoded data removed]",
      "text/plain": [
       "<Figure size 432x288 with 1 Axes>"
      ]
     },
     "metadata": {
      "needs_background": "light"
     },
     "output_type": "display_data"
    }
   ],
   "source": [
    "sns.distplot(censo['age']);"
   ]
  },
  {
   "cell_type": "code",
   "execution_count": 78,
   "id": "a3ae8635",
   "metadata": {},
   "outputs": [
    {
     "name": "stderr",
     "output_type": "stream",
     "text": [
      "C:\\Users\\Matheus\\anaconda3\\lib\\site-packages\\seaborn\\distributions.py:2619: FutureWarning: `distplot` is a deprecated function and will be removed in a future version. Please adapt your code to use either `displot` (a figure-level function with similar flexibility) or `histplot` (an axes-level function for histograms).\n",
      "  warnings.warn(msg, FutureWarning)\n"
     ]
    },
    {
     "data": {
      "image/png": "[encoded data removed]",
      "text/plain": [
       "<Figure size 432x288 with 1 Axes>"
      ]
     },
     "metadata": {
      "needs_background": "light"
     },
     "output_type": "display_data"
    }
   ],
   "source": [
    "sns.distplot(censo['final-weight']);"
   ]
  },
  {
   "cell_type": "code",
   "execution_count": 79,
   "id": "ffb03263",
   "metadata": {},
   "outputs": [
    {
     "name": "stderr",
     "output_type": "stream",
     "text": [
      "C:\\Users\\Matheus\\anaconda3\\lib\\site-packages\\seaborn\\distributions.py:2619: FutureWarning: `distplot` is a deprecated function and will be removed in a future version. Please adapt your code to use either `displot` (a figure-level function with similar flexibility) or `histplot` (an axes-level function for histograms).\n",
      "  warnings.warn(msg, FutureWarning)\n"
     ]
    },
    {
     "data": {
      "image/png": "[encoded data removed]",
      "text/plain": [
       "<Figure size 432x288 with 1 Axes>"
      ]
     },
     "metadata": {
      "needs_background": "light"
     },
     "output_type": "display_data"
    }
   ],
   "source": [
    "sns.distplot(censo['education-num']);"
   ]
  },
  {
   "cell_type": "code",
   "execution_count": 80,
   "id": "1f9db59e",
   "metadata": {},
   "outputs": [
    {
     "name": "stderr",
     "output_type": "stream",
     "text": [
      "C:\\Users\\Matheus\\anaconda3\\lib\\site-packages\\seaborn\\distributions.py:2619: FutureWarning: `distplot` is a deprecated function and will be removed in a future version. Please adapt your code to use either `displot` (a figure-level function with similar flexibility) or `histplot` (an axes-level function for histograms).\n",
      "  warnings.warn(msg, FutureWarning)\n"
     ]
    },
    {
     "data": {
      "image/png": "[encoded data removed]",
      "text/plain": [
       "<Figure size 432x288 with 1 Axes>"
      ]
     },
     "metadata": {
      "needs_background": "light"
     },
     "output_type": "display_data"
    }
   ],
   "source": [
    "sns.distplot(censo['capital-gain']);"
   ]
  },
  {
   "cell_type": "code",
   "execution_count": 81,
   "id": "c36cdb6e",
   "metadata": {},
   "outputs": [
    {
     "name": "stderr",
     "output_type": "stream",
     "text": [
      "C:\\Users\\Matheus\\anaconda3\\lib\\site-packages\\seaborn\\distributions.py:2619: FutureWarning: `distplot` is a deprecated function and will be removed in a future version. Please adapt your code to use either `displot` (a figure-level function with similar flexibility) or `histplot` (an axes-level function for histograms).\n",
      "  warnings.warn(msg, FutureWarning)\n"
     ]
    },
    {
     "data": {
      "image/png": "[encoded data removed]",
      "text/plain": [
       "<Figure size 432x288 with 1 Axes>"
      ]
     },
     "metadata": {
      "needs_background": "light"
     },
     "output_type": "display_data"
    }
   ],
   "source": [
    "sns.distplot(censo['capital-loos']);"
   ]
  },
  {
   "cell_type": "code",
   "execution_count": 82,
   "id": "3ae0cefd",
   "metadata": {},
   "outputs": [
    {
     "name": "stderr",
     "output_type": "stream",
     "text": [
      "C:\\Users\\Matheus\\anaconda3\\lib\\site-packages\\seaborn\\distributions.py:2619: FutureWarning: `distplot` is a deprecated function and will be removed in a future version. Please adapt your code to use either `displot` (a figure-level function with similar flexibility) or `histplot` (an axes-level function for histograms).\n",
      "  warnings.warn(msg, FutureWarning)\n"
     ]
    },
    {
     "data": {
      "image/png": "[encoded data removed]",
      "text/plain": [
       "<Figure size 432x288 with 1 Axes>"
      ]
     },
     "metadata": {
      "needs_background": "light"
     },
     "output_type": "display_data"
    }
   ],
   "source": [
    "sns.distplot(censo['hour-per-week']);"
   ]
  },
  {
   "cell_type": "code",
   "execution_count": 83,
   "id": "8fa8e415",
   "metadata": {},
   "outputs": [
    {
     "name": "stderr",
     "output_type": "stream",
     "text": [
      "C:\\Users\\Matheus\\anaconda3\\lib\\site-packages\\seaborn\\_decorators.py:36: FutureWarning: Pass the following variable as a keyword arg: x. From version 0.12, the only valid positional argument will be `data`, and passing other arguments without an explicit keyword will result in an error or misinterpretation.\n",
      "  warnings.warn(\n"
     ]
    },
    {
     "data": {
      "text/plain": [
       "<AxesSubplot:xlabel='workclass', ylabel='count'>"
      ]
     },
     "execution_count": 83,
     "metadata": {},
     "output_type": "execute_result"
    },
    {
     "data": {
      "image/png": "[encoded data removed]",
      "text/plain": [
       "<Figure size 432x288 with 1 Axes>"
      ]
     },
     "metadata": {
      "needs_background": "light"
     },
     "output_type": "display_data"
    }
   ],
   "source": [
    "sns.countplot(censo['workclass'])"
   ]
  },
  {
   "cell_type": "code",
   "execution_count": 84,
   "id": "c3ce0108",
   "metadata": {},
   "outputs": [
    {
     "name": "stderr",
     "output_type": "stream",
     "text": [
      "C:\\Users\\Matheus\\anaconda3\\lib\\site-packages\\seaborn\\_decorators.py:36: FutureWarning: Pass the following variable as a keyword arg: x. From version 0.12, the only valid positional argument will be `data`, and passing other arguments without an explicit keyword will result in an error or misinterpretation.\n",
      "  warnings.warn(\n"
     ]
    },
    {
     "data": {
      "text/plain": [
       "<AxesSubplot:xlabel='education', ylabel='count'>"
      ]
     },
     "execution_count": 84,
     "metadata": {},
     "output_type": "execute_result"
    },
    {
     "data": {
      "image/png": "[encoded data removed]",
      "text/plain": [
       "<Figure size 432x288 with 1 Axes>"
      ]
     },
     "metadata": {
      "needs_background": "light"
     },
     "output_type": "display_data"
    }
   ],
   "source": [
    "sns.countplot(censo['education'])"
   ]
  },
  {
   "cell_type": "code",
   "execution_count": 85,
   "id": "8e5904cd",
   "metadata": {},
   "outputs": [
    {
     "name": "stderr",
     "output_type": "stream",
     "text": [
      "C:\\Users\\Matheus\\anaconda3\\lib\\site-packages\\seaborn\\_decorators.py:36: FutureWarning: Pass the following variable as a keyword arg: x. From version 0.12, the only valid positional argument will be `data`, and passing other arguments without an explicit keyword will result in an error or misinterpretation.\n",
      "  warnings.warn(\n"
     ]
    },
    {
     "data": {
      "image/png": "[encoded data removed]",
      "text/plain": [
       "<Figure size 432x288 with 1 Axes>"
      ]
     },
     "metadata": {
      "needs_background": "light"
     },
     "output_type": "display_data"
    }
   ],
   "source": [
    "sns.countplot(censo['marital-status']);"
   ]
  },
  {
   "cell_type": "code",
   "execution_count": 86,
   "id": "7aefd94b",
   "metadata": {},
   "outputs": [
    {
     "name": "stderr",
     "output_type": "stream",
     "text": [
      "C:\\Users\\Matheus\\anaconda3\\lib\\site-packages\\seaborn\\_decorators.py:36: FutureWarning: Pass the following variable as a keyword arg: x. From version 0.12, the only valid positional argument will be `data`, and passing other arguments without an explicit keyword will result in an error or misinterpretation.\n",
      "  warnings.warn(\n"
     ]
    },
    {
     "data": {
      "image/png": "[encoded data removed]",
      "text/plain": [
       "<Figure size 432x288 with 1 Axes>"
      ]
     },
     "metadata": {
      "needs_background": "light"
     },
     "output_type": "display_data"
    }
   ],
   "source": [
    "sns.countplot(censo['occupation']);"
   ]
  },
  {
   "cell_type": "code",
   "execution_count": 87,
   "id": "60f10361",
   "metadata": {},
   "outputs": [
    {
     "name": "stderr",
     "output_type": "stream",
     "text": [
      "C:\\Users\\Matheus\\anaconda3\\lib\\site-packages\\seaborn\\_decorators.py:36: FutureWarning: Pass the following variable as a keyword arg: x. From version 0.12, the only valid positional argument will be `data`, and passing other arguments without an explicit keyword will result in an error or misinterpretation.\n",
      "  warnings.warn(\n"
     ]
    },
    {
     "data": {
      "image/png": "[encoded data removed]",
      "text/plain": [
       "<Figure size 432x288 with 1 Axes>"
      ]
     },
     "metadata": {
      "needs_background": "light"
     },
     "output_type": "display_data"
    }
   ],
   "source": [
    "sns.countplot(censo['relationship']);"
   ]
  },
  {
   "cell_type": "code",
   "execution_count": 88,
   "id": "0c1a37ca",
   "metadata": {},
   "outputs": [
    {
     "name": "stderr",
     "output_type": "stream",
     "text": [
      "C:\\Users\\Matheus\\anaconda3\\lib\\site-packages\\seaborn\\_decorators.py:36: FutureWarning: Pass the following variable as a keyword arg: x. From version 0.12, the only valid positional argument will be `data`, and passing other arguments without an explicit keyword will result in an error or misinterpretation.\n",
      "  warnings.warn(\n"
     ]
    },
    {
     "data": {
      "image/png": "[encoded data removed]",
      "text/plain": [
       "<Figure size 432x288 with 1 Axes>"
      ]
     },
     "metadata": {
      "needs_background": "light"
     },
     "output_type": "display_data"
    }
   ],
   "source": [
    "sns.countplot(censo['race']);"
   ]
  },
  {
   "cell_type": "code",
   "execution_count": 89,
   "id": "91535601",
   "metadata": {},
   "outputs": [
    {
     "name": "stderr",
     "output_type": "stream",
     "text": [
      "C:\\Users\\Matheus\\anaconda3\\lib\\site-packages\\seaborn\\_decorators.py:36: FutureWarning: Pass the following variable as a keyword arg: x. From version 0.12, the only valid positional argument will be `data`, and passing other arguments without an explicit keyword will result in an error or misinterpretation.\n",
      "  warnings.warn(\n"
     ]
    },
    {
     "data": {
      "image/png": "[encoded data removed]",
      "text/plain": [
       "<Figure size 432x288 with 1 Axes>"
      ]
     },
     "metadata": {
      "needs_background": "light"
     },
     "output_type": "display_data"
    }
   ],
   "source": [
    "sns.countplot(censo['sex']);"
   ]
  },
  {
   "cell_type": "code",
   "execution_count": 90,
   "id": "5b924552",
   "metadata": {},
   "outputs": [
    {
     "name": "stderr",
     "output_type": "stream",
     "text": [
      "C:\\Users\\Matheus\\anaconda3\\lib\\site-packages\\seaborn\\_decorators.py:36: FutureWarning: Pass the following variable as a keyword arg: x. From version 0.12, the only valid positional argument will be `data`, and passing other arguments without an explicit keyword will result in an error or misinterpretation.\n",
      "  warnings.warn(\n"
     ]
    },
    {
     "data": {
      "image/png": "[encoded data removed]",
      "text/plain": [
       "<Figure size 432x288 with 1 Axes>"
      ]
     },
     "metadata": {
      "needs_background": "light"
     },
     "output_type": "display_data"
    }
   ],
   "source": [
    "sns.countplot(censo['native-country']);"
   ]
  },
  {
   "cell_type": "code",
   "execution_count": 91,
   "id": "31ec5907",
   "metadata": {},
   "outputs": [
    {
     "name": "stderr",
     "output_type": "stream",
     "text": [
      "C:\\Users\\Matheus\\anaconda3\\lib\\site-packages\\seaborn\\_decorators.py:36: FutureWarning: Pass the following variable as a keyword arg: x. From version 0.12, the only valid positional argument will be `data`, and passing other arguments without an explicit keyword will result in an error or misinterpretation.\n",
      "  warnings.warn(\n"
     ]
    },
    {
     "data": {
      "image/png": "[encoded data removed]",
      "text/plain": [
       "<Figure size 432x288 with 1 Axes>"
      ]
     },
     "metadata": {
      "needs_background": "light"
     },
     "output_type": "display_data"
    }
   ],
   "source": [
    "sns.countplot(censo['income']);"
   ]
  },
  {
   "cell_type": "code",
   "execution_count": 94,
   "id": "ab5a4e2e",
   "metadata": {},
   "outputs": [],
   "source": [
    "# uma variável com duas respostas (0, 1)\n",
    "from sklearn.naive_bayes import BernoulliNB\n",
    "from sklearn.metrics import accuracy_score"
   ]
  },
  {
   "cell_type": "code",
   "execution_count": 95,
   "id": "a9d51a97",
   "metadata": {},
   "outputs": [
    {
     "data": {
      "text/html": [
       "<div>\n",
       "<style scoped>\n",
       "    .dataframe tbody tr th:only-of-type {\n",
       "        vertical-align: middle;\n",
       "    }\n",
       "\n",
       "    .dataframe tbody tr th {\n",
       "        vertical-align: top;\n",
       "    }\n",
       "\n",
       "    .dataframe thead th {\n",
       "        text-align: right;\n",
       "    }\n",
       "</style>\n",
       "<table border=\"1\" class=\"dataframe\">\n",
       "  <thead>\n",
       "    <tr style=\"text-align: right;\">\n",
       "      <th></th>\n",
       "      <th>age</th>\n",
       "      <th>workclass</th>\n",
       "      <th>final-weight</th>\n",
       "      <th>education</th>\n",
       "      <th>education-num</th>\n",
       "      <th>marital-status</th>\n",
       "      <th>occupation</th>\n",
       "      <th>relationship</th>\n",
       "      <th>race</th>\n",
       "      <th>sex</th>\n",
       "      <th>capital-gain</th>\n",
       "      <th>capital-loos</th>\n",
       "      <th>hour-per-week</th>\n",
       "      <th>native-country</th>\n",
       "      <th>income</th>\n",
       "    </tr>\n",
       "  </thead>\n",
       "  <tbody>\n",
       "    <tr>\n",
       "      <th>0</th>\n",
       "      <td>39</td>\n",
       "      <td>State-gov</td>\n",
       "      <td>77516</td>\n",
       "      <td>Bachelors</td>\n",
       "      <td>13</td>\n",
       "      <td>Never-married</td>\n",
       "      <td>Adm-clerical</td>\n",
       "      <td>Not-in-family</td>\n",
       "      <td>White</td>\n",
       "      <td>Male</td>\n",
       "      <td>2174</td>\n",
       "      <td>0</td>\n",
       "      <td>40</td>\n",
       "      <td>United-States</td>\n",
       "      <td>&lt;=50K</td>\n",
       "    </tr>\n",
       "    <tr>\n",
       "      <th>1</th>\n",
       "      <td>50</td>\n",
       "      <td>Self-emp-not-inc</td>\n",
       "      <td>83311</td>\n",
       "      <td>Bachelors</td>\n",
       "      <td>13</td>\n",
       "      <td>Married-civ-spouse</td>\n",
       "      <td>Exec-managerial</td>\n",
       "      <td>Husband</td>\n",
       "      <td>White</td>\n",
       "      <td>Male</td>\n",
       "      <td>0</td>\n",
       "      <td>0</td>\n",
       "      <td>13</td>\n",
       "      <td>United-States</td>\n",
       "      <td>&lt;=50K</td>\n",
       "    </tr>\n",
       "    <tr>\n",
       "      <th>2</th>\n",
       "      <td>38</td>\n",
       "      <td>Private</td>\n",
       "      <td>215646</td>\n",
       "      <td>HS-grad</td>\n",
       "      <td>9</td>\n",
       "      <td>Divorced</td>\n",
       "      <td>Handlers-cleaners</td>\n",
       "      <td>Not-in-family</td>\n",
       "      <td>White</td>\n",
       "      <td>Male</td>\n",
       "      <td>0</td>\n",
       "      <td>0</td>\n",
       "      <td>40</td>\n",
       "      <td>United-States</td>\n",
       "      <td>&lt;=50K</td>\n",
       "    </tr>\n",
       "    <tr>\n",
       "      <th>3</th>\n",
       "      <td>53</td>\n",
       "      <td>Private</td>\n",
       "      <td>234721</td>\n",
       "      <td>11th</td>\n",
       "      <td>7</td>\n",
       "      <td>Married-civ-spouse</td>\n",
       "      <td>Handlers-cleaners</td>\n",
       "      <td>Husband</td>\n",
       "      <td>Black</td>\n",
       "      <td>Male</td>\n",
       "      <td>0</td>\n",
       "      <td>0</td>\n",
       "      <td>40</td>\n",
       "      <td>United-States</td>\n",
       "      <td>&lt;=50K</td>\n",
       "    </tr>\n",
       "    <tr>\n",
       "      <th>4</th>\n",
       "      <td>28</td>\n",
       "      <td>Private</td>\n",
       "      <td>338409</td>\n",
       "      <td>Bachelors</td>\n",
       "      <td>13</td>\n",
       "      <td>Married-civ-spouse</td>\n",
       "      <td>Prof-specialty</td>\n",
       "      <td>Wife</td>\n",
       "      <td>Black</td>\n",
       "      <td>Female</td>\n",
       "      <td>0</td>\n",
       "      <td>0</td>\n",
       "      <td>40</td>\n",
       "      <td>Cuba</td>\n",
       "      <td>&lt;=50K</td>\n",
       "    </tr>\n",
       "  </tbody>\n",
       "</table>\n",
       "</div>"
      ],
      "text/plain": [
       "   age          workclass  final-weight   education  education-num  \\\n",
       "0   39          State-gov         77516   Bachelors             13   \n",
       "1   50   Self-emp-not-inc         83311   Bachelors             13   \n",
       "2   38            Private        215646     HS-grad              9   \n",
       "3   53            Private        234721        11th              7   \n",
       "4   28            Private        338409   Bachelors             13   \n",
       "\n",
       "        marital-status          occupation    relationship    race      sex  \\\n",
       "0        Never-married        Adm-clerical   Not-in-family   White     Male   \n",
       "1   Married-civ-spouse     Exec-managerial         Husband   White     Male   \n",
       "2             Divorced   Handlers-cleaners   Not-in-family   White     Male   \n",
       "3   Married-civ-spouse   Handlers-cleaners         Husband   Black     Male   \n",
       "4   Married-civ-spouse      Prof-specialty            Wife   Black   Female   \n",
       "\n",
       "   capital-gain  capital-loos  hour-per-week  native-country  income  \n",
       "0          2174             0             40   United-States   <=50K  \n",
       "1             0             0             13   United-States   <=50K  \n",
       "2             0             0             40   United-States   <=50K  \n",
       "3             0             0             40   United-States   <=50K  \n",
       "4             0             0             40            Cuba   <=50K  "
      ]
     },
     "execution_count": 95,
     "metadata": {},
     "output_type": "execute_result"
    }
   ],
   "source": [
    "censo.head()"
   ]
  },
  {
   "cell_type": "code",
   "execution_count": 96,
   "id": "87dd83f1",
   "metadata": {},
   "outputs": [
    {
     "data": {
      "text/plain": [
       "array([' Male', ' Female'], dtype=object)"
      ]
     },
     "execution_count": 96,
     "metadata": {},
     "output_type": "execute_result"
    }
   ],
   "source": [
    "censo['sex'].unique()"
   ]
  },
  {
   "cell_type": "code",
   "execution_count": 97,
   "id": "f80cdc40",
   "metadata": {},
   "outputs": [
    {
     "data": {
      "text/plain": [
       "array([' Male', ' Male', ' Male', ..., ' Female', ' Male', ' Female'],\n",
       "      dtype=object)"
      ]
     },
     "execution_count": 97,
     "metadata": {},
     "output_type": "execute_result"
    }
   ],
   "source": [
    "# dados categóricos\n",
    "X = censo['sex'].values\n",
    "X"
   ]
  },
  {
   "cell_type": "code",
   "execution_count": 98,
   "id": "e4accd8e",
   "metadata": {},
   "outputs": [],
   "source": [
    "# transforamdno para dados discretos\n",
    "\n",
    "from sklearn.preprocessing import LabelEncoder\n",
    "label_enconder = LabelEncoder()\n",
    "X = label_enconder.fit_transform(X)"
   ]
  },
  {
   "cell_type": "code",
   "execution_count": 100,
   "id": "679cebe2",
   "metadata": {},
   "outputs": [
    {
     "data": {
      "text/plain": [
       "(array([1, 1, 1, ..., 0, 1, 0]), array([0, 1]))"
      ]
     },
     "execution_count": 100,
     "metadata": {},
     "output_type": "execute_result"
    }
   ],
   "source": [
    "X, np.unique(X)"
   ]
  },
  {
   "cell_type": "code",
   "execution_count": 102,
   "id": "a5d00348",
   "metadata": {},
   "outputs": [
    {
     "name": "stderr",
     "output_type": "stream",
     "text": [
      "C:\\Users\\Matheus\\anaconda3\\lib\\site-packages\\seaborn\\distributions.py:2619: FutureWarning: `distplot` is a deprecated function and will be removed in a future version. Please adapt your code to use either `displot` (a figure-level function with similar flexibility) or `histplot` (an axes-level function for histograms).\n",
      "  warnings.warn(msg, FutureWarning)\n"
     ]
    },
    {
     "data": {
      "text/plain": [
       "<AxesSubplot:>"
      ]
     },
     "execution_count": 102,
     "metadata": {},
     "output_type": "execute_result"
    },
    {
     "data": {
      "image/png": "[encoded data removed]",
      "text/plain": [
       "<Figure size 432x288 with 1 Axes>"
      ]
     },
     "metadata": {
      "needs_background": "light"
     },
     "output_type": "display_data"
    }
   ],
   "source": [
    "sns.distplot(X, kde = False)"
   ]
  },
  {
   "cell_type": "code",
   "execution_count": 104,
   "id": "a7ac2184",
   "metadata": {},
   "outputs": [
    {
     "data": {
      "text/plain": [
       "(32561,)"
      ]
     },
     "execution_count": 104,
     "metadata": {},
     "output_type": "execute_result"
    }
   ],
   "source": [
    "X.shape"
   ]
  },
  {
   "cell_type": "code",
   "execution_count": 106,
   "id": "8bf74dba",
   "metadata": {},
   "outputs": [
    {
     "data": {
      "text/plain": [
       "array([[1],\n",
       "       [1],\n",
       "       [1],\n",
       "       ...,\n",
       "       [0],\n",
       "       [1],\n",
       "       [0]])"
      ]
     },
     "execution_count": 106,
     "metadata": {},
     "output_type": "execute_result"
    }
   ],
   "source": [
    "# convertendo para matrix\n",
    "\n",
    "X = X.reshape(-1, 1)\n",
    "X"
   ]
  },
  {
   "cell_type": "code",
   "execution_count": 107,
   "id": "ed23cbd6",
   "metadata": {},
   "outputs": [
    {
     "data": {
      "text/plain": [
       "array([' <=50K', ' <=50K', ' <=50K', ..., ' <=50K', ' <=50K', ' >50K'],\n",
       "      dtype=object)"
      ]
     },
     "execution_count": 107,
     "metadata": {},
     "output_type": "execute_result"
    }
   ],
   "source": [
    "y = censo['income'].values\n",
    "y"
   ]
  },
  {
   "cell_type": "code",
   "execution_count": 108,
   "id": "8d5fc37a",
   "metadata": {},
   "outputs": [
    {
     "data": {
      "text/html": [
       "<style>#sk-container-id-1 {color: black;background-color: white;}#sk-container-id-1 pre{padding: 0;}#sk-container-id-1 div.sk-toggleable {background-color: white;}#sk-container-id-1 label.sk-toggleable__label {cursor: pointer;display: block;width: 100%;margin-bottom: 0;padding: 0.3em;box-sizing: border-box;text-align: center;}#sk-container-id-1 label.sk-toggleable__label-arrow:before {content: \"▸\";float: left;margin-right: 0.25em;color: #696969;}#sk-container-id-1 label.sk-toggleable__label-arrow:hover:before {color: black;}#sk-container-id-1 div.sk-estimator:hover label.sk-toggleable__label-arrow:before {color: black;}#sk-container-id-1 div.sk-toggleable__content {max-height: 0;max-width: 0;overflow: hidden;text-align: left;background-color: #f0f8ff;}#sk-container-id-1 div.sk-toggleable__content pre {margin: 0.2em;color: black;border-radius: 0.25em;background-color: #f0f8ff;}#sk-container-id-1 input.sk-toggleable__control:checked~div.sk-toggleable__content {max-height: 200px;max-width: 100%;overflow: auto;}#sk-container-id-1 input.sk-toggleable__control:checked~label.sk-toggleable__label-arrow:before {content: \"▾\";}#sk-container-id-1 div.sk-estimator input.sk-toggleable__control:checked~label.sk-toggleable__label {background-color: #d4ebff;}#sk-container-id-1 div.sk-label input.sk-toggleable__control:checked~label.sk-toggleable__label {background-color: #d4ebff;}#sk-container-id-1 input.sk-hidden--visually {border: 0;clip: rect(1px 1px 1px 1px);clip: rect(1px, 1px, 1px, 1px);height: 1px;margin: -1px;overflow: hidden;padding: 0;position: absolute;width: 1px;}#sk-container-id-1 div.sk-estimator {font-family: monospace;background-color: #f0f8ff;border: 1px dotted black;border-radius: 0.25em;box-sizing: border-box;margin-bottom: 0.5em;}#sk-container-id-1 div.sk-estimator:hover {background-color: #d4ebff;}#sk-container-id-1 div.sk-parallel-item::after {content: \"\";width: 100%;border-bottom: 1px solid gray;flex-grow: 1;}#sk-container-id-1 div.sk-label:hover label.sk-toggleable__label {background-color: #d4ebff;}#sk-container-id-1 div.sk-serial::before {content: \"\";position: absolute;border-left: 1px solid gray;box-sizing: border-box;top: 0;bottom: 0;left: 50%;z-index: 0;}#sk-container-id-1 div.sk-serial {display: flex;flex-direction: column;align-items: center;background-color: white;padding-right: 0.2em;padding-left: 0.2em;position: relative;}#sk-container-id-1 div.sk-item {position: relative;z-index: 1;}#sk-container-id-1 div.sk-parallel {display: flex;align-items: stretch;justify-content: center;background-color: white;position: relative;}#sk-container-id-1 div.sk-item::before, #sk-container-id-1 div.sk-parallel-item::before {content: \"\";position: absolute;border-left: 1px solid gray;box-sizing: border-box;top: 0;bottom: 0;left: 50%;z-index: -1;}#sk-container-id-1 div.sk-parallel-item {display: flex;flex-direction: column;z-index: 1;position: relative;background-color: white;}#sk-container-id-1 div.sk-parallel-item:first-child::after {align-self: flex-end;width: 50%;}#sk-container-id-1 div.sk-parallel-item:last-child::after {align-self: flex-start;width: 50%;}#sk-container-id-1 div.sk-parallel-item:only-child::after {width: 0;}#sk-container-id-1 div.sk-dashed-wrapped {border: 1px dashed gray;margin: 0 0.4em 0.5em 0.4em;box-sizing: border-box;padding-bottom: 0.4em;background-color: white;}#sk-container-id-1 div.sk-label label {font-family: monospace;font-weight: bold;display: inline-block;line-height: 1.2em;}#sk-container-id-1 div.sk-label-container {text-align: center;}#sk-container-id-1 div.sk-container {/* jupyter's `normalize.less` sets `[hidden] { display: none; }` but bootstrap.min.css set `[hidden] { display: none !important; }` so we also need the `!important` here to be able to override the default hidden behavior on the sphinx rendered scikit-learn.org. See: https://github.com/scikit-learn/scikit-learn/issues/21755 */display: inline-block !important;position: relative;}#sk-container-id-1 div.sk-text-repr-fallback {display: none;}</style><div id=\"sk-container-id-1\" class=\"sk-top-container\"><div class=\"sk-text-repr-fallback\"><pre>BernoulliNB()</pre><b>In a Jupyter environment, please rerun this cell to show the HTML representation or trust the notebook. <br />On GitHub, the HTML representation is unable to render, please try loading this page with nbviewer.org.</b></div><div class=\"sk-container\" hidden><div class=\"sk-item\"><div class=\"sk-estimator sk-toggleable\"><input class=\"sk-toggleable__control sk-hidden--visually\" id=\"sk-estimator-id-1\" type=\"checkbox\" checked><label for=\"sk-estimator-id-1\" class=\"sk-toggleable__label sk-toggleable__label-arrow\">BernoulliNB</label><div class=\"sk-toggleable__content\"><pre>BernoulliNB()</pre></div></div></div></div></div>"
      ],
      "text/plain": [
       "BernoulliNB()"
      ]
     },
     "execution_count": 108,
     "metadata": {},
     "output_type": "execute_result"
    }
   ],
   "source": [
    "bernoulli_naive_bayes = BernoulliNB()\n",
    "bernoulli_naive_bayes.fit(X, y)"
   ]
  },
  {
   "cell_type": "code",
   "execution_count": 109,
   "id": "7cb16ffe",
   "metadata": {},
   "outputs": [],
   "source": [
    "previsoes = bernoulli_naive_bayes.predict(X)"
   ]
  },
  {
   "cell_type": "code",
   "execution_count": 111,
   "id": "ac3a99cf",
   "metadata": {},
   "outputs": [
    {
     "data": {
      "text/plain": [
       "(array([' <=50K', ' <=50K', ' <=50K', ..., ' <=50K', ' <=50K', ' <=50K'],\n",
       "       dtype='<U6'),\n",
       " array([' <=50K', ' <=50K', ' <=50K', ..., ' <=50K', ' <=50K', ' >50K'],\n",
       "       dtype=object))"
      ]
     },
     "execution_count": 111,
     "metadata": {},
     "output_type": "execute_result"
    }
   ],
   "source": [
    "# comparando as previsões com os dados reais\n",
    "previsoes, y"
   ]
  },
  {
   "cell_type": "code",
   "execution_count": null,
   "id": "d38f5593",
   "metadata": {},
   "outputs": [],
   "source": []
  },
  {
   "cell_type": "code",
   "execution_count": null,
   "id": "0335e025",
   "metadata": {},
   "outputs": [],
   "source": []
  },
  {
   "cell_type": "code",
   "execution_count": null,
   "id": "5920ccb8",
   "metadata": {},
   "outputs": [],
   "source": []
  },
  {
   "cell_type": "code",
   "execution_count": null,
   "id": "2ba7d37d",
   "metadata": {},
   "outputs": [],
   "source": []
  },
  {
   "cell_type": "code",
   "execution_count": null,
   "id": "ca5b4712",
   "metadata": {},
   "outputs": [],
   "source": []
  }
 ],
 "metadata": {
  "kernelspec": {
   "display_name": "Python 3 (ipykernel)",
   "language": "python",
   "name": "python3"
  },
  "language_info": {
   "codemirror_mode": {
    "name": "ipython",
    "version": 3
   },
   "file_extension": ".py",
   "mimetype": "text/x-python",
   "name": "python",
   "nbconvert_exporter": "python",
   "pygments_lexer": "ipython3",
   "version": "3.9.12"
  }
 },
 "nbformat": 4,
 "nbformat_minor": 5
}
