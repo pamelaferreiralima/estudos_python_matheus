{
 "cells": [
  {
   "cell_type": "markdown",
   "metadata": {},
   "source": [
    "## Estudo Numpy"
   ]
  },
  {
   "cell_type": "code",
   "execution_count": null,
   "metadata": {},
   "outputs": [],
   "source": [
    "import numpy as np"
   ]
  },
  {
   "cell_type": "code",
   "execution_count": null,
   "metadata": {},
   "outputs": [],
   "source": [
    "# Apresentam objetos N-dimensional\n",
    "\n",
    "data = np.random.randn(2 ,3)\n",
    "data"
   ]
  },
  {
   "cell_type": "code",
   "execution_count": null,
   "metadata": {},
   "outputs": [],
   "source": [
    "data * 10 # todos os elementos são multiplicados por 10"
   ]
  },
  {
   "cell_type": "code",
   "execution_count": null,
   "metadata": {},
   "outputs": [],
   "source": [
    "data + data # neste segundo exemplo, os elementos correspondentes são somados"
   ]
  },
  {
   "cell_type": "markdown",
   "metadata": {},
   "source": [
    "# O que são ndarrays? "
   ]
  },
  {
   "cell_type": "markdown",
   "metadata": {},
   "source": [
    "- Ndarrays são contêiners genéricos multidimensionais para dados homogêneos; \n",
    "- Isso significa que todos os elementos devem ser do mesmo tipo."
   ]
  },
  {
   "cell_type": "code",
   "execution_count": null,
   "metadata": {},
   "outputs": [],
   "source": [
    "# podemos verificar o shape do array\n",
    "\n",
    "data.shape # uma tupla que indica o tamanho de cada dimensão \n",
    "# 2 linhas 3 colunas"
   ]
  },
  {
   "cell_type": "code",
   "execution_count": null,
   "metadata": {},
   "outputs": [],
   "source": [
    "# podemos verificar o tipo do dado\n",
    "\n",
    "data.dtype # um objeto que informa o tipo do dado"
   ]
  },
  {
   "cell_type": "markdown",
   "metadata": {},
   "source": [
    "#### Criando ndarrys"
   ]
  },
  {
   "cell_type": "code",
   "execution_count": null,
   "metadata": {},
   "outputs": [],
   "source": [
    "# podemos converter uma lista em um array, com a função array()\n",
    "\n",
    "dia = [2, 5, 10, 15, 31]\n",
    "\n",
    "arr1 = np.array(dia)\n",
    "arr1\n",
    "\n",
    "# array([ 2,  5, 10, 15, 31])"
   ]
  },
  {
   "cell_type": "code",
   "execution_count": null,
   "metadata": {},
   "outputs": [],
   "source": [
    "# uma lista de lista será convertida em um array multidimensional\n",
    "\n",
    "semana = [['segunda', 'terça', 'quarta', 'quinta', 'sexta', 'sábado', 'domingo'], [1, 2, 3, 4, 5, 6, 7]]\n",
    "\n",
    "arr2 = np.array(semana)\n",
    "arr2"
   ]
  },
  {
   "cell_type": "code",
   "execution_count": null,
   "metadata": {},
   "outputs": [],
   "source": [
    "arr2.dtype\n",
    "arr2.shape"
   ]
  },
  {
   "cell_type": "code",
   "execution_count": null,
   "metadata": {},
   "outputs": [],
   "source": [
    "dias = [[1, 2, 3, 4], [5, 6, 7, 8], [9, 10, 11, 12]] # lista de listas\n",
    "dias = np.array(dias) # convertendo a lista em array\n",
    "dias # array (multidimensional, 3 linhas com 4 colunas)"
   ]
  },
  {
   "cell_type": "code",
   "execution_count": null,
   "metadata": {},
   "outputs": [],
   "source": [
    "dias.shape"
   ]
  },
  {
   "cell_type": "code",
   "execution_count": null,
   "metadata": {},
   "outputs": [],
   "source": [
    "dias.dtype"
   ]
  },
  {
   "cell_type": "code",
   "execution_count": null,
   "metadata": {},
   "outputs": [],
   "source": [
    "# Podemos criar arrays com valores embutidos\n",
    "\n",
    "np.zeros(5)"
   ]
  },
  {
   "cell_type": "code",
   "execution_count": null,
   "metadata": {},
   "outputs": [],
   "source": [
    "np.zeros((5,5))"
   ]
  },
  {
   "cell_type": "code",
   "execution_count": null,
   "metadata": {},
   "outputs": [],
   "source": [
    "np.ones(12)"
   ]
  },
  {
   "cell_type": "code",
   "execution_count": null,
   "metadata": {},
   "outputs": [],
   "source": [
    "np.ones((6, 6))"
   ]
  },
  {
   "cell_type": "code",
   "execution_count": null,
   "metadata": {},
   "outputs": [],
   "source": [
    "np.empty((2, 3, 2))"
   ]
  },
  {
   "cell_type": "code",
   "execution_count": null,
   "metadata": {},
   "outputs": [],
   "source": [
    "# Função arange()\n",
    "\n",
    "np.arange(10)"
   ]
  },
  {
   "cell_type": "code",
   "execution_count": null,
   "metadata": {},
   "outputs": [],
   "source": [
    "np.eye(5)"
   ]
  },
  {
   "cell_type": "markdown",
   "metadata": {},
   "source": [
    "### Tipos de Dados para ndarray"
   ]
  },
  {
   "cell_type": "code",
   "execution_count": null,
   "metadata": {},
   "outputs": [],
   "source": [
    "arr = np.array([1, 2, 3], dtype=np.float64)\n",
    "arr"
   ]
  },
  {
   "cell_type": "code",
   "execution_count": null,
   "metadata": {},
   "outputs": [],
   "source": [
    "arr = np.array([1, 2, 3], dtype=np.int32)\n",
    "arr"
   ]
  },
  {
   "cell_type": "code",
   "execution_count": null,
   "metadata": {},
   "outputs": [],
   "source": [
    "# fazendo cast com array\n",
    "\n",
    "arr = np.array([2, 6, 8], dtype=np.int32)\n",
    "\n",
    "float_arr = arr.astype(np.float64)\n",
    "float_arr"
   ]
  },
  {
   "cell_type": "code",
   "execution_count": null,
   "metadata": {},
   "outputs": [],
   "source": [
    "arr.dtype"
   ]
  },
  {
   "cell_type": "code",
   "execution_count": null,
   "metadata": {},
   "outputs": [],
   "source": [
    "float_arr.dtype"
   ]
  },
  {
   "cell_type": "code",
   "execution_count": null,
   "metadata": {},
   "outputs": [],
   "source": [
    "# podemos converter uma string que representem números para o formato numérico\n",
    "\n",
    "numeric_string = np.array(['12', '26', '32', '64'])\n",
    "numeric_string.astype(int)\n",
    "numeric_string"
   ]
  },
  {
   "cell_type": "code",
   "execution_count": null,
   "metadata": {},
   "outputs": [],
   "source": [
    "# ouuu\n",
    "arr_numeric = np.array(numeric_string, dtype=np.string_)\n",
    "arr_numeric"
   ]
  },
  {
   "cell_type": "markdown",
   "metadata": {},
   "source": [
    "### Aritmética com arrays Numpy\n",
    "#### Permitem expressar operações em lote nos dados; Qualquer operação aritmética entre arrays de mesmo tamanho faz a operação ser aplicada em todos os elementos"
   ]
  },
  {
   "cell_type": "code",
   "execution_count": null,
   "metadata": {},
   "outputs": [],
   "source": [
    "arr3 = np.array([[1., 2., 3.,], [4., 5., 6.]])"
   ]
  },
  {
   "cell_type": "code",
   "execution_count": null,
   "metadata": {},
   "outputs": [],
   "source": [
    "arr3"
   ]
  },
  {
   "cell_type": "code",
   "execution_count": null,
   "metadata": {},
   "outputs": [],
   "source": [
    "arr3 * 2"
   ]
  },
  {
   "cell_type": "code",
   "execution_count": null,
   "metadata": {},
   "outputs": [],
   "source": [
    "arr3 / 2"
   ]
  },
  {
   "cell_type": "code",
   "execution_count": null,
   "metadata": {},
   "outputs": [],
   "source": [
    "arr3 + arr3"
   ]
  },
  {
   "cell_type": "code",
   "execution_count": null,
   "metadata": {},
   "outputs": [],
   "source": [
    "arr3 - arr3"
   ]
  },
  {
   "cell_type": "code",
   "execution_count": null,
   "metadata": {},
   "outputs": [],
   "source": [
    "arr3 ** 2"
   ]
  },
  {
   "cell_type": "code",
   "execution_count": null,
   "metadata": {},
   "outputs": [],
   "source": [
    "arr3 > 4.5"
   ]
  },
  {
   "cell_type": "code",
   "execution_count": null,
   "metadata": {},
   "outputs": [],
   "source": [
    "arr3 < 1.0"
   ]
  },
  {
   "cell_type": "markdown",
   "metadata": {},
   "source": [
    "##### Ao utilizarmos os operadores no array. A operação é aplicada a todos os elementos do array. Possibilitando as operações em lotes, sem a necessidade do uso do for"
   ]
  },
  {
   "cell_type": "markdown",
   "metadata": {},
   "source": [
    "### Indexação básica e fatiamento"
   ]
  },
  {
   "cell_type": "code",
   "execution_count": null,
   "metadata": {},
   "outputs": [],
   "source": [
    "import numpy as np"
   ]
  },
  {
   "cell_type": "code",
   "execution_count": null,
   "metadata": {},
   "outputs": [],
   "source": [
    "### se comportam semelhantes a lista no Python\n",
    "\n",
    "arr_fat = np.arange(10)\n",
    "arr_fat"
   ]
  },
  {
   "cell_type": "code",
   "execution_count": null,
   "metadata": {},
   "outputs": [],
   "source": [
    "arr_fat[5] # retorna 5\n",
    "arr_fat[8] # retorna 8"
   ]
  },
  {
   "cell_type": "code",
   "execution_count": null,
   "metadata": {},
   "outputs": [],
   "source": [
    "arr_fat[3:8]"
   ]
  },
  {
   "cell_type": "code",
   "execution_count": null,
   "metadata": {},
   "outputs": [],
   "source": [
    "arr_fat[5] = 12\n",
    "arr_fat"
   ]
  },
  {
   "cell_type": "code",
   "execution_count": null,
   "metadata": {},
   "outputs": [],
   "source": [
    "arr_fat[6:9] = 3.5\n",
    "# valor sofrendo broadcast dentro desse 'fatiamento' do array\n",
    "arr_fat"
   ]
  },
  {
   "cell_type": "markdown",
   "metadata": {},
   "source": [
    "#### Uma observação importante é a diferença entre os arrays das listas do Python. Os arrays não são copiados, e qualquer modificação na visualização se refletirá no array original"
   ]
  },
  {
   "cell_type": "code",
   "execution_count": null,
   "metadata": {},
   "outputs": [],
   "source": [
    "arr_slice = arr_fat[6:9] # array([3, 3, 3])\n",
    "arr_slice"
   ]
  },
  {
   "cell_type": "code",
   "execution_count": null,
   "metadata": {},
   "outputs": [],
   "source": [
    "arr_slice[1] = 1245\n",
    "# Portanto qualquer modificação se reflete no array_fat (original)\n",
    "arr_fat"
   ]
  },
  {
   "cell_type": "code",
   "execution_count": null,
   "metadata": {},
   "outputs": [],
   "source": [
    "# Para podermos copiar uma fatia (ou um array) precisamos copiar explicitamente tal array\n",
    "\n",
    "arr_fat[1:5].copy()"
   ]
  },
  {
   "cell_type": "code",
   "execution_count": null,
   "metadata": {},
   "outputs": [],
   "source": [
    "arr2d = np.array([[1,2,3], [4,5,6], [7,8,9]])\n",
    "arr2_1d = np.array([[[1,2,3], [4,5,6]], [[7,8,9],[10,11,12]]])"
   ]
  },
  {
   "cell_type": "code",
   "execution_count": null,
   "metadata": {},
   "outputs": [],
   "source": [
    "arr2d[2]"
   ]
  },
  {
   "cell_type": "code",
   "execution_count": null,
   "metadata": {},
   "outputs": [],
   "source": [
    "# Muito parecido com listas, os arrays podem ter seus valores acessados individualmente\n",
    "\n",
    "arr2d[1][2] # out : 6\n",
    "arr2d[0][1] # out: 2\n",
    "\n",
    "# Ou podemos passar uma lista com os indices separados por vírgula\n",
    "\n",
    "arr2d[0,2] # out : 3"
   ]
  },
  {
   "cell_type": "code",
   "execution_count": null,
   "metadata": {},
   "outputs": [],
   "source": [
    "arr3d = arr2_1d.copy()\n",
    "arr3d[0]"
   ]
  },
  {
   "cell_type": "code",
   "execution_count": null,
   "metadata": {},
   "outputs": [],
   "source": [
    "arr2d[:2]\n",
    "\n",
    "# Seleciona um intervalo de elementos ao longo de um eixo."
   ]
  },
  {
   "cell_type": "code",
   "execution_count": null,
   "metadata": {},
   "outputs": [],
   "source": [
    "arr2d[:2, 1:] # seleciona apenas as duas primeiras linhas a partir da coluna de indice 1"
   ]
  },
  {
   "cell_type": "code",
   "execution_count": null,
   "metadata": {},
   "outputs": [],
   "source": [
    "# selecione apenas a segunda linha (a de indice 1 ) porém as duas primeiras colunas (0:1)\n",
    "arr2d[1, :2]"
   ]
  },
  {
   "cell_type": "code",
   "execution_count": null,
   "metadata": {},
   "outputs": [],
   "source": [
    "# Semelhantemente, podemos selecionar a terceira coluna (indice 2), mas somente as duas primeiras linhas\n",
    "arr2d[:2, 2]"
   ]
  },
  {
   "cell_type": "code",
   "execution_count": null,
   "metadata": {},
   "outputs": [],
   "source": [
    "arr2d[:, :1] # tras os valores da primeira coluna"
   ]
  },
  {
   "cell_type": "code",
   "execution_count": null,
   "metadata": {},
   "outputs": [],
   "source": [
    "arr2d[:1, :] # trás todos os valores da primeira linha"
   ]
  },
  {
   "cell_type": "code",
   "execution_count": null,
   "metadata": {},
   "outputs": [],
   "source": [
    "arr2d[:, 2:] # trás apenas os valores da coluna 2 \n",
    "arr2d[:, :2] # trás os valores das colunas 1 e 2 "
   ]
  },
  {
   "cell_type": "markdown",
   "metadata": {},
   "source": [
    "### Indexação Booleana\n"
   ]
  },
  {
   "cell_type": "code",
   "execution_count": null,
   "metadata": {},
   "outputs": [],
   "source": [
    "names = np.array(['Bob', 'Joe', 'Will', 'Bob', 'Will', 'Joe', 'Joe'])\n",
    "data = np.random.randn(7,4) # 7 linhas e 4 colunas"
   ]
  },
  {
   "cell_type": "code",
   "execution_count": null,
   "metadata": {},
   "outputs": [],
   "source": [
    "names"
   ]
  },
  {
   "cell_type": "code",
   "execution_count": null,
   "metadata": {},
   "outputs": [],
   "source": [
    "data"
   ]
  },
  {
   "cell_type": "code",
   "execution_count": null,
   "metadata": {},
   "outputs": [],
   "source": [
    "names == 'Bob'"
   ]
  },
  {
   "cell_type": "code",
   "execution_count": null,
   "metadata": {},
   "outputs": [],
   "source": [
    "data[names == 'Bob', 3]"
   ]
  },
  {
   "cell_type": "code",
   "execution_count": null,
   "metadata": {},
   "outputs": [],
   "source": [
    "names != 'Bob'"
   ]
  },
  {
   "cell_type": "code",
   "execution_count": null,
   "metadata": {},
   "outputs": [],
   "source": [
    "data[~(names == 'Bob')]"
   ]
  },
  {
   "cell_type": "code",
   "execution_count": null,
   "metadata": {},
   "outputs": [],
   "source": [
    "cond = names == 'Bob'"
   ]
  },
  {
   "cell_type": "code",
   "execution_count": null,
   "metadata": {},
   "outputs": [],
   "source": [
    "data[~cond]"
   ]
  },
  {
   "cell_type": "code",
   "execution_count": null,
   "metadata": {},
   "outputs": [],
   "source": [
    "mask = (names == 'Bob') | (names == \"Will\")\n",
    "mask"
   ]
  },
  {
   "cell_type": "code",
   "execution_count": null,
   "metadata": {},
   "outputs": [],
   "source": [
    "data[mask]"
   ]
  },
  {
   "cell_type": "code",
   "execution_count": null,
   "metadata": {},
   "outputs": [],
   "source": [
    "data[data < 0] = 0"
   ]
  },
  {
   "cell_type": "markdown",
   "metadata": {},
   "source": [
    "### Indexação Sofisticada\n",
    "- Usado para descrever arrays de inteiros"
   ]
  },
  {
   "cell_type": "code",
   "execution_count": 1,
   "metadata": {},
   "outputs": [],
   "source": [
    "import numpy as np"
   ]
  },
  {
   "cell_type": "code",
   "execution_count": 2,
   "metadata": {},
   "outputs": [
    {
     "data": {
      "text/plain": [
       "array([[1.10272844e-311, 1.04247851e-321, 0.00000000e+000,\n",
       "        0.00000000e+000],\n",
       "       [7.56599806e-307, 5.02034658e+175, 1.93507817e+184,\n",
       "        8.23570173e-071],\n",
       "       [6.17042905e-062, 7.79334327e-043, 4.25774017e-096,\n",
       "        1.12855837e+277],\n",
       "       [3.51843964e+180, 2.58444203e+185, 7.50189709e+247,\n",
       "        5.04621343e+180],\n",
       "       [1.94918963e-153, 7.69165785e+218, 7.49874301e+247,\n",
       "        2.59903827e-144],\n",
       "       [9.20524925e+169, 1.21045711e+161, 3.14127220e+179,\n",
       "        2.48819175e+180],\n",
       "       [5.28555805e+180, 6.74640243e-067, 4.57664486e-071,\n",
       "        4.86371569e-086],\n",
       "       [3.35959162e-143, 9.30350598e+199, 4.24941018e-086,\n",
       "        1.04018247e-314]])"
      ]
     },
     "execution_count": 2,
     "metadata": {},
     "output_type": "execute_result"
    }
   ],
   "source": [
    "arr4 = np.empty((8,4))\n",
    "arr4"
   ]
  },
  {
   "cell_type": "code",
   "execution_count": 3,
   "metadata": {},
   "outputs": [
    {
     "data": {
      "text/plain": [
       "array([[0., 0., 0., 0.],\n",
       "       [1., 1., 1., 1.],\n",
       "       [2., 2., 2., 2.],\n",
       "       [3., 3., 3., 3.],\n",
       "       [4., 4., 4., 4.],\n",
       "       [5., 5., 5., 5.],\n",
       "       [6., 6., 6., 6.],\n",
       "       [7., 7., 7., 7.]])"
      ]
     },
     "execution_count": 3,
     "metadata": {},
     "output_type": "execute_result"
    }
   ],
   "source": [
    "for i in range(8):\n",
    "    arr4[i] = i\n",
    "arr4"
   ]
  },
  {
   "cell_type": "markdown",
   "metadata": {},
   "source": [
    "#### Para *selecionarmos* um subconjunto das linhas em uma ordem em particular, podemos simplesmente passar uma lista ou um ndarray de inteiros especificando a ordem desejada."
   ]
  },
  {
   "cell_type": "code",
   "execution_count": 4,
   "metadata": {},
   "outputs": [
    {
     "data": {
      "text/plain": [
       "array([[4., 4., 4., 4.],\n",
       "       [3., 3., 3., 3.],\n",
       "       [0., 0., 0., 0.],\n",
       "       [1., 1., 1., 1.],\n",
       "       [5., 5., 5., 5.]])"
      ]
     },
     "execution_count": 4,
     "metadata": {},
     "output_type": "execute_result"
    }
   ],
   "source": [
    "arr4[[4, 3, 0, 1, 5]]"
   ]
  },
  {
   "cell_type": "code",
   "execution_count": 6,
   "metadata": {},
   "outputs": [
    {
     "data": {
      "text/plain": [
       "array([[5., 5., 5., 5.],\n",
       "       [3., 3., 3., 3.],\n",
       "       [1., 1., 1., 1.]])"
      ]
     },
     "execution_count": 6,
     "metadata": {},
     "output_type": "execute_result"
    }
   ],
   "source": [
    "arr4[[-3,-5,-7]]"
   ]
  },
  {
   "cell_type": "code",
   "execution_count": 10,
   "metadata": {},
   "outputs": [
    {
     "data": {
      "text/plain": [
       "array([[ 0,  1,  2,  3],\n",
       "       [ 4,  5,  6,  7],\n",
       "       [ 8,  9, 10, 11],\n",
       "       [12, 13, 14, 15],\n",
       "       [16, 17, 18, 19],\n",
       "       [20, 21, 22, 23],\n",
       "       [24, 25, 26, 27],\n",
       "       [28, 29, 30, 31]])"
      ]
     },
     "execution_count": 10,
     "metadata": {},
     "output_type": "execute_result"
    }
   ],
   "source": [
    "arr5 = np.arange(32).reshape(8,4)\n",
    "arr5"
   ]
  },
  {
   "cell_type": "code",
   "execution_count": 13,
   "metadata": {},
   "outputs": [
    {
     "data": {
      "text/plain": [
       "array([[ 4, 23, 29, 10]])"
      ]
     },
     "execution_count": 13,
     "metadata": {},
     "output_type": "execute_result"
    }
   ],
   "source": [
    "arr5[[1,5,7,2],[[0,3,1,2]]]"
   ]
  },
  {
   "cell_type": "markdown",
   "metadata": {},
   "source": [
    "### Transposição de arrays e troca de eixo"
   ]
  },
  {
   "cell_type": "code",
   "execution_count": 14,
   "metadata": {},
   "outputs": [
    {
     "data": {
      "text/plain": [
       "array([[ 0,  1,  2,  3,  4],\n",
       "       [ 5,  6,  7,  8,  9],\n",
       "       [10, 11, 12, 13, 14]])"
      ]
     },
     "execution_count": 14,
     "metadata": {},
     "output_type": "execute_result"
    }
   ],
   "source": [
    "arrTranspo = np.arange(15).reshape((3,5))\n",
    "arrTranspo"
   ]
  },
  {
   "cell_type": "code",
   "execution_count": 15,
   "metadata": {},
   "outputs": [
    {
     "data": {
      "text/plain": [
       "array([[ 0,  5, 10],\n",
       "       [ 1,  6, 11],\n",
       "       [ 2,  7, 12],\n",
       "       [ 3,  8, 13],\n",
       "       [ 4,  9, 14]])"
      ]
     },
     "execution_count": 15,
     "metadata": {},
     "output_type": "execute_result"
    }
   ],
   "source": [
    "# método transpose (T)\n",
    "arrTranspo.T"
   ]
  },
  {
   "cell_type": "code",
   "execution_count": 16,
   "metadata": {},
   "outputs": [
    {
     "data": {
      "text/plain": [
       "array([[ 1.01963368,  0.72539585, -1.61612136],\n",
       "       [-0.41235152,  1.23383213, -0.85838314],\n",
       "       [ 1.33092593, -0.68721977, -0.26718704],\n",
       "       [-0.16909161, -0.17117718,  1.95199728],\n",
       "       [ 1.46769544, -0.88844572,  2.43762468],\n",
       "       [-0.03547628, -1.07802505,  1.81038808]])"
      ]
     },
     "execution_count": 16,
     "metadata": {},
     "output_type": "execute_result"
    }
   ],
   "source": [
    "arrMat = np.random.randn(6,3)\n",
    "arrMat"
   ]
  },
  {
   "cell_type": "code",
   "execution_count": 19,
   "metadata": {},
   "outputs": [
    {
     "data": {
      "text/plain": [
       "array([[ 5.16503089, -1.92055191,  1.53389608],\n",
       "       [-1.92055191,  4.50158732, -6.49929051],\n",
       "       [ 1.53389608, -6.49929051, 16.44987124]])"
      ]
     },
     "execution_count": 19,
     "metadata": {},
     "output_type": "execute_result"
    }
   ],
   "source": [
    "np.dot(arrMat.T, arrMat)"
   ]
  },
  {
   "cell_type": "code",
   "execution_count": 20,
   "metadata": {},
   "outputs": [
    {
     "data": {
      "text/plain": [
       "array([[[ 0,  1,  2,  3],\n",
       "        [ 4,  5,  6,  7]],\n",
       "\n",
       "       [[ 8,  9, 10, 11],\n",
       "        [12, 13, 14, 15]]])"
      ]
     },
     "execution_count": 20,
     "metadata": {},
     "output_type": "execute_result"
    }
   ],
   "source": [
    "# Para arrays de dimensões maiores, transpose aceitará uma tupla de números de eixos para permutá-los\n",
    "\n",
    "arrMaj = np.arange(16).reshape((2,2,4))\n",
    "arrMaj"
   ]
  },
  {
   "cell_type": "code",
   "execution_count": 27,
   "metadata": {},
   "outputs": [
    {
     "data": {
      "text/plain": [
       "array([[[ 0,  8],\n",
       "        [ 4, 12]],\n",
       "\n",
       "       [[ 1,  9],\n",
       "        [ 5, 13]],\n",
       "\n",
       "       [[ 2, 10],\n",
       "        [ 6, 14]],\n",
       "\n",
       "       [[ 3, 11],\n",
       "        [ 7, 15]]])"
      ]
     },
     "execution_count": 27,
     "metadata": {},
     "output_type": "execute_result"
    }
   ],
   "source": [
    "arrMaj.T"
   ]
  },
  {
   "cell_type": "code",
   "execution_count": 29,
   "metadata": {},
   "outputs": [
    {
     "data": {
      "text/plain": [
       "array([[[ 0,  1,  2,  3],\n",
       "        [ 8,  9, 10, 11]],\n",
       "\n",
       "       [[ 4,  5,  6,  7],\n",
       "        [12, 13, 14, 15]]])"
      ]
     },
     "execution_count": 29,
     "metadata": {},
     "output_type": "execute_result"
    }
   ],
   "source": [
    "arrMaj.swapaxes(1, 0) # devolve uma reorganização dos eixos sem gerar uma cópia"
   ]
  },
  {
   "cell_type": "markdown",
   "metadata": {},
   "source": [
    "### Funções rápidas de arrays para todos os elementos"
   ]
  },
  {
   "cell_type": "code",
   "execution_count": 31,
   "metadata": {},
   "outputs": [
    {
     "data": {
      "text/plain": [
       "array([0, 1, 2, 3, 4, 5, 6, 7, 8, 9])"
      ]
     },
     "execution_count": 31,
     "metadata": {},
     "output_type": "execute_result"
    }
   ],
   "source": [
    "arrOp = np.arange(10)\n",
    "arrOp"
   ]
  },
  {
   "cell_type": "code",
   "execution_count": 32,
   "metadata": {},
   "outputs": [
    {
     "data": {
      "text/plain": [
       "array([0.        , 1.        , 1.41421356, 1.73205081, 2.        ,\n",
       "       2.23606798, 2.44948974, 2.64575131, 2.82842712, 3.        ])"
      ]
     },
     "execution_count": 32,
     "metadata": {},
     "output_type": "execute_result"
    }
   ],
   "source": [
    "np.sqrt(arrOp)"
   ]
  },
  {
   "cell_type": "code",
   "execution_count": 33,
   "metadata": {},
   "outputs": [
    {
     "data": {
      "text/plain": [
       "array([1.00000000e+00, 2.71828183e+00, 7.38905610e+00, 2.00855369e+01,\n",
       "       5.45981500e+01, 1.48413159e+02, 4.03428793e+02, 1.09663316e+03,\n",
       "       2.98095799e+03, 8.10308393e+03])"
      ]
     },
     "execution_count": 33,
     "metadata": {},
     "output_type": "execute_result"
    }
   ],
   "source": [
    "np.exp(arrOp)"
   ]
  },
  {
   "cell_type": "code",
   "execution_count": 73,
   "metadata": {},
   "outputs": [
    {
     "data": {
      "text/plain": [
       "array([-0.48805109, -1.80762504, -0.73284489, -0.28833146, -0.18883146,\n",
       "        0.92479514,  0.73221645,  0.93037255])"
      ]
     },
     "execution_count": 73,
     "metadata": {},
     "output_type": "execute_result"
    }
   ],
   "source": [
    "x = np.random.randn(8)\n",
    "x"
   ]
  },
  {
   "cell_type": "code",
   "execution_count": 74,
   "metadata": {},
   "outputs": [
    {
     "data": {
      "text/plain": [
       "array([ 0.32515424, -0.31112738, -0.4489985 , -0.67065162,  0.86331513,\n",
       "        0.07511583,  0.28435731,  0.77811545])"
      ]
     },
     "execution_count": 74,
     "metadata": {},
     "output_type": "execute_result"
    }
   ],
   "source": [
    "y = np.random.randn(8)\n",
    "y"
   ]
  },
  {
   "cell_type": "code",
   "execution_count": 36,
   "metadata": {},
   "outputs": [
    {
     "data": {
      "text/plain": [
       "array([ 2.54957908,  1.94341525,  0.34187323, -0.01763329,  0.17555   ,\n",
       "       -0.50018397,  1.13848603,  0.54365427])"
      ]
     },
     "execution_count": 36,
     "metadata": {},
     "output_type": "execute_result"
    }
   ],
   "source": [
    "# np.maximum calculou o máximo entre os elementos de x e y para todos os elementos\n",
    "np.maximum(x, y)"
   ]
  },
  {
   "cell_type": "code",
   "execution_count": 37,
   "metadata": {},
   "outputs": [
    {
     "data": {
      "text/plain": [
       "array([ 0.14453714, -0.05412805, -1.58453147, -1.18088188,  0.02324338,\n",
       "       -1.14710939,  0.46726711, -1.29717193])"
      ]
     },
     "execution_count": 37,
     "metadata": {},
     "output_type": "execute_result"
    }
   ],
   "source": [
    "np.minimum(x, y)"
   ]
  },
  {
   "cell_type": "code",
   "execution_count": 40,
   "metadata": {},
   "outputs": [],
   "source": [
    "arr6 = np.random.randn(8)\n"
   ]
  },
  {
   "cell_type": "code",
   "execution_count": 41,
   "metadata": {},
   "outputs": [
    {
     "data": {
      "text/plain": [
       "array([ 0.92639595,  1.25273275,  0.4021988 ,  2.65441018, -0.20784794,\n",
       "        0.33024226, -2.08725113, -1.5931946 ])"
      ]
     },
     "execution_count": 41,
     "metadata": {},
     "output_type": "execute_result"
    }
   ],
   "source": [
    "arr6"
   ]
  },
  {
   "cell_type": "code",
   "execution_count": 44,
   "metadata": {},
   "outputs": [
    {
     "data": {
      "text/plain": [
       "array([0.92639595, 1.25273275, 0.4021988 , 2.65441018, 0.20784794,\n",
       "       0.33024226, 2.08725113, 1.5931946 ])"
      ]
     },
     "execution_count": 44,
     "metadata": {},
     "output_type": "execute_result"
    }
   ],
   "source": [
    "abs(arr6)"
   ]
  },
  {
   "cell_type": "code",
   "execution_count": 52,
   "metadata": {},
   "outputs": [
    {
     "data": {
      "text/plain": [
       "array([0.92639595, 1.25273275, 0.4021988 , 2.65441018, 0.20784794,\n",
       "       0.33024226, 2.08725113, 1.5931946 ])"
      ]
     },
     "execution_count": 52,
     "metadata": {},
     "output_type": "execute_result"
    }
   ],
   "source": [
    "np.fabs(arr6)"
   ]
  },
  {
   "cell_type": "code",
   "execution_count": 53,
   "metadata": {},
   "outputs": [
    {
     "name": "stderr",
     "output_type": "stream",
     "text": [
      "C:\\Users\\Matheus\\AppData\\Local\\Temp\\ipykernel_8436\\3977227302.py:1: RuntimeWarning: invalid value encountered in sqrt\n",
      "  np.sqrt(arr6)\n"
     ]
    },
    {
     "data": {
      "text/plain": [
       "array([0.96249465, 1.11925545, 0.63419146, 1.62923607,        nan,\n",
       "       0.57466708,        nan,        nan])"
      ]
     },
     "execution_count": 53,
     "metadata": {},
     "output_type": "execute_result"
    }
   ],
   "source": [
    " np.sqrt(arr6)"
   ]
  },
  {
   "cell_type": "code",
   "execution_count": 54,
   "metadata": {},
   "outputs": [
    {
     "data": {
      "text/plain": [
       "array([ 2.52539113,  3.49989424,  1.49510853, 14.21659833,  0.81233055,\n",
       "        1.39130514,  0.1240276 ,  0.20327519])"
      ]
     },
     "execution_count": 54,
     "metadata": {},
     "output_type": "execute_result"
    }
   ],
   "source": [
    "np.exp(arr6)"
   ]
  },
  {
   "cell_type": "code",
   "execution_count": 56,
   "metadata": {},
   "outputs": [
    {
     "name": "stderr",
     "output_type": "stream",
     "text": [
      "C:\\Users\\Matheus\\AppData\\Local\\Temp\\ipykernel_8436\\1331963428.py:1: RuntimeWarning: invalid value encountered in log10\n",
      "  np.log10(arr6), np.log2(arr6)\n",
      "C:\\Users\\Matheus\\AppData\\Local\\Temp\\ipykernel_8436\\1331963428.py:1: RuntimeWarning: invalid value encountered in log2\n",
      "  np.log10(arr6), np.log2(arr6)\n"
     ]
    },
    {
     "data": {
      "text/plain": [
       "(array([-0.03320335,  0.09785843, -0.39555923,  0.42396803,         nan,\n",
       "        -0.48116736,         nan,         nan]),\n",
       " array([-0.11029914,  0.32507867, -1.31401931,  1.40839132,         nan,\n",
       "        -1.59840336,         nan,         nan]))"
      ]
     },
     "execution_count": 56,
     "metadata": {},
     "output_type": "execute_result"
    }
   ],
   "source": [
    "np.log10(arr6), np.log2(arr6)"
   ]
  },
  {
   "cell_type": "code",
   "execution_count": 57,
   "metadata": {},
   "outputs": [
    {
     "data": {
      "text/plain": [
       "array([ 1.,  1.,  1.,  1., -1.,  1., -1., -1.])"
      ]
     },
     "execution_count": 57,
     "metadata": {},
     "output_type": "execute_result"
    }
   ],
   "source": [
    "np.sign(arr6)"
   ]
  },
  {
   "cell_type": "code",
   "execution_count": 58,
   "metadata": {},
   "outputs": [
    {
     "data": {
      "text/plain": [
       "array([ 1.,  2.,  1.,  3., -0.,  1., -2., -1.])"
      ]
     },
     "execution_count": 58,
     "metadata": {},
     "output_type": "execute_result"
    }
   ],
   "source": [
    "np.ceil(arr6)"
   ]
  },
  {
   "cell_type": "code",
   "execution_count": 59,
   "metadata": {},
   "outputs": [
    {
     "data": {
      "text/plain": [
       "array([ 0.,  1.,  0.,  2., -1.,  0., -3., -2.])"
      ]
     },
     "execution_count": 59,
     "metadata": {},
     "output_type": "execute_result"
    }
   ],
   "source": [
    "np.floor(arr6)"
   ]
  },
  {
   "cell_type": "code",
   "execution_count": 60,
   "metadata": {},
   "outputs": [
    {
     "data": {
      "text/plain": [
       "array([ 1.,  1.,  0.,  3., -0.,  0., -2., -2.])"
      ]
     },
     "execution_count": 60,
     "metadata": {},
     "output_type": "execute_result"
    }
   ],
   "source": [
    "np.rint(arr6)"
   ]
  },
  {
   "cell_type": "code",
   "execution_count": 61,
   "metadata": {},
   "outputs": [
    {
     "data": {
      "text/plain": [
       "(array([ 0.92639595,  0.25273275,  0.4021988 ,  0.65441018, -0.20784794,\n",
       "         0.33024226, -0.08725113, -0.5931946 ]),\n",
       " array([ 0.,  1.,  0.,  2., -0.,  0., -2., -1.]))"
      ]
     },
     "execution_count": 61,
     "metadata": {},
     "output_type": "execute_result"
    }
   ],
   "source": [
    "np.modf(arr6)"
   ]
  },
  {
   "cell_type": "code",
   "execution_count": 62,
   "metadata": {},
   "outputs": [
    {
     "data": {
      "text/plain": [
       "array([False, False, False, False, False, False, False, False])"
      ]
     },
     "execution_count": 62,
     "metadata": {},
     "output_type": "execute_result"
    }
   ],
   "source": [
    "np.isnan(arr6)"
   ]
  },
  {
   "cell_type": "code",
   "execution_count": 64,
   "metadata": {},
   "outputs": [
    {
     "data": {
      "text/plain": [
       "(array([ True,  True,  True,  True,  True,  True,  True,  True]),\n",
       " array([False, False, False, False, False, False, False, False]))"
      ]
     },
     "execution_count": 64,
     "metadata": {},
     "output_type": "execute_result"
    }
   ],
   "source": [
    "np.isfinite(arr6), np.isinf(arr6)"
   ]
  },
  {
   "cell_type": "code",
   "execution_count": 66,
   "metadata": {},
   "outputs": [
    {
     "data": {
      "text/plain": [
       "(array([ 0.60071917,  0.31272785,  0.92020251, -0.88365535,  0.97847727,\n",
       "         0.94596381, -0.49380043, -0.0223964 ]),\n",
       " array([1.4606847 , 1.89280858, 1.08197815, 7.14346932, 1.02167826,\n",
       "        1.05502737, 4.09337444, 2.56135734]),\n",
       " array([ 0.79946012,  0.94984277,  0.39144263,  0.46813803, -0.20635464,\n",
       "         0.3242722 , -0.86957526, -0.99974917]),\n",
       " array([ 1.06470643,  1.60708566,  0.41313038,  7.07312901, -0.20934771,\n",
       "         0.33627777, -3.96934684, -2.35808215]),\n",
       " array([ 1.33083837,  3.03728235,  0.42538748, -0.52977445, -0.21089365,\n",
       "         0.34279557,  1.76098523, 44.6388368 ]),\n",
       " array([ 0.72890914,  0.84904817,  0.38182877,  0.9901532 , -0.20490571,\n",
       "         0.31873844, -0.9697004 , -0.92063771]))"
      ]
     },
     "execution_count": 66,
     "metadata": {},
     "output_type": "execute_result"
    }
   ],
   "source": [
    "# funções trigonometricas regulares e hiperbólicas\n",
    "\n",
    "np.cos(arr6), np.cosh(arr6), np.sin(arr6), np.sinh(arr6), np.tan(arr6), np.tanh(arr6)"
   ]
  },
  {
   "cell_type": "code",
   "execution_count": 67,
   "metadata": {},
   "outputs": [
    {
     "name": "stderr",
     "output_type": "stream",
     "text": [
      "C:\\Users\\Matheus\\AppData\\Local\\Temp\\ipykernel_8436\\337161027.py:3: RuntimeWarning: invalid value encountered in arccos\n",
      "  np.arccos(arr6), np.arccosh(arr6), np.arcsin(arr6), np.arcsin(arr6), np.arcsinh(arr6), np.arctan(arr6), np.arctanh(arr6)\n",
      "C:\\Users\\Matheus\\AppData\\Local\\Temp\\ipykernel_8436\\337161027.py:3: RuntimeWarning: invalid value encountered in arccosh\n",
      "  np.arccos(arr6), np.arccosh(arr6), np.arcsin(arr6), np.arcsin(arr6), np.arcsinh(arr6), np.arctan(arr6), np.arctanh(arr6)\n",
      "C:\\Users\\Matheus\\AppData\\Local\\Temp\\ipykernel_8436\\337161027.py:3: RuntimeWarning: invalid value encountered in arcsin\n",
      "  np.arccos(arr6), np.arccosh(arr6), np.arcsin(arr6), np.arcsin(arr6), np.arcsinh(arr6), np.arctan(arr6), np.arctanh(arr6)\n",
      "C:\\Users\\Matheus\\AppData\\Local\\Temp\\ipykernel_8436\\337161027.py:3: RuntimeWarning: invalid value encountered in arctanh\n",
      "  np.arccos(arr6), np.arccosh(arr6), np.arcsin(arr6), np.arcsin(arr6), np.arcsinh(arr6), np.arctan(arr6), np.arctanh(arr6)\n"
     ]
    },
    {
     "data": {
      "text/plain": [
       "(array([0.38607026,        nan, 1.15687913,        nan, 1.78017066,\n",
       "        1.23423611,        nan,        nan]),\n",
       " array([       nan, 0.69677985,        nan, 1.63183521,        nan,\n",
       "               nan,        nan,        nan]),\n",
       " array([ 1.18472606,         nan,  0.4139172 ,         nan, -0.20937434,\n",
       "         0.33656022,         nan,         nan]),\n",
       " array([ 1.18472606,         nan,  0.4139172 ,         nan, -0.20937434,\n",
       "         0.33656022,         nan,         nan]),\n",
       " array([ 0.82835858,  1.04929901,  0.39207608,  1.7030992 , -0.20637978,\n",
       "         0.32451634, -1.48198807, -1.24537095]),\n",
       " array([ 0.74720858,  0.8971204 ,  0.38240046,  1.21050847, -0.20493014,\n",
       "         0.31896601, -1.12400886, -1.01027952]),\n",
       " array([ 1.63235308,         nan,  0.4262693 ,         nan, -0.21092106,\n",
       "         0.34310014,         nan,         nan]))"
      ]
     },
     "execution_count": 67,
     "metadata": {},
     "output_type": "execute_result"
    }
   ],
   "source": [
    "# Funções trigonométricas inversas\n",
    "\n",
    "np.arccos(arr6), np.arccosh(arr6), np.arcsin(arr6), np.arcsin(arr6), np.arcsinh(arr6), np.arctan(arr6), np.arctanh(arr6)"
   ]
  },
  {
   "cell_type": "code",
   "execution_count": 69,
   "metadata": {},
   "outputs": [
    {
     "data": {
      "text/plain": [
       "array([False, False, False, False, False, False, False, False])"
      ]
     },
     "execution_count": 69,
     "metadata": {},
     "output_type": "execute_result"
    }
   ],
   "source": [
    "np.logical_not(arr6) # equivalente a ~arr"
   ]
  },
  {
   "cell_type": "code",
   "execution_count": 76,
   "metadata": {},
   "outputs": [
    {
     "data": {
      "text/plain": [
       "(array([-0.16289685, -2.11875242, -1.18184339, -0.95898308,  0.67448367,\n",
       "         0.99991097,  1.01657376,  1.708488  ]),\n",
       " array([-0.81320533, -1.49649767, -0.28384638,  0.38232016, -1.05214659,\n",
       "         0.84967932,  0.44785913,  0.1522571 ]),\n",
       " array([-0.15869188,  0.56240164,  0.32904626,  0.19336996, -0.16302106,\n",
       "         0.06946675,  0.2082111 ,  0.72393726]),\n",
       " array([-1.50098331,  5.80991959,  1.63217668,  0.42992733, -0.21872831,\n",
       "        12.31158841,  2.57498721,  1.19567417]))"
      ]
     },
     "execution_count": 76,
     "metadata": {},
     "output_type": "execute_result"
    }
   ],
   "source": [
    "np.add(x,y), np.subtract(x,y), np.multiply(x, y), np.divide(x,y)"
   ]
  },
  {
   "cell_type": "code",
   "execution_count": 78,
   "metadata": {},
   "outputs": [
    {
     "name": "stderr",
     "output_type": "stream",
     "text": [
      "C:\\Users\\Matheus\\AppData\\Local\\Temp\\ipykernel_8436\\3532458535.py:1: RuntimeWarning: invalid value encountered in power\n",
      "  np.floor_divide(x,y), np.power(x,y), np.mod(x,y), np.copysign(y,x)\n"
     ]
    },
    {
     "data": {
      "text/plain": [
       "(array([-2.,  5.,  1.,  0., -1., 12.,  2.,  1.]),\n",
       " array([       nan,        nan,        nan,        nan,        nan,\n",
       "        0.99414443, 0.91518574, 0.94539095]),\n",
       " array([ 0.16225739, -0.25198816, -0.28384638, -0.28833146,  0.67448367,\n",
       "         0.02340522,  0.16350182,  0.1522571 ]),\n",
       " array([-0.32515424, -0.31112738, -0.4489985 , -0.67065162, -0.86331513,\n",
       "         0.07511583,  0.28435731,  0.77811545]))"
      ]
     },
     "execution_count": 78,
     "metadata": {},
     "output_type": "execute_result"
    }
   ],
   "source": [
    "np.floor_divide(x,y), np.power(x,y), np.mod(x,y), np.copysign(y,x)"
   ]
  },
  {
   "cell_type": "code",
   "execution_count": 79,
   "metadata": {},
   "outputs": [
    {
     "data": {
      "text/plain": [
       "(array([ True,  True,  True,  True,  True,  True,  True,  True]),\n",
       " array([ True,  True,  True,  True,  True,  True,  True,  True]),\n",
       " array([False, False, False, False, False, False, False, False]))"
      ]
     },
     "execution_count": 79,
     "metadata": {},
     "output_type": "execute_result"
    }
   ],
   "source": [
    "# Calcula o valor-verdade da operação lógica para todos os elementos\n",
    "\n",
    "np.logical_and(x,y), np.logical_or(x,y), np.logical_xor(x,y)"
   ]
  },
  {
   "cell_type": "code",
   "execution_count": 82,
   "metadata": {},
   "outputs": [
    {
     "data": {
      "text/plain": [
       "(array([False, False, False,  True, False,  True,  True,  True]),\n",
       " array([False, False, False,  True, False,  True,  True,  True]),\n",
       " array([ True,  True,  True, False,  True, False, False, False]),\n",
       " array([ True,  True,  True, False,  True, False, False, False]),\n",
       " array([False, False, False, False, False, False, False, False]),\n",
       " array([ True,  True,  True,  True,  True,  True,  True,  True]))"
      ]
     },
     "execution_count": 82,
     "metadata": {},
     "output_type": "execute_result"
    }
   ],
   "source": [
    "# faz uma comparação para todos os elementos, produzindo um array booleano\n",
    "\n",
    "np.greater(x,y), np.greater_equal(x,y), np.less(x,y), np.less_equal(x,y), np.equal(x,y), np.not_equal(x,y)"
   ]
  },
  {
   "cell_type": "markdown",
   "metadata": {},
   "source": [
    "### Programação orientada a arrays"
   ]
  },
  {
   "cell_type": "code",
   "execution_count": 83,
   "metadata": {},
   "outputs": [],
   "source": [
    "points = np.arange(-5,5,0.01)"
   ]
  },
  {
   "cell_type": "code",
   "execution_count": 84,
   "metadata": {},
   "outputs": [],
   "source": [
    "xs, ys = np.meshgrid(points, points)"
   ]
  },
  {
   "cell_type": "code",
   "execution_count": 85,
   "metadata": {},
   "outputs": [
    {
     "data": {
      "text/plain": [
       "array([[-5.  , -5.  , -5.  , ..., -5.  , -5.  , -5.  ],\n",
       "       [-4.99, -4.99, -4.99, ..., -4.99, -4.99, -4.99],\n",
       "       [-4.98, -4.98, -4.98, ..., -4.98, -4.98, -4.98],\n",
       "       ...,\n",
       "       [ 4.97,  4.97,  4.97, ...,  4.97,  4.97,  4.97],\n",
       "       [ 4.98,  4.98,  4.98, ...,  4.98,  4.98,  4.98],\n",
       "       [ 4.99,  4.99,  4.99, ...,  4.99,  4.99,  4.99]])"
      ]
     },
     "execution_count": 85,
     "metadata": {},
     "output_type": "execute_result"
    }
   ],
   "source": [
    "ys"
   ]
  },
  {
   "cell_type": "code",
   "execution_count": null,
   "metadata": {},
   "outputs": [],
   "source": []
  },
  {
   "cell_type": "code",
   "execution_count": null,
   "metadata": {},
   "outputs": [],
   "source": []
  },
  {
   "cell_type": "code",
   "execution_count": null,
   "metadata": {},
   "outputs": [],
   "source": []
  },
  {
   "cell_type": "code",
   "execution_count": null,
   "metadata": {},
   "outputs": [],
   "source": []
  },
  {
   "cell_type": "code",
   "execution_count": null,
   "metadata": {},
   "outputs": [],
   "source": []
  },
  {
   "cell_type": "code",
   "execution_count": null,
   "metadata": {},
   "outputs": [],
   "source": []
  },
  {
   "cell_type": "code",
   "execution_count": null,
   "metadata": {},
   "outputs": [],
   "source": []
  },
  {
   "cell_type": "code",
   "execution_count": null,
   "metadata": {},
   "outputs": [],
   "source": []
  },
  {
   "cell_type": "code",
   "execution_count": null,
   "metadata": {},
   "outputs": [],
   "source": []
  },
  {
   "cell_type": "code",
   "execution_count": null,
   "metadata": {},
   "outputs": [],
   "source": []
  },
  {
   "cell_type": "code",
   "execution_count": null,
   "metadata": {},
   "outputs": [],
   "source": []
  }
 ],
 "metadata": {
  "kernelspec": {
   "display_name": "Python 3 (ipykernel)",
   "language": "python",
   "name": "python3"
  },
  "language_info": {
   "codemirror_mode": {
    "name": "ipython",
    "version": 3
   },
   "file_extension": ".py",
   "mimetype": "text/x-python",
   "name": "python",
   "nbconvert_exporter": "python",
   "pygments_lexer": "ipython3",
   "version": "3.9.12"
  },
  "vscode": {
   "interpreter": {
    "hash": "369f2c481f4da34e4445cda3fffd2e751bd1c4d706f27375911949ba6bb62e1c"
   }
  }
 },
 "nbformat": 4,
 "nbformat_minor": 2
}
